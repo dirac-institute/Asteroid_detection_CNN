{
 "cells": [
  {
   "cell_type": "code",
   "execution_count": 1,
   "id": "ce74e656",
   "metadata": {},
   "source": [
    "import tensorflow as tf\n",
    "import keras_tuner as kt\n",
    "import sys\n",
    "sys.path.append(\"..\")\n",
    "import tools\n",
    "%load_ext autoreload\n",
    "%autoreload 2"
   ],
   "outputs": []
  },
  {
   "cell_type": "code",
   "execution_count": 2,
   "id": "459f5763",
   "metadata": {},
   "source": [
    "dataset_train = tf.data.TFRecordDataset([\"../DATA/train1.tfrecord\"])\n",
    "tfrecord_shape = tools.model.get_shape_of_quadratic_image_tfrecord(dataset_train)\n",
    "dataset_train = dataset_train.map(tools.model.parse_function(img_shape=tfrecord_shape, test=False))\n",
    "dataset_train = dataset_train.shuffle(5 * 128).batch(128).prefetch(2)\n",
    "dataset_val = tf.data.TFRecordDataset([\"../DATA/test1.tfrecord\"])\n",
    "dataset_val = dataset_val.map(tools.model.parse_function(img_shape=tfrecord_shape, test=False))\n",
    "dataset_val = dataset_val.batch(128).prefetch(2)\n",
    "strategy = tf.distribute.get_strategy()\n",
    "FE = tf.keras.losses.BinaryFocalCrossentropy(apply_class_balancing=True, alpha=0.95)\n",
    "CE = tf.keras.losses.BinaryCrossentropy()\n",
    "earlystopping_kb = tf.keras.callbacks.EarlyStopping(monitor='val_loss', patience=5 * 6,\n",
    "                                                    verbose=1,\n",
    "                                                    restore_best_weights=True)\n",
    "terminateonnan_kb = tf.keras.callbacks.TerminateOnNaN()\n",
    "reducelronplateau_kb = tf.keras.callbacks.ReduceLROnPlateau(monitor='val_loss', factor=0.95,\n",
    "                                                            patience=6, verbose=1)\n",
    "tuner = kt.Hyperband(hypermodel=tools.hypertuneModels.StockHyperModel(tfrecord_shape, tools.model.custom_loss_sum([FE, CE])),\n",
    "                    objective=kt.Objective('val_f1_score', \"max\"),\n",
    "                    max_epochs=64,\n",
    "                    factor=int(4),\n",
    "                    hyperband_iterations=64,\n",
    "                    directory=\"/astro/users/kmrakovc/Projects/Tuner\",\n",
    "                    overwrite=False,\n",
    "                    project_name=\"AsteroidsNN_Tuner\",\n",
    "                    distribution_strategy=strategy)"
   ],
   "outputs": []
  },
  {
   "cell_type": "code",
   "execution_count": null,
   "id": "11304e05",
   "metadata": {},
   "source": [
    "best_hps = tools.hypertuneModels.get_best_hyperparameters(tuner, num_trials=10)"
   ],
   "outputs": []
  },
  {
   "cell_type": "code",
   "execution_count": null,
   "id": "c47043b3",
   "metadata": {},
   "source": [
    "best_hps"
   ],
   "outputs": []
  },
  {
   "cell_type": "code",
   "execution_count": null,
   "id": "6a5cc29e",
   "metadata": {},
   "source": [],
   "outputs": []
  }
 ],
 "metadata": {
  "kernelspec": {
   "display_name": "LSST pipeline",
   "language": "python",
   "name": "kmrakovc_lsst"
  },
  "language_info": {
   "codemirror_mode": {
    "name": "ipython",
    "version": 3
   },
   "file_extension": ".py",
   "mimetype": "text/x-python",
   "name": "python",
   "nbconvert_exporter": "python",
   "pygments_lexer": "ipython3",
   "version": "3.11.7"
  }
 },
 "nbformat": 4,
 "nbformat_minor": 5
}
