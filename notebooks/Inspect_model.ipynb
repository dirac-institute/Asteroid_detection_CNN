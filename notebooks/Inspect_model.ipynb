{
 "cells": [
  {
   "cell_type": "code",
   "execution_count": 1,
   "id": "380ea93d",
   "metadata": {},
   "outputs": [],
   "source": [
    "!fuser -k /dev/nvidia0"
   ]
  },
  {
   "cell_type": "code",
   "execution_count": 2,
   "id": "d3158a83",
   "metadata": {},
   "outputs": [
    {
     "name": "stdout",
     "output_type": "stream",
     "text": [
      "Thu May 16 10:33:52 2024       \r\n",
      "+---------------------------------------------------------------------------------------+\r\n",
      "| NVIDIA-SMI 545.23.06              Driver Version: 545.23.06    CUDA Version: 12.3     |\r\n",
      "|-----------------------------------------+----------------------+----------------------+\r\n",
      "| GPU  Name                 Persistence-M | Bus-Id        Disp.A | Volatile Uncorr. ECC |\r\n",
      "| Fan  Temp   Perf          Pwr:Usage/Cap |         Memory-Usage | GPU-Util  Compute M. |\r\n",
      "|                                         |                      |               MIG M. |\r\n",
      "|=========================================+======================+======================|\r\n",
      "|   0  NVIDIA GeForce RTX 2080 Ti     Off | 00000000:21:00.0  On |                  N/A |\r\n",
      "| 56%   59C    P8              23W / 260W |     55MiB / 11264MiB |      0%      Default |\r\n",
      "|                                         |                      |                  N/A |\r\n",
      "+-----------------------------------------+----------------------+----------------------+\r\n",
      "|   1  NVIDIA GeForce RTX 2080 Ti     Off | 00000000:48:00.0 Off |                  N/A |\r\n",
      "| 34%   35C    P8              13W / 260W |      1MiB / 11264MiB |      0%      Default |\r\n",
      "|                                         |                      |                  N/A |\r\n",
      "+-----------------------------------------+----------------------+----------------------+\r\n",
      "                                                                                         \r\n",
      "+---------------------------------------------------------------------------------------+\r\n",
      "| Processes:                                                                            |\r\n",
      "|  GPU   GI   CI        PID   Type   Process name                            GPU Memory |\r\n",
      "|        ID   ID                                                             Usage      |\r\n",
      "|=======================================================================================|\r\n",
      "|    0   N/A  N/A     67207      G   /usr/bin/X                                   39MiB |\r\n",
      "|    0   N/A  N/A     67268      G   /usr/bin/gnome-shell                         13MiB |\r\n",
      "+---------------------------------------------------------------------------------------+\r\n"
     ]
    }
   ],
   "source": [
    "!nvidia-smi"
   ]
  },
  {
   "cell_type": "code",
   "execution_count": 3,
   "id": "d62a2e77",
   "metadata": {},
   "outputs": [],
   "source": [
    "import sys\n",
    "sys.path.append(\"..\")\n",
    "import tools\n",
    "import evals\n",
    "import matplotlib.pyplot as plt\n",
    "import numpy as np\n",
    "from lsst.daf.butler import Butler\n",
    "import matplotlib as mpl\n",
    "%load_ext autoreload\n",
    "%autoreload 2"
   ]
  },
  {
   "cell_type": "code",
   "execution_count": 4,
   "id": "0d66a43d",
   "metadata": {},
   "outputs": [],
   "source": [
    "model_path = \"../DATA/Trained_model_0.keras\"\n",
    "tf_dataset_path = \"/astro/users/kmrakovc/Projects/LSST_Streak_Detection/DATA/\"\n",
    "collection = \"u/kmrakovc/\"\n",
    "val_index_path=\"/astro/users/kmrakovc/Projects/LSST_Streak_Detection/DATA/val_index1.npy\"\n",
    "repo_path =\"/epyc/ssd/users/kmrakovc/DATA/rc2_subset/SMALL_HSC/\"\n",
    "threshold = 0.5\n",
    "batch_size=10"
   ]
  },
  {
   "cell_type": "code",
   "execution_count": 5,
   "id": "5e28966e",
   "metadata": {},
   "outputs": [],
   "source": [
    "def get_magnitude_bin (repo, output_coll):\n",
    "    butler = Butler(repo)\n",
    "    injection_catalog_ids = list(butler.registry.queryDatasets(\"injected_postISRCCD_catalog\", collections=output_coll, instrument='HSC'))\n",
    "    min_mag = 100\n",
    "    max_mag = 0\n",
    "    for injection_catalog_id in injection_catalog_ids:\n",
    "        injection_catalog= butler.get(\"injected_postISRCCD_catalog\", \n",
    "                                      dataId=injection_catalog_id.dataId, \n",
    "                                      collections=output_coll,)\n",
    "        magnitudes = injection_catalog[\"mag\"]\n",
    "        min_mag = min (min_mag, injection_catalog[\"mag\"].min())\n",
    "        max_mag = max (max_mag, injection_catalog[\"mag\"].max())\n",
    "    return min_mag, max_mag\n",
    "    \n",
    "\n",
    "def plot_trail_histogram (NN_data, LSST_data, true_data=None):\n",
    "    fig, ax = plt.subplots()\n",
    "    bins = np.arange(4, 74, 5)\n",
    "    if true_data is not None:\n",
    "        ax.hist(true_data, bins=bins, histtype=\"step\", label=\"True asteroids\")\n",
    "    ax.hist(NN_data, bins=bins, histtype=\"step\", label=\"NN detected asteroids\")\n",
    "    ax.hist(LSST_data, bins=bins, histtype=\"step\", label=\"LSST stack detected asteroids\")\n",
    "    ax.set_xlabel(\"Trail length\")\n",
    "    ax.set_ylabel(\"Count\")\n",
    "    ax.legend()\n",
    "    return fig\n",
    "\n",
    "def plot_magnitude_histogram (NN_data, LSST_data, true_data=None):\n",
    "    fig, ax = plt.subplots()\n",
    "    bins=np.arange(20,25.5,0.5)\n",
    "    if true_data is not None:\n",
    "        ax.hist(true_data, bins=bins, histtype=\"step\", label=\"True asteroids\")\n",
    "    ax.hist(NN_data, bins=bins, histtype=\"step\", label=\"NN detected asteroids\")\n",
    "    ax.hist(LSST_data, bins=bins, histtype=\"step\", label=\"LSST stack detected asteroids\")\n",
    "    ax.set_xlabel(\"Magnitude\")\n",
    "    ax.set_ylabel(\"Count\")\n",
    "    ax.legend()\n",
    "    return fig"
   ]
  },
  {
   "cell_type": "code",
   "execution_count": 6,
   "id": "1ea95340",
   "metadata": {},
   "outputs": [],
   "source": [
    "def plot_mask_on_axis (mask, ax):\n",
    "    cmap = mpl.colors.ListedColormap(['white', 'green', 'cyan', 'red'])\n",
    "    ax.imshow(mask, cmap=cmap, interpolation='nearest')\n",
    "    ax.set_xticks([])\n",
    "    ax.set_yticks([])\n",
    "    labels = {0:'True Negative', 1:'True Positive', 2:'False Positive', 3:\"False Negative\"}    \n",
    "    patches =[mpl.patches.Patch(color=cmap.colors[i],label=labels[i]) for i in range(len(cmap.colors))]\n",
    "    ax.legend(handles=patches)\n",
    "    return ax\n",
    "\n",
    "def plot_input_on_axis (img, ax):\n",
    "    ax.imshow(img, cmap=\"grey\")\n",
    "    ax.set_xticks([])\n",
    "    ax.set_yticks([])\n",
    "    return ax"
   ]
  },
  {
   "cell_type": "code",
   "execution_count": 7,
   "id": "370d6a3a",
   "metadata": {},
   "outputs": [
    {
     "name": "stdout",
     "output_type": "stream",
     "text": [
      "INFO:tensorflow:Using MirroredStrategy with devices ('/job:localhost/replica:0/task:0/device:GPU:0', '/job:localhost/replica:0/task:0/device:GPU:1')\n",
      "INFO:tensorflow:Reduce to /job:localhost/replica:0/task:0/device:CPU:0 then broadcast to ('/job:localhost/replica:0/task:0/device:CPU:0',).\n",
      "INFO:tensorflow:Reduce to /job:localhost/replica:0/task:0/device:CPU:0 then broadcast to ('/job:localhost/replica:0/task:0/device:CPU:0',).\n",
      "INFO:tensorflow:Reduce to /job:localhost/replica:0/task:0/device:CPU:0 then broadcast to ('/job:localhost/replica:0/task:0/device:CPU:0',).\n",
      "INFO:tensorflow:Reduce to /job:localhost/replica:0/task:0/device:CPU:0 then broadcast to ('/job:localhost/replica:0/task:0/device:CPU:0',).\n",
      "INFO:tensorflow:Reduce to /job:localhost/replica:0/task:0/device:CPU:0 then broadcast to ('/job:localhost/replica:0/task:0/device:CPU:0',).\n",
      "INFO:tensorflow:Reduce to /job:localhost/replica:0/task:0/device:CPU:0 then broadcast to ('/job:localhost/replica:0/task:0/device:CPU:0',).\n",
      "INFO:tensorflow:Reduce to /job:localhost/replica:0/task:0/device:CPU:0 then broadcast to ('/job:localhost/replica:0/task:0/device:CPU:0',).\n",
      "INFO:tensorflow:Reduce to /job:localhost/replica:0/task:0/device:CPU:0 then broadcast to ('/job:localhost/replica:0/task:0/device:CPU:0',).\n",
      "INFO:tensorflow:Reduce to /job:localhost/replica:0/task:0/device:CPU:0 then broadcast to ('/job:localhost/replica:0/task:0/device:CPU:0',).\n",
      "INFO:tensorflow:Reduce to /job:localhost/replica:0/task:0/device:CPU:0 then broadcast to ('/job:localhost/replica:0/task:0/device:CPU:0',).\n",
      "NN  prediction 1 created\n",
      "INFO:tensorflow:Using MirroredStrategy with devices ('/job:localhost/replica:0/task:0/device:GPU:0', '/job:localhost/replica:0/task:0/device:GPU:1')\n",
      "NN  prediction 2 created\n",
      "INFO:tensorflow:Using MirroredStrategy with devices ('/job:localhost/replica:0/task:0/device:GPU:0', '/job:localhost/replica:0/task:0/device:GPU:1')\n",
      "NN  prediction 3 created\n",
      "INFO:tensorflow:Using MirroredStrategy with devices ('/job:localhost/replica:0/task:0/device:GPU:0', '/job:localhost/replica:0/task:0/device:GPU:1')\n",
      "NN  prediction 4 created\n"
     ]
    }
   ],
   "source": [
    "predictions_1 = evals.eval_tools.create_NN_prediction (tf_dataset_path+\"test1.tfrecord\", \n",
    "                                                       model_path, \n",
    "                                                       threshold=threshold)\n",
    "print (\"NN  prediction 1 created\")\n",
    "predictions_2 = evals.eval_tools.create_NN_prediction (tf_dataset_path+\"test2.tfrecord\", \n",
    "                                                       model_path, \n",
    "                                                       threshold=threshold)\n",
    "print (\"NN  prediction 2 created\")\n",
    "predictions_3 = evals.eval_tools.create_NN_prediction (tf_dataset_path+\"test3.tfrecord\", \n",
    "                                                       model_path, \n",
    "                                                       threshold=threshold)\n",
    "print (\"NN  prediction 3 created\")\n",
    "predictions_4 = evals.eval_tools.create_NN_prediction (tf_dataset_path+\"test4.tfrecord\", \n",
    "                                                       model_path, \n",
    "                                                       threshold=threshold)\n",
    "print (\"NN  prediction 4 created\")"
   ]
  },
  {
   "cell_type": "code",
   "execution_count": null,
   "id": "fc5df5bd",
   "metadata": {},
   "outputs": [
    {
     "name": "stdout",
     "output_type": "stream",
     "text": [
      "Scoring 1 done\n",
      "Scoring 2 done\n",
      "Scoring 3 done\n"
     ]
    }
   ],
   "source": [
    "inputs1, truths = tools.data.create_XY_pairs (tf_dataset_path+\"test1.tfrecord\")\n",
    "tp1, fp1, fn1, mask1 = evals.eval_tools.get_mask(truths, predictions_1, batch_size=batch_size)\n",
    "print (\"Scoring 1 done\")\n",
    "\n",
    "inputs2, truths = tools.data.create_XY_pairs (tf_dataset_path+\"test2.tfrecord\")\n",
    "tp2, fp2, fn2, mask2 = evals.eval_tools.get_mask(truths, predictions_2, batch_size=batch_size)\n",
    "print (\"Scoring 2 done\")\n",
    "\n",
    "inputs3, truths = tools.data.create_XY_pairs (tf_dataset_path+\"test3.tfrecord\")\n",
    "tp3, fp3, fn3, mask3 = evals.eval_tools.get_mask(truths, predictions_3, batch_size=batch_size)\n",
    "print (\"Scoring 3 done\")\n",
    "\n",
    "inputs4, truths = tools.data.create_XY_pairs (tf_dataset_path+\"test4.tfrecord\")\n",
    "tp4, fp4, fn4, mask4 = evals.eval_tools.get_mask(truths, predictions_4, batch_size=batch_size)\n",
    "print (\"Scoring 4 done\")"
   ]
  },
  {
   "cell_type": "code",
   "execution_count": null,
   "id": "78e7ad9a",
   "metadata": {},
   "outputs": [],
   "source": [
    "NN_detected_asteroids_1m, \\\n",
    "true_asteroids_1m = evals.eval_tools.NN_comparation_histogram_data (predictions_1,\n",
    "                                                                   val_index_path,\n",
    "                                                                   repo_path,\n",
    "                                                                   collection+\"single_frame_injection_01\",\n",
    "                                                                   column_name=\"mag\",\n",
    "                                                                   batch_size=batch_size)\n",
    "print (\"Histogram data for 1 magnitudes created\")\n",
    "NN_detected_asteroids_1t, \\\n",
    "true_asteroids_1t = evals.eval_tools.NN_comparation_histogram_data (predictions_1,\n",
    "                                                                    val_index_path,\n",
    "                                                                    repo_path,\n",
    "                                                                    collection+\"single_frame_injection_01\",\n",
    "                                                                    column_name=\"trail_length\",\n",
    "                                                                    batch_size=batch_size)\n",
    "print (\"Histogram data for 1 trail_length created\")\n",
    "NN_detected_asteroids_2, \\\n",
    "true_asteroids_2 = evals.eval_tools.NN_comparation_histogram_data (predictions_2,\n",
    "                                                                   val_index_path,\n",
    "                                                                   repo_path,\n",
    "                                                                   collection+\"single_frame_injection_02\",\n",
    "                                                                   column_name=\"trail_length\",\n",
    "                                                                   batch_size=batch_size)\n",
    "print (\"Histogram data for 2 trail_length created\")\n",
    "NN_detected_asteroids_3, \\\n",
    "true_asteroids_3 = evals.eval_tools.NN_comparation_histogram_data (predictions_3,\n",
    "                                                                   val_index_path,\n",
    "                                                                   repo_path,\n",
    "                                                                   collection+\"single_frame_injection_03\",\n",
    "                                                                   column_name=\"trail_length\",\n",
    "                                                                   batch_size=batch_size)\n",
    "print (\"Histogram data for 3 trail_length created\")\n",
    "NN_detected_asteroids_4, \\\n",
    "true_asteroids_4 = evals.eval_tools.NN_comparation_histogram_data (predictions_4,\n",
    "                                                                   val_index_path,\n",
    "                                                                   repo_path,\n",
    "                                                                   collection+\"single_frame_injection_04\",\n",
    "                                                                   column_name=\"trail_length\",\n",
    "                                                                   batch_size=batch_size)\n",
    "print (\"Histogram data for 4 trail_length created\")"
   ]
  },
  {
   "cell_type": "code",
   "execution_count": null,
   "id": "ce922494",
   "metadata": {},
   "outputs": [],
   "source": [
    "LSST_stack_detected_asteroids_1m= evals.eval_tools.LSST_stack_comparation_histogram_data(repo_path,\n",
    "                                                                                        collection+\"single_frame_injection_01\",\n",
    "                                                                                        val_index_path,\n",
    "                                                                                        batch_size=batch_size,\n",
    "                                                                                        column_name=\"mag\")\n",
    "print (\"LSST stack prediction 1m created\")\n",
    "LSST_stack_detected_asteroids_1t= evals.eval_tools.LSST_stack_comparation_histogram_data(repo_path,\n",
    "                                                                                        collection+\"single_frame_injection_01\",\n",
    "                                                                                        val_index_path,\n",
    "                                                                                        batch_size=batch_size)\n",
    "print (\"LSST stack prediction 1t created\")\n",
    "LSST_stack_detected_asteroids_2= evals.eval_tools.LSST_stack_comparation_histogram_data(repo_path,\n",
    "                                                                                        collection+\"single_frame_injection_02\",\n",
    "                                                                                        val_index_path,\n",
    "                                                                                        batch_size=batch_size)\n",
    "print (\"LSST stack prediction 2 created\")\n",
    "LSST_stack_detected_asteroids_3= evals.eval_tools.LSST_stack_comparation_histogram_data(repo_path,\n",
    "                                                                                        collection+\"single_frame_injection_03\",\n",
    "                                                                                        val_index_path,\n",
    "                                                                                        batch_size=batch_size)\n",
    "print (\"LSST stack prediction 3 created\")\n",
    "LSST_stack_detected_asteroids_4= evals.eval_tools.LSST_stack_comparation_histogram_data(repo_path,\n",
    "                                                                                        collection+\"single_frame_injection_04\",\n",
    "                                                                                        val_index_path,\n",
    "                                                                                        batch_size=batch_size)\n",
    "print (\"LSST stack prediction 4 created\")"
   ]
  },
  {
   "cell_type": "code",
   "execution_count": null,
   "id": "4a976133",
   "metadata": {
    "scrolled": false
   },
   "outputs": [],
   "source": [
    "fig_1m = plot_magnitude_histogram (NN_detected_asteroids_1m, LSST_stack_detected_asteroids_1m, true_asteroids_1m)\n",
    "tp=tp1.sum()\n",
    "fp=fp1.sum()\n",
    "fn=fn1.sum()\n",
    "print (\"True Positives:\", int(tp),\"False Positives:\", int(fp), \"False Negatives:\", int(fn))\n",
    "print (\"F1 score\", evals.eval_tools.f1_score (tp,fp,fn), \n",
    "       \"\\nPrecision\", evals.eval_tools.precision (tp,fp,fn), \n",
    "       \"\\nRecall\", evals.eval_tools.recall(tp,fp,fn))"
   ]
  },
  {
   "cell_type": "code",
   "execution_count": null,
   "id": "c85645dc",
   "metadata": {},
   "outputs": [],
   "source": [
    "fig_1t = plot_trail_histogram (NN_detected_asteroids_1t, LSST_stack_detected_asteroids_1t, true_asteroids_1t)\n",
    "minmag1, maxmag1 = get_magnitude_bin (repo_path, collection+\"single_frame_injection_01\")\n",
    "_ = fig_1t.suptitle(\"Magnitude: \"+str(round(minmag1, 1))+\" - \"+str(round(maxmag1, 1)))\n",
    "tp=tp1.sum()\n",
    "fp=fp1.sum()\n",
    "fn=fn1.sum()\n",
    "print (\"True Positives:\", int(tp),\"False Positives:\", int(fp), \"False Negatives:\", int(fn))\n",
    "print (\"F1 score\", evals.eval_tools.f1_score (tp,fp,fn), \n",
    "       \"\\nPrecision\", evals.eval_tools.precision (tp,fp,fn), \n",
    "       \"\\nRecall\", evals.eval_tools.recall(tp,fp,fn))"
   ]
  },
  {
   "cell_type": "code",
   "execution_count": null,
   "id": "96aa164d",
   "metadata": {},
   "outputs": [],
   "source": [
    "fig_2 = plot_trail_histogram (NN_detected_asteroids_2, LSST_stack_detected_asteroids_2, true_asteroids_2)\n",
    "minmag2, maxmag2 = get_magnitude_bin (repo_path, collection+\"single_frame_injection_02\")\n",
    "_ = fig_2.suptitle(\"Magnitude: \"+str(round(minmag2, 1))+\" - \"+str(round(maxmag2, 1)))\n",
    "tp=tp2.sum()\n",
    "fp=fp2.sum()\n",
    "fn=fn2.sum()\n",
    "print (\"True Positives:\", int(tp),\"False Positives:\", int(fp), \"False Negatives:\", int(fn))\n",
    "print (\"F1 score\", evals.eval_tools.f1_score (tp,fp,fn), \n",
    "       \"\\nPrecision\", evals.eval_tools.precision (tp,fp,fn), \n",
    "       \"\\nRecall\", evals.eval_tools.recall(tp,fp,fn))"
   ]
  },
  {
   "cell_type": "code",
   "execution_count": null,
   "id": "f7cd2042",
   "metadata": {},
   "outputs": [],
   "source": [
    "fig_3 = plot_trail_histogram (NN_detected_asteroids_3, LSST_stack_detected_asteroids_3, true_asteroids_3)\n",
    "minmag3, maxmag3 = get_magnitude_bin (repo_path, collection+\"single_frame_injection_03\")\n",
    "_ = fig_3.suptitle(\"Magnitude: \"+str(round(minmag3, 1))+\" - \"+str(round(maxmag3, 1)))\n",
    "tp=tp3.sum()\n",
    "fp=fp3.sum()\n",
    "fn=fn3.sum()\n",
    "print (\"True Positives:\", int(tp),\"False Positives:\", int(fp), \"False Negatives:\", int(fn))\n",
    "print (\"F1 score\", evals.eval_tools.f1_score (tp,fp,fn), \n",
    "       \"\\nPrecision\", evals.eval_tools.precision (tp,fp,fn), \n",
    "       \"\\nRecall\", evals.eval_tools.recall(tp,fp,fn))"
   ]
  },
  {
   "cell_type": "code",
   "execution_count": null,
   "id": "0309eb55",
   "metadata": {},
   "outputs": [],
   "source": [
    "fig_4 = plot_trail_histogram (NN_detected_asteroids_4, LSST_stack_detected_asteroids_4, true_asteroids_4)\n",
    "minmag4, maxmag4 = get_magnitude_bin (repo_path, collection+\"single_frame_injection_04\")\n",
    "_ = fig_4.suptitle(\"Magnitude: \"+str(round(minmag4, 1))+\" - \"+str(round(maxmag4, 1)))\n",
    "tp=tp4.sum()\n",
    "fp=fp4.sum()\n",
    "fn=fn4.sum()\n",
    "print (\"True Positives:\", int(tp),\"False Positives:\", int(fp), \"False Negatives:\", int(fn))\n",
    "print (\"F1 score\", evals.eval_tools.f1_score (tp,fp,fn), \n",
    "       \"\\nPrecision\", evals.eval_tools.precision (tp,fp,fn), \n",
    "       \"\\nRecall\", evals.eval_tools.recall(tp,fp,fn))"
   ]
  },
  {
   "cell_type": "code",
   "execution_count": null,
   "id": "0b8356f6",
   "metadata": {},
   "outputs": [],
   "source": [
    "i=1\n",
    "fig, ax = plt.subplots(4, 2, figsize=(10,35))\n",
    "ax[0,1] = plot_mask_on_axis (mask1[i], ax[0,1])\n",
    "ax[0,0] = plot_input_on_axis (inputs1[i], ax[0,0])\n",
    "ax[0,0].set_ylabel(\"Magnitude: \"+str(round(minmag1, 1))+\" - \"+str(round(maxmag1, 1)))\n",
    "\n",
    "ax[1,1] = plot_mask_on_axis (mask2[i], ax[1,1])\n",
    "ax[1,0] = plot_input_on_axis (inputs2[i], ax[1,0])\n",
    "ax[1,0].set_ylabel(\"Magnitude: \"+str(round(minmag2, 1))+\" - \"+str(round(maxmag2, 1)))\n",
    "\n",
    "ax[2,1] = plot_mask_on_axis (mask3[i], ax[2,1])\n",
    "ax[2,0] = plot_input_on_axis (inputs3[i], ax[2,0])\n",
    "ax[2,0].set_ylabel(\"Magnitude: \"+str(round(minmag3, 1))+\" - \"+str(round(maxmag3, 1)))\n",
    "\n",
    "ax[3,1] = plot_mask_on_axis (mask3[i], ax[3,1])\n",
    "ax[3,0] = plot_input_on_axis (inputs3[i], ax[3,0])\n",
    "ax[3,0].set_ylabel(\"Magnitude: \"+str(round(minmag4, 1))+\" - \"+str(round(maxmag4, 1)))\n",
    "fig.tight_layout()"
   ]
  },
  {
   "cell_type": "code",
   "execution_count": null,
   "id": "6b646dbd",
   "metadata": {},
   "outputs": [],
   "source": []
  }
 ],
 "metadata": {
  "kernelspec": {
   "display_name": "Karlo's LSST Stack",
   "language": "python",
   "name": "kmrakovcic_lsststack"
  },
  "language_info": {
   "codemirror_mode": {
    "name": "ipython",
    "version": 3
   },
   "file_extension": ".py",
   "mimetype": "text/x-python",
   "name": "python",
   "nbconvert_exporter": "python",
   "pygments_lexer": "ipython3",
   "version": "3.11.9"
  }
 },
 "nbformat": 4,
 "nbformat_minor": 5
}
