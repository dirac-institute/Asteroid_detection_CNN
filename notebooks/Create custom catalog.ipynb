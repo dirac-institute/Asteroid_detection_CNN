{
 "cells": [
  {
   "cell_type": "code",
   "execution_count": 1,
   "id": "8a367155",
   "metadata": {},
   "source": [
    "import numpy as np\n",
    "import os\n",
    "import sys\n",
    "from astropy.table import QTable, Table, Column\n",
    "from matplotlib import pyplot as plt\n",
    "from lsst.daf.butler import Butler\n",
    "import argparse\n",
    "import sys\n",
    "sys.path.append(\"..\")\n",
    "import tools\n",
    "import evals"
   ],
   "outputs": []
  },
  {
   "cell_type": "code",
   "execution_count": 79,
   "id": "59193c82",
   "metadata": {},
   "source": [
    "def generate_catalog(repo, input_coll, n_inject, trail_length, mag, beta, where=\"\", verbose=True):\n",
    "    \"\"\"\n",
    "    Create a catalog of trails to be injected in the input collection for the source injection. The catalog is saved in the\n",
    "    astropy table format. The catalog is created by randomly selecting a position in the input collection and then\n",
    "    randomly selecting the trail length, magnitude and angle of the trail. The catalog will have a visit id for each trail\n",
    "    that is the same as the visit id of the calexp that the trail is injected into.\n",
    "\n",
    "    :param repo:\n",
    "    :param input_coll:\n",
    "    :param n_inject:\n",
    "    :param trail_length:\n",
    "    :param mag:\n",
    "    :param beta:\n",
    "    :param where:\n",
    "    :param verbose:\n",
    "    :return:\n",
    "    \"\"\"\n",
    "    butler = Butler(repo)\n",
    "    registry = butler.registry\n",
    "    ra = []\n",
    "    dec = []\n",
    "    last_id = 0\n",
    "    injection_catalog = Table(\n",
    "        names=('injection_id', 'ra', 'dec', 'source_type', 'trail_length', 'mag', 'beta', 'visit', 'integrated_mag'),\n",
    "        dtype=('int64', 'float64', 'float64', 'str', 'float64', 'float64', 'float64', 'int64', 'float64'))\n",
    "    injection_catalog.add_index('injection_id')\n",
    "    source_type = \"calexp\"\n",
    "    if where == \"\":\n",
    "        query = registry.queryDatasets(source_type, collections=input_coll, instrument='HSC')\n",
    "    else:\n",
    "        query = registry.queryDatasets(source_type, collections=input_coll, instrument='HSC', where=where)\n",
    "    length = len(list(query))\n",
    "    for i, ref in enumerate(query):\n",
    "        raw = butler.get(\n",
    "            source_type,\n",
    "            dataId=ref.dataId,\n",
    "            collections=input_coll,\n",
    "        )\n",
    "        start = raw.wcs.pixelToSky(0, 0)\n",
    "        end = raw.wcs.pixelToSky(raw.getDimensions()[0], raw.getDimensions()[1])\n",
    "        min_ra = start.getRa()\n",
    "        min_dec = start.getDec()\n",
    "        max_ra = end.getRa()\n",
    "        max_dec = end.getDec()\n",
    "        diff_ra = max_ra - min_ra\n",
    "        diff_dec = max_dec - min_dec\n",
    "        min_ra = min_ra + 0.02 * diff_ra\n",
    "        max_ra = max_ra - 0.02 * diff_ra\n",
    "        min_dec = min_dec + 0.02 * diff_dec\n",
    "        max_dec = max_dec - 0.02 * diff_dec\n",
    "        if not ([min_ra, max_ra] in ra) and not ([min_dec, max_dec] in dec):\n",
    "            ra.append([min_ra, max_ra])\n",
    "            dec.append([min_dec, max_dec])\n",
    "            for k in range(last_id, last_id + n_inject):\n",
    "                ra_pos = np.random.uniform(low=min_ra.asDegrees(), high=max_ra.asDegrees())\n",
    "                dec_pos = np.random.uniform(low=min_dec.asDegrees(), high=max_dec.asDegrees())\n",
    "                inject_length = trail_length[k]#np.random.uniform(low=trail_length[0], high=trail_length[1])\n",
    "                magnitude = mag #np.random.uniform(low=mag[0], high=mag[1])\n",
    "                angle = beta #np.random.uniform(low=beta[0], high=beta[1])\n",
    "                surface_brightness = magnitude + 2.5 * np.log10(inject_length)\n",
    "                visitid = raw.getInfo().getVisitInfo().id\n",
    "                injection_catalog.add_row([k, ra_pos, dec_pos, \"Trail\", inject_length, surface_brightness, angle, visitid, magnitude])\n",
    "            last_id = k\n",
    "        if verbose:\n",
    "            print(\"\\r\", i + 1, \"/\", length, end=\"\")\n",
    "    if verbose:\n",
    "        print(\"\")\n",
    "    return injection_catalog\n",
    "\n",
    "\n",
    "def write_catalog(catalog, repo, output_coll):\n",
    "    \"\"\"\n",
    "    Write the catalog to the output collection in the repo.\n",
    "\n",
    "    :param catalog:\n",
    "    :param repo:\n",
    "    :param output_coll:\n",
    "    :return:\n",
    "    \"\"\"\n",
    "    from lsst.daf.butler import Butler\n",
    "    from lsst.source.injection import ingest_injection_catalog\n",
    "    writeable_butler = Butler(repo, writeable=True)\n",
    "    for bands in [\"g\", \"r\", \"i\", \"z\", \"y\"]:\n",
    "        _ = ingest_injection_catalog(\n",
    "            writeable_butler=writeable_butler,\n",
    "            table=catalog,\n",
    "            band=bands,\n",
    "            output_collection=output_coll)\n",
    "    return None\n",
    "\n",
    "\n",
    "def main(args):\n",
    "    \"\"\"\n",
    "    Main function that generates the catalog of trails to be injected in the input collection and writes it to the output\n",
    "    collection.\n",
    "\n",
    "    :param args:\n",
    "    :return:\n",
    "    \"\"\"\n",
    "    #where = \"instrument='HSC' AND skymap='hsc_rings_v1' AND visit=29336 AND detector=58 AND patch=50\"\n",
    "    #print (args.filter)\n",
    "    catalog = generate_catalog(args.repo, args.input_collection, args.number, args.trail_length, args.magnitude,\n",
    "                               args.beta, args.filter, args.verbose)\n",
    "    print (catalog)\n",
    "    write_catalog(catalog, args.repo, args.output_collection)\n",
    "    return catalog\n",
    "\n",
    "\n",
    "def parse_arguments(args):\n",
    "    \"\"\"Parse command line arguments.\n",
    "    Args:\n",
    "        args (list): Command line arguments.\n",
    "    Returns:\n",
    "        args (Namespace): Parsed command line arguments.\n",
    "    \"\"\"\n",
    "    parser = argparse.ArgumentParser()\n",
    "    parser.add_argument('-r', '--repo', type=str,\n",
    "                        default='/epyc/ssd/users/kmrakovc/DATA/rc2_subset/SMALL_HSC/',\n",
    "                        help='Path to Butler repo.')\n",
    "    parser.add_argument('-i', '--input_collection', type=str,\n",
    "                        default=\"u/kmrakovc/RC2_subset/run_1\",\n",
    "                        help='Name of the input collection.')\n",
    "    parser.add_argument('-o', '--output_collection', type=str,\n",
    "                        default=\"u/kmrakovc/injection_inputs_tests_03\",\n",
    "                        help='Name of the output collection.')\n",
    "    parser.add_argument('-n', '--number', type=int,\n",
    "                        default=2,\n",
    "                        help='Number of injections per visit.')\n",
    "    parser.add_argument('-l', '--trail_length', nargs=2, type=int,\n",
    "                        default=[10, 1000],\n",
    "                        help='Lower and upper limit for the injected trails length.')\n",
    "    parser.add_argument('-m', '--magnitude', type=float,\n",
    "                        default=21,\n",
    "                        help='Lower and upper limit for the injected trails magnitude.')\n",
    "    parser.add_argument('-b', '--beta', type=float,\n",
    "                        default=0.0,\n",
    "                        help='Lower and upper limit for the injected trails rotation angle.')\n",
    "    parser.add_argument('--filter', type=str,\n",
    "                        default=\"instrument='HSC' AND skymap='hsc_rings_v1' AND visit=29336 AND detector=58 AND patch=50\",\n",
    "                        help='Filter the collection.')\n",
    "    parser.add_argument('-v', '--verbose', action=argparse.BooleanOptionalAction,\n",
    "                        default=False,\n",
    "                        help='Verbose output.')\n",
    "    return parser.parse_args(args)"
   ],
   "outputs": []
  },
  {
   "cell_type": "code",
   "execution_count": 80,
   "id": "47c56b38",
   "metadata": {},
   "source": [
    "catalog = main(parse_arguments(sys.argv[3:]))"
   ],
   "outputs": []
  },
  {
   "cell_type": "code",
   "execution_count": 81,
   "id": "e99fb9be",
   "metadata": {},
   "source": [
    "print (catalog.to_pandas().to_string())"
   ],
   "outputs": []
  },
  {
   "cell_type": "code",
   "execution_count": 83,
   "id": "b1bf158c",
   "metadata": {},
   "source": [
    "butler = Butler('/epyc/ssd/users/kmrakovc/DATA/rc2_subset/SMALL_HSC/')\n",
    "col_name = \"u/kmrakovc/single_frame_injection_test_03\"\n",
    "calexp_ids = list(butler.registry.queryDatasets(\"injected_calexp\", collections=col_name, instrument='HSC'))\n",
    "calexp = butler.get(\"injected_calexp\", dataId=calexp_ids[0].dataId, collections=col_name)\n",
    "injection_catalog_ids = list(butler.registry.queryDatasets(\"injected_postISRCCD_catalog\", collections=col_name, instrument='HSC'))\n",
    "injection_catalog = butler.get(\"injected_postISRCCD_catalog\", dataId=injection_catalog_ids[0].dataId, collections=col_name)\n",
    "injected_origin = calexp.wcs.skyToPixelArray(np.array([injection_catalog[\"ra\"]]), np.array([injection_catalog[\"dec\"]]), degrees=True)\n",
    "angle = injection_catalog[\"beta\"]\n",
    "length = injection_catalog[\"trail_length\"]\n",
    "mask = np.zeros(calexp.image.array.shape)\n",
    "asteroid = np.empty((2,calexp.image.array.shape[0], calexp.image.array.shape[1]))\n",
    "for j in range(len(angle)):\n",
    "    asteroid[j] = tools.data.draw_one_line(np.zeros(calexp.image.array.shape), (injected_origin[0][j], injected_origin[1][j]), angle[j], length[j])\n",
    "    mask = tools.data.draw_one_line(mask, (injected_origin[0][j], injected_origin[1][j]), angle[j], length[j])"
   ],
   "outputs": []
  },
  {
   "cell_type": "code",
   "execution_count": 84,
   "id": "ecdcf3d6",
   "metadata": {},
   "source": [
    "injection_catalog"
   ],
   "outputs": []
  },
  {
   "cell_type": "code",
   "execution_count": 85,
   "id": "7b67b3dc",
   "metadata": {
    "scrolled": false
   },
   "source": [
    "fig, ax = plt.subplots(1, 2, figsize=(10,35))\n",
    "ax[0].imshow(calexp.image.array, cmap=\"grey\", vmin=0, vmax=600)\n",
    "ax[1].imshow(mask, cmap=\"grey\")\n",
    "ax[0].set_xticks([])\n",
    "ax[0].set_yticks([])\n",
    "ax[1].set_xticks([])\n",
    "ax[1].set_yticks([])\n",
    "ax[0].set_title(\"calexp\")\n",
    "ax[1].set_title(\"mask\")\n",
    "fig.tight_layout()"
   ],
   "outputs": []
  },
  {
   "cell_type": "code",
   "execution_count": 88,
   "id": "10b07384",
   "metadata": {},
   "source": [
    "calexp.image.array[asteroid[0]>0].flatten().mean(), calexp.image.array[asteroid[1]>0].flatten().mean()"
   ],
   "outputs": []
  },
  {
   "cell_type": "code",
   "execution_count": 90,
   "id": "b8cd9dd5",
   "metadata": {},
   "source": [
    "fig, ax = plt.subplots(1, 2)\n",
    "ax[0].hist(calexp.image.array[asteroid[0]>0].flatten(), bins=5)\n",
    "ax[0].set_title(\"Short Asteroid\")\n",
    "ax[1].hist(calexp.image.array[asteroid[1]>0].flatten(), bins=40)\n",
    "ax[1].set_title(\"Long Asteroid\")"
   ],
   "outputs": []
  },
  {
   "cell_type": "code",
   "execution_count": 17,
   "id": "875cb901",
   "metadata": {},
   "source": [
    "calib_ids = list(butler.registry.queryDatasets(\"calexp\", collections=col_name, instrument='HSC'))"
   ],
   "outputs": []
  },
  {
   "cell_type": "code",
   "execution_count": 20,
   "id": "289756be",
   "metadata": {},
   "source": [
    "dir(calexp.getPhotoCalib())"
   ],
   "outputs": []
  },
  {
   "cell_type": "code",
   "execution_count": 82,
   "id": "56758b84",
   "metadata": {},
   "source": [
    "print (calexp.getPhotoCalib().instFluxToMagnitude(81513.7678690941))\n",
    "print (calexp.getPhotoCalib().instFluxToMagnitude(81516.54176068094))"
   ],
   "outputs": []
  },
  {
   "cell_type": "code",
   "execution_count": 73,
   "id": "59d8c30f",
   "metadata": {},
   "source": [
    "print (calexp.getPhotoCalib().instFluxToMagnitude(81441.5531358384, \n",
    "                                                  lsst.geom.Point2D(injection_catalog[\"dec\"][0], \n",
    "                                                                   injection_catalog[\"ra\"][0])))\n",
    "print (calexp.getPhotoCalib().instFluxToMagnitude(81029.8679262767, lsst.geom.Point2D(x[1], y[1])))"
   ],
   "outputs": []
  },
  {
   "cell_type": "code",
   "execution_count": 65,
   "id": "ae479ef8",
   "metadata": {},
   "source": [],
   "outputs": []
  },
  {
   "cell_type": "code",
   "execution_count": 23,
   "id": "561bf068",
   "metadata": {},
   "source": [
    "calexp.getPhotoCalib().instFluxToMagnitude(81029.8679262767)"
   ],
   "outputs": []
  },
  {
   "cell_type": "code",
   "execution_count": 25,
   "id": "03544e4b",
   "metadata": {},
   "source": [
    "dir(calexp.wcs)"
   ],
   "outputs": []
  },
  {
   "cell_type": "code",
   "execution_count": 35,
   "id": "3935e593",
   "metadata": {},
   "source": [
    "type(calexp.wcs.linearizePixelToSky(calexp.wcs, calexp.wcs.pixelToSky(0,0)))"
   ],
   "outputs": []
  },
  {
   "cell_type": "code",
   "execution_count": 33,
   "id": "fca696c3",
   "metadata": {},
   "source": [
    "type(calexp.wcs.pixelToSky(0,0))"
   ],
   "outputs": []
  },
  {
   "cell_type": "code",
   "execution_count": 34,
   "id": "37c75e66",
   "metadata": {},
   "source": [
    "type(calexp.wcs)"
   ],
   "outputs": []
  },
  {
   "cell_type": "code",
   "execution_count": 54,
   "id": "78fd9d73",
   "metadata": {},
   "source": [
    "y, x = calexp.wcs.skyToPixelArray(np.array([injection_catalog[\"ra\"]]), np.array([injection_catalog[\"dec\"]]), degrees=True)"
   ],
   "outputs": []
  },
  {
   "cell_type": "code",
   "execution_count": 58,
   "id": "ba2ab801",
   "metadata": {},
   "source": [
    "plt.imshow(mask[int(x[1])-10:int(x[1])+10, int(y[1])-10:int(y[1])+10]  , cmap=\"grey\")"
   ],
   "outputs": []
  },
  {
   "cell_type": "code",
   "execution_count": null,
   "id": "b4abe826",
   "metadata": {},
   "source": [],
   "outputs": []
  }
 ],
 "metadata": {
  "kernelspec": {
   "display_name": "Karlo's LSST Stack",
   "language": "python",
   "name": "kmrakovcic_lsststack"
  },
  "language_info": {
   "codemirror_mode": {
    "name": "ipython",
    "version": 3
   },
   "file_extension": ".py",
   "mimetype": "text/x-python",
   "name": "python",
   "nbconvert_exporter": "python",
   "pygments_lexer": "ipython3",
   "version": "3.11.9"
  }
 },
 "nbformat": 4,
 "nbformat_minor": 5
}
