{
 "cells": [
  {
   "cell_type": "code",
   "execution_count": 14,
   "id": "516e63c4",
   "metadata": {},
   "source": [
    "import numpy as np\n",
    "import sys\n",
    "sys.path.append(\"..\")\n",
    "import tools\n",
    "import evals\n",
    "import tensorflow\n",
    "import matplotlib.pyplot as plt\n",
    "import time\n",
    "%load_ext autoreload\n",
    "%autoreload 2"
   ],
   "outputs": []
  },
  {
   "cell_type": "code",
   "execution_count": 2,
   "id": "077d10e1",
   "metadata": {},
   "source": [
    "model_path = \"../DATA/trained1.keras\"\n",
    "tf_dataset_path = \"/astro/users/kmrakovc/Projects/LSST_Streak_Detection/DATA/test1.tfrecord\""
   ],
   "outputs": []
  },
  {
   "cell_type": "code",
   "execution_count": 3,
   "id": "91035357",
   "metadata": {},
   "source": [
    "predictions_1 = evals.eval_tools.create_NN_prediction (tf_dataset_path, \n",
    "                                                       model_path, \n",
    "                                                       threshold=-1,\n",
    "                                                       batch_size=124,\n",
    "                                                       verbose=True)"
   ],
   "outputs": []
  },
  {
   "cell_type": "code",
   "execution_count": 7,
   "id": "cacb1fff",
   "metadata": {},
   "source": [
    "inputs1, truths = tools.data.create_XY_pairs (tf_dataset_path)"
   ],
   "outputs": []
  },
  {
   "cell_type": "code",
   "execution_count": 6,
   "id": "335fcb18",
   "metadata": {},
   "source": [
    "plt.imshow(predictions_1[0])"
   ],
   "outputs": []
  },
  {
   "cell_type": "code",
   "execution_count": 8,
   "id": "d52ff10f",
   "metadata": {},
   "source": [
    "plt.imshow(truths[0])"
   ],
   "outputs": []
  },
  {
   "cell_type": "code",
   "execution_count": 13,
   "id": "02151f6e",
   "metadata": {},
   "source": [
    "threshold=0.5"
   ],
   "outputs": []
  },
  {
   "cell_type": "code",
   "execution_count": 20,
   "id": "9acd3251",
   "metadata": {},
   "source": [
    "start_time = time.time()\n",
    "tp1, fp1, fn1, __ = evals.eval_tools.get_mask(truths, predictions_1>threshold, batch_size=2)\n",
    "print (time.time() - start_time)"
   ],
   "outputs": []
  },
  {
   "cell_type": "code",
   "execution_count": null,
   "id": "696df8b4",
   "metadata": {},
   "source": [
    "def create_metadata_table "
   ],
   "outputs": []
  }
 ],
 "metadata": {
  "kernelspec": {
   "display_name": "Karlo's LSST Stack",
   "language": "python",
   "name": "kmrakovcic_lsststack"
  },
  "language_info": {
   "codemirror_mode": {
    "name": "ipython",
    "version": 3
   },
   "file_extension": ".py",
   "mimetype": "text/x-python",
   "name": "python",
   "nbconvert_exporter": "python",
   "pygments_lexer": "ipython3",
   "version": "3.11.9"
  }
 },
 "nbformat": 4,
 "nbformat_minor": 5
}
