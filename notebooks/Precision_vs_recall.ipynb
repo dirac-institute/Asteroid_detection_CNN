{
 "cells": [
  {
   "cell_type": "code",
   "execution_count": 10,
   "id": "516e63c4",
   "metadata": {},
   "source": [
    "import numpy as np\n",
    "import sys\n",
    "sys.path.append(\"..\")\n",
    "import tools\n",
    "import evals\n",
    "import tensorflow\n",
    "import matplotlib.pyplot as plt\n",
    "%load_ext autoreload\n",
    "%autoreload 2"
   ],
   "outputs": []
  },
  {
   "cell_type": "code",
   "execution_count": 11,
   "id": "077d10e1",
   "metadata": {},
   "source": [
    "model_path = \"../DATA/trained1.keras\"\n",
    "tf_dataset_path = \"/astro/users/kmrakovc/Projects/LSST_Streak_Detection/DATA/test1.tfrecord\""
   ],
   "outputs": []
  },
  {
   "cell_type": "code",
   "execution_count": null,
   "id": "91035357",
   "metadata": {},
   "source": [
    "predictions_1 = evals.eval_tools.create_NN_prediction (tf_dataset_path, \n",
    "                                                       model_path, \n",
    "                                                       threshold=-1,\n",
    "                                                       batch_size=124,\n",
    "                                                       verbose=True)"
   ],
   "outputs": []
  },
  {
   "cell_type": "code",
   "execution_count": 8,
   "id": "cacb1fff",
   "metadata": {},
   "source": [
    "verbose = True\n",
    "print (1 if verbose else 0)"
   ],
   "outputs": []
  },
  {
   "cell_type": "code",
   "execution_count": null,
   "id": "335fcb18",
   "metadata": {},
   "source": [],
   "outputs": []
  }
 ],
 "metadata": {
  "kernelspec": {
   "display_name": "Karlo's LSST Stack",
   "language": "python",
   "name": "kmrakovcic_lsststack"
  },
  "language_info": {
   "codemirror_mode": {
    "name": "ipython",
    "version": 3
   },
   "file_extension": ".py",
   "mimetype": "text/x-python",
   "name": "python",
   "nbconvert_exporter": "python",
   "pygments_lexer": "ipython3",
   "version": "3.11.9"
  }
 },
 "nbformat": 4,
 "nbformat_minor": 5
}
