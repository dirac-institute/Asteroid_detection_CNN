{
 "cells": [
  {
   "cell_type": "code",
   "execution_count": 1,
   "id": "d0671f50",
   "metadata": {},
   "outputs": [
    {
     "name": "stdout",
     "output_type": "stream",
     "text": [
      "Mon May  6 13:17:26 2024       \r\n",
      "+---------------------------------------------------------------------------------------+\r\n",
      "| NVIDIA-SMI 545.23.06              Driver Version: 545.23.06    CUDA Version: 12.3     |\r\n",
      "|-----------------------------------------+----------------------+----------------------+\r\n",
      "| GPU  Name                 Persistence-M | Bus-Id        Disp.A | Volatile Uncorr. ECC |\r\n",
      "| Fan  Temp   Perf          Pwr:Usage/Cap |         Memory-Usage | GPU-Util  Compute M. |\r\n",
      "|                                         |                      |               MIG M. |\r\n",
      "|=========================================+======================+======================|\r\n",
      "|   0  NVIDIA GeForce RTX 2080 Ti     Off | 00000000:21:00.0  On |                  N/A |\r\n",
      "| 46%   50C    P8              22W / 260W |     55MiB / 11264MiB |      0%      Default |\r\n",
      "|                                         |                      |                  N/A |\r\n",
      "+-----------------------------------------+----------------------+----------------------+\r\n",
      "|   1  NVIDIA GeForce RTX 2080 Ti     Off | 00000000:48:00.0 Off |                  N/A |\r\n",
      "| 28%   32C    P8              14W / 260W |      1MiB / 11264MiB |      0%      Default |\r\n",
      "|                                         |                      |                  N/A |\r\n",
      "+-----------------------------------------+----------------------+----------------------+\r\n",
      "                                                                                         \r\n",
      "+---------------------------------------------------------------------------------------+\r\n",
      "| Processes:                                                                            |\r\n",
      "|  GPU   GI   CI        PID   Type   Process name                            GPU Memory |\r\n",
      "|        ID   ID                                                             Usage      |\r\n",
      "|=======================================================================================|\r\n",
      "|    0   N/A  N/A      2357      G   /usr/bin/X                                   39MiB |\r\n",
      "|    0   N/A  N/A      2996      G   /usr/bin/gnome-shell                         13MiB |\r\n",
      "+---------------------------------------------------------------------------------------+\r\n"
     ]
    }
   ],
   "source": [
    "!nvidia-smi"
   ]
  },
  {
   "cell_type": "code",
   "execution_count": 2,
   "id": "46fd8142",
   "metadata": {},
   "outputs": [],
   "source": [
    "import os\n",
    "os.environ[\"TF_CPP_MIN_LOG_LEVEL\"] = \"3\"\n",
    "#os.environ[\"CUDA_VISIBLE_DEVICES\"]=\"1\"\n",
    "#del os.environ[\"CUDA_VISIBLE_DEVICES\"]\n",
    "import tensorflow as tf\n",
    "import sys\n",
    "sys.path.append(\"../train\")\n",
    "sys.path.append(\"..\")\n",
    "import tools\n",
    "import main as m\n",
    "import matplotlib.pyplot as plt\n",
    "import argparse\n",
    "import json\n",
    "from tensorflow.keras import backend as K\n",
    "%load_ext autoreload\n",
    "%autoreload 2"
   ]
  },
  {
   "cell_type": "code",
   "execution_count": 3,
   "id": "dd5ac3a9",
   "metadata": {},
   "outputs": [],
   "source": [
    "def dice(y_true, y_pred):\n",
    "    y_pred = tf.convert_to_tensor(y_pred)\n",
    "    y_true = tf.cast(y_true, y_pred.dtype)\n",
    "    inputs = K.flatten(y_true)\n",
    "    targets = K.flatten(y_pred)\n",
    "    intersection = K.sum(inputs * targets)\n",
    "    dice = tf.divide(\n",
    "        2.0 * intersection+1,\n",
    "        K.sum(y_true) + K.sum(y_pred) + 1)\n",
    "\n",
    "    return 1 - dice\n",
    "\n",
    "def focal(y_true, y_pred):\n",
    "    y_pred = tf.convert_to_tensor(y_pred)\n",
    "    y_true = tf.cast(y_true, y_pred.dtype)\n",
    "    inputs = K.flatten(y_true)\n",
    "    targets = K.flatten(y_pred)\n",
    "    gamma=2.0\n",
    "    focal=-K.mean(inputs*tf.math.pow(1-targets, gamma)*tf.math.log(targets))\n",
    "    return focal\n",
    "\n",
    "def gen_dice_coef(y_true, y_pred, smooth=1e-7):\n",
    "    '''\n",
    "    Dice coefficient for num_classes labels (classes). Ignores background pixel label 0\n",
    "    Pass to model as metric during compile statement\n",
    "    '''\n",
    "    y_true_f = K.flatten(K.cast(y_true, 'float32'))\n",
    "    y_pred_f = K.flatten(y_pred)\n",
    "    intersect = K.sum(y_true_f * y_pred_f, axis=-1)\n",
    "    denom = K.sum(y_true_f + y_pred_f, axis=-1)\n",
    "    return K.mean((2. * intersect / (denom + smooth)))\n",
    "\n",
    "# generalized dice coefficient as loss function\n",
    "def gen_dice_coef_loss(y_true, y_pred):\n",
    "    '''\n",
    "    Dice loss to minimize. Pass to model as loss during compile statement\n",
    "    '''\n",
    "    return 1 - gen_dice_coef(y_true, y_pred)\n",
    "\n",
    "def log_gen_dice_coef_loss(y_true, y_pred):\n",
    "    return tf.math.log(2 - gen_dice_coef(y_true, y_pred))\n",
    "\n",
    "def LogBinaryFocalCrossentropy(y_true, y_pred):\n",
    "    FE = tf.keras.losses.BinaryFocalCrossentropy(apply_class_balancing=True, alpha=0.2, reduction=\"sum\")\n",
    "    return tf.math.log(1+FE(y_true, y_pred))\n",
    "\n",
    "def LogBinaryCrossentropy(y_true, y_pred):\n",
    "    CE = tf.keras.losses.BinaryCrossentropy(reduction=\"sum\")\n",
    "    CE(y_true, y_pred)\n",
    "    #return tf.math.log(1+CE(y_true, y_pred))\n",
    "\n",
    "def SumLoss(loss1, loss2):\n",
    "    def loss_summed(y_true, y_pred):\n",
    "        return loss1(y_true, y_pred)+loss2(y_true, y_pred)*10\n",
    "    return loss_summed\n",
    "    "
   ]
  },
  {
   "cell_type": "code",
   "execution_count": 4,
   "id": "a89b33c0",
   "metadata": {},
   "outputs": [],
   "source": [
    "epsilon = 1e-5\n",
    "smooth = 1\n",
    "\n",
    "def tversky(y_true, y_pred):\n",
    "    y_true_pos = K.flatten(y_true)\n",
    "    y_pred_pos = K.flatten(y_pred)\n",
    "    true_pos = K.sum(y_true_pos * y_pred_pos)\n",
    "    false_neg = K.sum(y_true_pos * (1-y_pred_pos))\n",
    "    false_pos = K.sum((1-y_true_pos)*y_pred_pos)\n",
    "    alpha = 0.9\n",
    "    return (true_pos + smooth)/(true_pos + alpha*false_neg + (1-alpha)*false_pos + smooth)\n",
    "\n",
    "def tversky_loss(y_true, y_pred):\n",
    "    return 1 - tversky(y_true,y_pred)\n",
    "\n",
    "def focal_tversky(y_true,y_pred):\n",
    "    pt_1 = tversky(y_true, y_pred)\n",
    "    gamma = 2\n",
    "    return K.pow((1-pt_1), (1/gamma))"
   ]
  },
  {
   "cell_type": "code",
   "execution_count": 5,
   "id": "ab3331fd",
   "metadata": {},
   "outputs": [],
   "source": [
    "def main (args):\n",
    "    with open(args.arhitecture) as f:\n",
    "        arhitecture = json.load(f)\n",
    "    if \"0\" in arhitecture.keys():\n",
    "        arhitecture = arhitecture[\"0\"]\n",
    "    dataset_train = tf.data.TFRecordDataset([args.train_dataset_path])\n",
    "    tfrecord_shape = tools.model.get_shape_of_quadratic_image_tfrecord(dataset_train)\n",
    "    dataset_train = dataset_train.map(tools.model.parse_function(img_shape=tfrecord_shape, test=False))\n",
    "    dataset_train = dataset_train.shuffle(5*args.batch_size).batch(args.batch_size).prefetch(2)\n",
    "    dataset_val = tf.data.TFRecordDataset([args.test_dataset_path])\n",
    "    dataset_val = dataset_val.map(tools.model.parse_function(img_shape=tfrecord_shape, test=False))\n",
    "    dataset_val = dataset_val.batch(args.batch_size).prefetch(2)\n",
    "\n",
    "    mirrored_strategy = tf.distribute.MirroredStrategy()\n",
    "    FT = focal_tversky\n",
    "    with mirrored_strategy.scope():\n",
    "        model = tools.model.unet_model((128, 128, 1), arhitecture)\n",
    "        model.compile(optimizer=tf.keras.optimizers.Adam(learning_rate=args.start_lr), loss=FT,\n",
    "                      metrics=[\"Precision\", \"Recall\", tools.model.F1_Score()])\n",
    "    earlystopping_kb = tf.keras.callbacks.EarlyStopping(monitor='val_loss', patience=5*args.decay_lr_patience, verbose=1,\n",
    "                                                        restore_best_weights=True)\n",
    "    terminateonnan_kb = tf.keras.callbacks.TerminateOnNaN()\n",
    "    reducelronplateau_kb = tf.keras.callbacks.ReduceLROnPlateau(monitor='val_loss', factor=args.decay_lr_rate,\n",
    "                                                                patience=args.decay_lr_patience, verbose=1)\n",
    "    try:\n",
    "        results = model.fit(dataset_train, epochs=args.epochs, validation_data=dataset_val,\n",
    "                            callbacks=[earlystopping_kb, terminateonnan_kb, reducelronplateau_kb], verbose=1)\n",
    "    except KeyboardInterrupt:\n",
    "        model.save(args.model_destination)\n",
    "        print (\"Model saved\")\n",
    "        return model\n",
    "    model.save(args.model_destination)\n",
    "    return model"
   ]
  },
  {
   "cell_type": "code",
   "execution_count": 6,
   "id": "89df587e",
   "metadata": {},
   "outputs": [],
   "source": [
    "def parse_arguments(args):\n",
    "    \"\"\"Parse command line arguments.\n",
    "    Args:\n",
    "        args (list): Command line arguments.\n",
    "    Returns:\n",
    "        args (Namespace): Parsed command line arguments.\n",
    "    \"\"\"\n",
    "    parser = argparse.ArgumentParser()\n",
    "    parser.add_argument('--train_dataset_path', type=str,\n",
    "                        default='../DATA/train1.tfrecord',\n",
    "                        help='Path to training dataset.')\n",
    "    parser.add_argument('--test_dataset_path', type=str,\n",
    "                        default='../DATA/test1.tfrecord',\n",
    "                        help='Path to test dataset.')\n",
    "    parser.add_argument('--arhitecture', type=str,\n",
    "                        default=\"../DATA/arhitecture_tuned.json\",\n",
    "                        help='Path to a JSON containing definition of an arhitecture.')\n",
    "    parser.add_argument('--model_destination', type=str,\n",
    "                        default=\"../DATA/Trained_model2\",\n",
    "                        help='Path where to save the model once trained.')\n",
    "    parser.add_argument('--epochs', type=int,\n",
    "                        default=128,\n",
    "                        help='Number of epochs.')\n",
    "    parser.add_argument('--batch_size', type=int,\n",
    "                        default=128,\n",
    "                        help='Batch size.')\n",
    "    parser.add_argument('--class_balancing_alpha', type=float,\n",
    "                        default=0.95,\n",
    "                        help='How much to weight the positive class in the loss function.')\n",
    "    parser.add_argument('--start_lr', type=float,\n",
    "                        default=0.00005,\n",
    "                        help='Initial learning rate.')\n",
    "    parser.add_argument('--decay_lr_rate', type=float,\n",
    "                        default=0.5,\n",
    "                        help='Rate at which to decay the learning rate upon reaching the plateau.')\n",
    "    parser.add_argument('--decay_lr_patience', type=float,\n",
    "                        default=2,\n",
    "                        help='Number of iteration to wait upon reaching the plataeau.')\n",
    "    return parser.parse_args(args)"
   ]
  },
  {
   "cell_type": "code",
   "execution_count": null,
   "id": "bc7e15d0",
   "metadata": {
    "scrolled": false
   },
   "outputs": [
    {
     "name": "stdout",
     "output_type": "stream",
     "text": [
      "INFO:tensorflow:Using MirroredStrategy with devices ('/job:localhost/replica:0/task:0/device:GPU:0', '/job:localhost/replica:0/task:0/device:GPU:1')\n",
      "INFO:tensorflow:Reduce to /job:localhost/replica:0/task:0/device:CPU:0 then broadcast to ('/job:localhost/replica:0/task:0/device:CPU:0',).\n",
      "INFO:tensorflow:Reduce to /job:localhost/replica:0/task:0/device:CPU:0 then broadcast to ('/job:localhost/replica:0/task:0/device:CPU:0',).\n",
      "INFO:tensorflow:Reduce to /job:localhost/replica:0/task:0/device:CPU:0 then broadcast to ('/job:localhost/replica:0/task:0/device:CPU:0',).\n",
      "INFO:tensorflow:Reduce to /job:localhost/replica:0/task:0/device:CPU:0 then broadcast to ('/job:localhost/replica:0/task:0/device:CPU:0',).\n",
      "INFO:tensorflow:Reduce to /job:localhost/replica:0/task:0/device:CPU:0 then broadcast to ('/job:localhost/replica:0/task:0/device:CPU:0',).\n",
      "INFO:tensorflow:Reduce to /job:localhost/replica:0/task:0/device:CPU:0 then broadcast to ('/job:localhost/replica:0/task:0/device:CPU:0',).\n",
      "INFO:tensorflow:Reduce to /job:localhost/replica:0/task:0/device:CPU:0 then broadcast to ('/job:localhost/replica:0/task:0/device:CPU:0',).\n",
      "INFO:tensorflow:Reduce to /job:localhost/replica:0/task:0/device:CPU:0 then broadcast to ('/job:localhost/replica:0/task:0/device:CPU:0',).\n",
      "INFO:tensorflow:Reduce to /job:localhost/replica:0/task:0/device:CPU:0 then broadcast to ('/job:localhost/replica:0/task:0/device:CPU:0',).\n",
      "INFO:tensorflow:Reduce to /job:localhost/replica:0/task:0/device:CPU:0 then broadcast to ('/job:localhost/replica:0/task:0/device:CPU:0',).\n",
      "Epoch 1/128\n",
      "INFO:tensorflow:Collective all_reduce tensors: 72 all_reduces, num_devices = 2, group_size = 2, implementation = CommunicationImplementation.NCCL, num_packs = 1\n",
      "INFO:tensorflow:Collective all_reduce tensors: 72 all_reduces, num_devices = 2, group_size = 2, implementation = CommunicationImplementation.NCCL, num_packs = 1\n"
     ]
    },
    {
     "name": "stderr",
     "output_type": "stream",
     "text": [
      "WARNING: All log messages before absl::InitializeLog() is called are written to STDERR\n",
      "I0000 00:00:1715026683.006119   45824 device_compiler.h:186] Compiled cluster using XLA!  This line is logged at most once for the lifetime of the process.\n"
     ]
    },
    {
     "name": "stdout",
     "output_type": "stream",
     "text": [
      "    126/Unknown - 47s 157ms/step - loss: 0.9979 - precision: 4.0506e-04 - recall: 0.9426 - f1_score: 8.6786e-04"
     ]
    }
   ],
   "source": [
    "args = parse_arguments([])\n",
    "model=main(args)"
   ]
  },
  {
   "cell_type": "code",
   "execution_count": null,
   "id": "6adf23a7",
   "metadata": {},
   "outputs": [],
   "source": [
    "from numba import cuda\n",
    "device = cuda.get_current_device()\n",
    "device.reset()"
   ]
  }
 ],
 "metadata": {
  "kernelspec": {
   "display_name": "LSST pipeline",
   "language": "python",
   "name": "kmrakovc_lsst"
  },
  "language_info": {
   "codemirror_mode": {
    "name": "ipython",
    "version": 3
   },
   "file_extension": ".py",
   "mimetype": "text/x-python",
   "name": "python",
   "nbconvert_exporter": "python",
   "pygments_lexer": "ipython3",
   "version": "3.11.7"
  }
 },
 "nbformat": 4,
 "nbformat_minor": 5
}
