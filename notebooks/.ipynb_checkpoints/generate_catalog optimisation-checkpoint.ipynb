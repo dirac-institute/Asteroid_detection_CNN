{
 "cells": [
  {
   "cell_type": "code",
   "execution_count": 1,
   "id": "7ab3bf65",
   "metadata": {},
   "outputs": [],
   "source": [
    "import numpy as np\n",
    "import os\n",
    "import sys\n",
    "from astropy.table import QTable, Table, Column, vstack\n",
    "import multiprocessing\n",
    "import time"
   ]
  },
  {
   "cell_type": "code",
   "execution_count": 95,
   "id": "71edac01",
   "metadata": {},
   "outputs": [],
   "source": [
    "def generate_one_line(n_inject, trail_length, mag, beta, butler, ref, input_coll, dimensions, source_type):\n",
    "    injection_catalog = Table(\n",
    "        names=('injection_id', 'ra', 'dec', 'source_type', 'trail_length', 'mag', 'beta', 'visit', 'integrated_mag', 'PSF_mag',\n",
    "               'physical_filter'),\n",
    "        dtype=('int64', 'float64', 'float64', 'str', 'float64', 'float64', 'float64', 'int64', 'float64', 'float64', 'str'))\n",
    "    injection_catalog.add_index('injection_id')\n",
    "    raw = butler.get(\n",
    "        source_type + \".wcs\",\n",
    "        dataId=ref.dataId,\n",
    "        collections=input_coll,\n",
    "    )\n",
    "    info = butler.get(\n",
    "        source_type + \".visitInfo\",\n",
    "        dataId=ref.dataId,\n",
    "        collections=input_coll,\n",
    "    )\n",
    "    filter_name = butler.get(\n",
    "        source_type + \".filter\",\n",
    "        dataId=ref.dataId,\n",
    "        collections=input_coll,\n",
    "    )\n",
    "    \n",
    "    #parameters to use from http://arxiv.org/pdf/1711.10621\n",
    "    fwhm = {\"u\": 0.92, \"g\": 0.87, \"r\": 0.83, \"i\": 0.80, \"z\": 0.78, \"y\": 0.76}\n",
    "    # Taken from https://smtn-002.lsst.io/#source-footprint-n-eff\n",
    "    m5 = {\"u\": 23.7, \"g\": 24.97, \"r\": 24.52, \"i\": 24.13, \"z\": 23.56, \"y\": 22.55}\n",
    "    # Taken from https://smtn-002.lsst.io/#calculating-m5\n",
    "    psf_depth = m5[filter_name.bandLabel]\n",
    "    pixelScale = raw.getPixelScale().asArcseconds()\n",
    "    theta_p = fwhm[filter_name.bandLabel]*pixelScale\n",
    "    a = 0.67\n",
    "    b = 1.16\n",
    "    \n",
    "    # calculating image bounds in skycoordinates\n",
    "    start = raw.pixelToSky(0, 0)\n",
    "    end = raw.pixelToSky(dimensions[0], dimensions[1])\n",
    "    min_ra = start.getRa()\n",
    "    min_dec = start.getDec()\n",
    "    max_ra = end.getRa()\n",
    "    max_dec = end.getDec()\n",
    "    diff_ra = max_ra - min_ra\n",
    "    diff_dec = max_dec - min_dec\n",
    "    min_ra = min_ra + 0.02 * diff_ra\n",
    "    max_ra = max_ra - 0.02 * diff_ra\n",
    "    min_dec = min_dec + 0.02 * diff_dec\n",
    "    max_dec = max_dec - 0.02 * diff_dec\n",
    "    \n",
    "    for k in range(n_inject):\n",
    "        ra_pos = np.random.uniform(low=min_ra.asDegrees(), high=max_ra.asDegrees())\n",
    "        dec_pos = np.random.uniform(low=min_dec.asDegrees(), high=max_dec.asDegrees())\n",
    "        inject_length = np.random.uniform(low=trail_length[0], high=trail_length[1])\n",
    "        x = inject_length / (24 * theta_p)\n",
    "        if mag[1] == 0:\n",
    "            # calculating the upper limit magnitude based on the trail length and the maximum detectable limit\n",
    "            # Taken from Jones et al. 2017: http://arxiv.org/pdf/1711.10621\n",
    "            upper_limit_mag = psf_depth - 1.25 * np.log10(1 + (a * x ** 2) / (1 + b * x))\n",
    "        else:\n",
    "            # user defined magnitude limits\n",
    "            upper_limit_mag = mag[1]\n",
    "        # rolling dice for the magnitude then calculating the surface brightness\n",
    "        magnitude = np.random.uniform(low=mag[0], high=upper_limit_mag)\n",
    "        surface_brightness = magnitude + 2.5 * np.log10(inject_length)\n",
    "        psf_magnitude = magnitude + 1.25 * np.log10(1 + (a * x ** 2) / (1 + b * x))\n",
    "        # rolling dice for the surface brightness then calculating the magnitude\n",
    "        # surface_brightness = np.random.uniform(low=mag[0], high=mag[1])\n",
    "        # magnitude = surface_brightness - 2.5 * np.log10(inject_length)\n",
    "        angle = np.random.uniform(low=beta[0], high=beta[1])\n",
    "        visitid = info.id\n",
    "        injection_catalog.add_row([k, ra_pos, dec_pos, \"Trail\", inject_length, surface_brightness, angle, visitid,\n",
    "                                   magnitude, psf_magnitude, filter_name.bandLabel])\n",
    "    return injection_catalog\n",
    "\n",
    "\n",
    "def generate_catalog(repo, input_coll, n_inject, trail_length, mag, beta, where=\"\", verbose=True,\n",
    "                     multiprocess_size=None):\n",
    "    \"\"\"\n",
    "    Create a catalog of trails to be injected in the input collection for the source injection. The catalog is saved in the\n",
    "    astropy table format. The catalog is created by randomly selecting a position in the input collection and then\n",
    "    randomly selecting the trail length, magnitude and angle of the trail. The catalog will have a visit id for each trail\n",
    "    that is the same as the visit id of the calexp that the trail is injected into.\n",
    "\n",
    "    :param repo:\n",
    "    :param input_coll:\n",
    "    :param n_inject:\n",
    "    :param trail_length:\n",
    "    :param mag:\n",
    "    :param beta:\n",
    "    :param where:\n",
    "    :param verbose:\n",
    "    :return:\n",
    "    \"\"\"\n",
    "    from lsst.daf.butler import Butler\n",
    "    butler = Butler(repo)\n",
    "    registry = butler.registry\n",
    "    source_type = \"calexp\"\n",
    "    if where == \"\":\n",
    "        query = set(registry.queryDatasets(source_type, collections=input_coll, instrument='HSC', findFirst=True))\n",
    "    else:\n",
    "        query = set(registry.queryDatasets(source_type, collections=input_coll, instrument='HSC', where=where, findFirst=True))\n",
    "    length = len(list(query))\n",
    "    dimensions = butler.get(\n",
    "        source_type + \".dimensions\",\n",
    "        dataId=list(query)[0].dataId,\n",
    "        collections=input_coll,\n",
    "    )\n",
    "    parameters = [(n_inject, trail_length, mag, beta, butler, ref,\n",
    "                   input_coll, dimensions, source_type,) for ref in query]\n",
    "    if verbose:\n",
    "        print(\"Number of visits found: \", length)\n",
    "    if multiprocess_size is None:\n",
    "        multiprocess_size = max(1, min(os.cpu_count() - 1, len(parameters)))\n",
    "    if multiprocess_size > 1:\n",
    "        with multiprocessing.Pool(multiprocess_size) as pool:\n",
    "            injection_catalog = pool.starmap(generate_one_line, parameters)\n",
    "    else:\n",
    "        injection_catalog = [None] * len(parameters)\n",
    "        for i in range(len(parameters)):\n",
    "            injection_catalog[i] = generate_one_line(*parameters[i])\n",
    "            if verbose:\n",
    "                print(\"\\r\", i + 1, \"/\", length, end=\"\", flush=True)\n",
    "        if verbose:\n",
    "            print(\"\")\n",
    "    output_catalog = vstack(injection_catalog, join_type='exact')\n",
    "    output_catalog[\"injection_id\"] = np.arange(len(output_catalog))\n",
    "    return output_catalog"
   ]
  },
  {
   "cell_type": "code",
   "execution_count": 98,
   "id": "b24f4b65",
   "metadata": {
    "scrolled": true
   },
   "outputs": [
    {
     "name": "stdout",
     "output_type": "stream",
     "text": [
      "Number of visits found:  240\n",
      " 240 / 240\n",
      "Total time: 44.00261354446411\n"
     ]
    }
   ],
   "source": [
    "repo = '/epyc/ssd/users/kmrakovc/DATA/rc2_subset/SMALL_HSC/'\n",
    "input_collection = \"u/kmrakovc/RC2_subset/run_1\"\n",
    "number = 20\n",
    "trail_length = [6, 60]\n",
    "magnitude = [20, 25]\n",
    "beta = [0, 180]\n",
    "start_time = time.time()\n",
    "catalog = generate_catalog(repo, input_collection, number, trail_length, magnitude,\n",
    "                               beta, verbose=True, multiprocess_size=1)\n",
    "print (\"Total time:\", time.time()-start_time)"
   ]
  },
  {
   "cell_type": "code",
   "execution_count": 99,
   "id": "46066995",
   "metadata": {
    "scrolled": false
   },
   "outputs": [
    {
     "data": {
      "text/html": [
       "<div><i>Table length=4800</i>\n",
       "<table id=\"table140236134280016\" class=\"table-striped table-bordered table-condensed\">\n",
       "<thead><tr><th>injection_id</th><th>ra</th><th>dec</th><th>source_type</th><th>trail_length</th><th>mag</th><th>beta</th><th>visit</th><th>integrated_mag</th><th>PSF_mag</th><th>physical_filter</th></tr></thead>\n",
       "<thead><tr><th>int64</th><th>float64</th><th>float64</th><th>str5</th><th>float64</th><th>float64</th><th>float64</th><th>int64</th><th>float64</th><th>float64</th><th>str1</th></tr></thead>\n",
       "<tr><td>0</td><td>150.0903850154769</td><td>2.253038059361637</td><td>Trail</td><td>42.14474694161813</td><td>26.294435247072915</td><td>165.3703644868937</td><td>358</td><td>22.23257662093088</td><td>23.390912937787633</td><td>y</td></tr>\n",
       "<tr><td>1</td><td>150.19160728993705</td><td>2.256437169520551</td><td>Trail</td><td>9.5850392759723</td><td>25.92929667817366</td><td>44.96802220072273</td><td>358</td><td>23.475311936180947</td><td>23.952842620461013</td><td>y</td></tr>\n",
       "<tr><td>2</td><td>150.1137503953228</td><td>2.2085346976613027</td><td>Trail</td><td>32.028689046915865</td><td>24.37160570590102</td><td>111.60426615676577</td><td>358</td><td>20.607757798153578</td><td>21.6284858109673</td><td>y</td></tr>\n",
       "<tr><td>3</td><td>150.12328458081</td><td>2.2185065394997374</td><td>Trail</td><td>45.62942252757856</td><td>26.675691439927277</td><td>39.60364775930339</td><td>358</td><td>22.527579008663665</td><td>23.72629996463411</td><td>y</td></tr>\n",
       "<tr><td>4</td><td>150.20799107373696</td><td>2.2432249972601714</td><td>Trail</td><td>26.178908318873198</td><td>26.495561706083876</td><td>47.28312654159543</td><td>358</td><td>22.9506828756592</td><td>23.872599011309543</td><td>y</td></tr>\n",
       "<tr><td>5</td><td>150.17671446910654</td><td>2.260460435758058</td><td>Trail</td><td>15.83357544626311</td><td>23.844151627134618</td><td>109.15556405712314</td><td>358</td><td>20.8452041376339</td><td>21.53253819280962</td><td>y</td></tr>\n",
       "<tr><td>6</td><td>150.18572429604095</td><td>2.2018938957962053</td><td>Trail</td><td>7.403322786766402</td><td>26.66530330019261</td><td>19.441887951460842</td><td>358</td><td>24.49173658732896</td><td>24.874425812588115</td><td>y</td></tr>\n",
       "<tr><td>7</td><td>150.22650041024747</td><td>2.193539296916542</td><td>Trail</td><td>16.18921777331552</td><td>25.99037518360516</td><td>13.802804917093269</td><td>358</td><td>22.967310520792093</td><td>23.6645690044071</td><td>y</td></tr>\n",
       "<tr><td>8</td><td>150.2010041029058</td><td>2.2445991900325937</td><td>Trail</td><td>42.57658510123765</td><td>24.649145934228056</td><td>104.8085565885114</td><td>358</td><td>20.57621887056828</td><td>21.739724868486697</td><td>y</td></tr>\n",
       "<tr><td>...</td><td>...</td><td>...</td><td>...</td><td>...</td><td>...</td><td>...</td><td>...</td><td>...</td><td>...</td><td>...</td></tr>\n",
       "<tr><td>4790</td><td>150.65809262707702</td><td>2.252960990715276</td><td>Trail</td><td>13.725755736811418</td><td>25.922726277935553</td><td>60.3220907077649</td><td>11696</td><td>23.078885613109982</td><td>23.65676948255334</td><td>g</td></tr>\n",
       "<tr><td>4791</td><td>150.6700513919006</td><td>2.2885067519673465</td><td>Trail</td><td>50.710491436897556</td><td>25.36771728799071</td><td>14.14020473654019</td><td>11696</td><td>21.104972739667833</td><td>22.30139525608211</td><td>g</td></tr>\n",
       "<tr><td>4792</td><td>150.57428278582907</td><td>2.287926715390872</td><td>Trail</td><td>39.025588224246704</td><td>25.80670041033361</td><td>133.47230638426956</td><td>11696</td><td>21.828326765807265</td><td>22.892566297869628</td><td>g</td></tr>\n",
       "<tr><td>4793</td><td>150.5757902449634</td><td>2.2714051331016973</td><td>Trail</td><td>52.28681838024068</td><td>27.205526964576855</td><td>69.15384899107954</td><td>11696</td><td>22.909546424352673</td><td>24.121583925917495</td><td>g</td></tr>\n",
       "<tr><td>4794</td><td>150.50964741316946</td><td>2.283339563738723</td><td>Trail</td><td>35.08329641619531</td><td>26.114071415127043</td><td>44.415927414420544</td><td>11696</td><td>22.251320433145136</td><td>23.26264968248235</td><td>g</td></tr>\n",
       "<tr><td>4795</td><td>150.64934604348397</td><td>2.2243676352301174</td><td>Trail</td><td>24.03765711578139</td><td>26.70371587738108</td><td>133.93528580550785</td><td>11696</td><td>23.251485537614307</td><td>24.07997457771034</td><td>g</td></tr>\n",
       "<tr><td>4796</td><td>150.59359725664015</td><td>2.2505866832426538</td><td>Trail</td><td>43.995102221689294</td><td>26.290320246141288</td><td>161.31695536537867</td><td>11696</td><td>22.181809418362672</td><td>23.30620545342196</td><td>g</td></tr>\n",
       "<tr><td>4797</td><td>150.49936070509736</td><td>2.2795392516433193</td><td>Trail</td><td>12.94490978880599</td><td>23.501512384875404</td><td>152.39688849792864</td><td>11696</td><td>20.72126481425955</td><td>21.27482944936876</td><td>g</td></tr>\n",
       "<tr><td>4798</td><td>150.55687224817706</td><td>2.2450305738555496</td><td>Trail</td><td>56.251472156568916</td><td>24.597782219301692</td><td>100.91204509056942</td><td>11696</td><td>20.22244748718283</td><td>21.471891018759766</td><td>g</td></tr>\n",
       "<tr><td>4799</td><td>150.56908298285737</td><td>2.231242740508185</td><td>Trail</td><td>39.05744405393368</td><td>24.711308642018896</td><td>166.3698038272926</td><td>11696</td><td>20.732049093640363</td><td>21.79669605430276</td><td>g</td></tr>\n",
       "</table></div>"
      ],
      "text/plain": [
       "<Table length=4800>\n",
       "injection_id         ra         ...      PSF_mag       physical_filter\n",
       "   int64          float64       ...      float64             str1     \n",
       "------------ ------------------ ... ------------------ ---------------\n",
       "           0  150.0903850154769 ... 23.390912937787633               y\n",
       "           1 150.19160728993705 ... 23.952842620461013               y\n",
       "           2  150.1137503953228 ...   21.6284858109673               y\n",
       "           3    150.12328458081 ...  23.72629996463411               y\n",
       "           4 150.20799107373696 ... 23.872599011309543               y\n",
       "           5 150.17671446910654 ...  21.53253819280962               y\n",
       "           6 150.18572429604095 ... 24.874425812588115               y\n",
       "           7 150.22650041024747 ...   23.6645690044071               y\n",
       "           8  150.2010041029058 ... 21.739724868486697               y\n",
       "         ...                ... ...                ...             ...\n",
       "        4790 150.65809262707702 ...  23.65676948255334               g\n",
       "        4791  150.6700513919006 ...  22.30139525608211               g\n",
       "        4792 150.57428278582907 ... 22.892566297869628               g\n",
       "        4793  150.5757902449634 ... 24.121583925917495               g\n",
       "        4794 150.50964741316946 ...  23.26264968248235               g\n",
       "        4795 150.64934604348397 ...  24.07997457771034               g\n",
       "        4796 150.59359725664015 ...  23.30620545342196               g\n",
       "        4797 150.49936070509736 ...  21.27482944936876               g\n",
       "        4798 150.55687224817706 ... 21.471891018759766               g\n",
       "        4799 150.56908298285737 ...  21.79669605430276               g"
      ]
     },
     "execution_count": 99,
     "metadata": {},
     "output_type": "execute_result"
    }
   ],
   "source": [
    "catalog"
   ]
  },
  {
   "cell_type": "code",
   "execution_count": null,
   "id": "7a55cf41",
   "metadata": {},
   "outputs": [],
   "source": []
  },
  {
   "cell_type": "code",
   "execution_count": 4,
   "id": "455c8cd6",
   "metadata": {},
   "outputs": [],
   "source": [
    "from lsst.daf.butler import Butler\n",
    "repo = '/epyc/ssd/users/kmrakovc/DATA/rc2_subset/SMALL_HSC/'\n",
    "input_coll = \"u/kmrakovc/RC2_subset/run_1\"\n",
    "butler = Butler(repo)\n",
    "registry = butler.registry\n",
    "source_type = \"calexp\"\n",
    "query = registry.queryDatasets(source_type, collections=input_coll, instrument='HSC')\n",
    "ref = list(query)[0]\n",
    "raw = butler.get(\n",
    "        source_type,\n",
    "        dataId=ref.dataId,\n",
    "        collections=input_coll,\n",
    "    )"
   ]
  },
  {
   "cell_type": "code",
   "execution_count": 8,
   "id": "ca130f5f",
   "metadata": {},
   "outputs": [
    {
     "data": {
      "text/plain": [
       "['Factory',\n",
       " '__add__',\n",
       " '__class__',\n",
       " '__deepcopy__',\n",
       " '__delattr__',\n",
       " '__dir__',\n",
       " '__doc__',\n",
       " '__eq__',\n",
       " '__format__',\n",
       " '__ge__',\n",
       " '__getattribute__',\n",
       " '__getitem__',\n",
       " '__getstate__',\n",
       " '__gt__',\n",
       " '__hash__',\n",
       " '__init__',\n",
       " '__init_subclass__',\n",
       " '__le__',\n",
       " '__lt__',\n",
       " '__module__',\n",
       " '__mul__',\n",
       " '__ne__',\n",
       " '__new__',\n",
       " '__radd__',\n",
       " '__reduce__',\n",
       " '__reduce_ex__',\n",
       " '__repr__',\n",
       " '__rmul__',\n",
       " '__rsub__',\n",
       " '__rtruediv__',\n",
       " '__setattr__',\n",
       " '__setitem__',\n",
       " '__sizeof__',\n",
       " '__str__',\n",
       " '__sub__',\n",
       " '__subclasshook__',\n",
       " '__truediv__',\n",
       " '_get',\n",
       " '_set',\n",
       " 'apCorrMap',\n",
       " 'clone',\n",
       " 'containsSkyCoords',\n",
       " 'convertD',\n",
       " 'convertF',\n",
       " 'convex_polygon',\n",
       " 'detector',\n",
       " 'dtype',\n",
       " 'filter',\n",
       " 'getBBox',\n",
       " 'getConvexPolygon',\n",
       " 'getCutout',\n",
       " 'getDetector',\n",
       " 'getDimensions',\n",
       " 'getFilter',\n",
       " 'getHeight',\n",
       " 'getImage',\n",
       " 'getInfo',\n",
       " 'getMask',\n",
       " 'getMaskedImage',\n",
       " 'getMetadata',\n",
       " 'getPhotoCalib',\n",
       " 'getPsf',\n",
       " 'getVariance',\n",
       " 'getWcs',\n",
       " 'getWidth',\n",
       " 'getX0',\n",
       " 'getXY0',\n",
       " 'getY0',\n",
       " 'hasPsf',\n",
       " 'hasWcs',\n",
       " 'height',\n",
       " 'image',\n",
       " 'info',\n",
       " 'mask',\n",
       " 'maskedImage',\n",
       " 'metadata',\n",
       " 'photoCalib',\n",
       " 'psf',\n",
       " 'readFits',\n",
       " 'readFitsWithOptions',\n",
       " 'setApCorrMap',\n",
       " 'setDetector',\n",
       " 'setFilter',\n",
       " 'setImage',\n",
       " 'setInfo',\n",
       " 'setMask',\n",
       " 'setMaskedImage',\n",
       " 'setMetadata',\n",
       " 'setPhotoCalib',\n",
       " 'setPsf',\n",
       " 'setVariance',\n",
       " 'setWcs',\n",
       " 'setXY0',\n",
       " 'subset',\n",
       " 'variance',\n",
       " 'visitInfo',\n",
       " 'wcs',\n",
       " 'width',\n",
       " 'writeFits',\n",
       " 'writeFitsWithOptions',\n",
       " 'x0',\n",
       " 'y0']"
      ]
     },
     "execution_count": 8,
     "metadata": {},
     "output_type": "execute_result"
    }
   ],
   "source": [
    "dir(raw)"
   ]
  },
  {
   "cell_type": "code",
   "execution_count": 43,
   "id": "b13c9ccc",
   "metadata": {},
   "outputs": [
    {
     "data": {
      "text/plain": [
       "['COPY',\n",
       " 'INTERNAL',\n",
       " 'ImageOwnerEnum',\n",
       " '__class__',\n",
       " '__delattr__',\n",
       " '__dir__',\n",
       " '__doc__',\n",
       " '__eq__',\n",
       " '__format__',\n",
       " '__ge__',\n",
       " '__getattribute__',\n",
       " '__getstate__',\n",
       " '__gt__',\n",
       " '__hash__',\n",
       " '__init__',\n",
       " '__init_subclass__',\n",
       " '__le__',\n",
       " '__lt__',\n",
       " '__module__',\n",
       " '__ne__',\n",
       " '__new__',\n",
       " '__reduce__',\n",
       " '__reduce_ex__',\n",
       " '__repr__',\n",
       " '__setattr__',\n",
       " '__sizeof__',\n",
       " '__str__',\n",
       " '__subclasshook__',\n",
       " 'clone',\n",
       " 'computeApertureFlux',\n",
       " 'computeBBox',\n",
       " 'computeImage',\n",
       " 'computeImageBBox',\n",
       " 'computeKernelBBox',\n",
       " 'computeKernelImage',\n",
       " 'computePeak',\n",
       " 'computeShape',\n",
       " 'getAverageColor',\n",
       " 'getAveragePosition',\n",
       " 'getCacheCapacity',\n",
       " 'getKernel',\n",
       " 'getLocalKernel',\n",
       " 'isPersistable',\n",
       " 'readFits',\n",
       " 'recenterKernelImage',\n",
       " 'resized',\n",
       " 'setCacheCapacity',\n",
       " 'write',\n",
       " 'writeFits']"
      ]
     },
     "execution_count": 43,
     "metadata": {},
     "output_type": "execute_result"
    }
   ],
   "source": [
    "dir(raw.getPsf())"
   ]
  },
  {
   "cell_type": "code",
   "execution_count": 72,
   "id": "c888494c",
   "metadata": {},
   "outputs": [],
   "source": [
    "psf = raw.getPsf()\n",
    "wcs = raw.getWcs()\n",
    "sigma = psf.computeShape(wcs.skyToPixel(wcs.pixelToSky(100,100))).getDeterminantRadius()\n",
    "pixelScale = raw.getWcs().getPixelScale().asArcseconds()"
   ]
  },
  {
   "cell_type": "code",
   "execution_count": 77,
   "id": "04560529",
   "metadata": {},
   "outputs": [
    {
     "data": {
      "text/plain": [
       "['COPY',\n",
       " 'INTERNAL',\n",
       " 'ImageOwnerEnum',\n",
       " '__class__',\n",
       " '__delattr__',\n",
       " '__dir__',\n",
       " '__doc__',\n",
       " '__eq__',\n",
       " '__format__',\n",
       " '__ge__',\n",
       " '__getattribute__',\n",
       " '__getstate__',\n",
       " '__gt__',\n",
       " '__hash__',\n",
       " '__init__',\n",
       " '__init_subclass__',\n",
       " '__le__',\n",
       " '__lt__',\n",
       " '__module__',\n",
       " '__ne__',\n",
       " '__new__',\n",
       " '__reduce__',\n",
       " '__reduce_ex__',\n",
       " '__repr__',\n",
       " '__setattr__',\n",
       " '__sizeof__',\n",
       " '__str__',\n",
       " '__subclasshook__',\n",
       " 'clone',\n",
       " 'computeApertureFlux',\n",
       " 'computeBBox',\n",
       " 'computeImage',\n",
       " 'computeImageBBox',\n",
       " 'computeKernelBBox',\n",
       " 'computeKernelImage',\n",
       " 'computePeak',\n",
       " 'computeShape',\n",
       " 'getAverageColor',\n",
       " 'getAveragePosition',\n",
       " 'getCacheCapacity',\n",
       " 'getKernel',\n",
       " 'getLocalKernel',\n",
       " 'isPersistable',\n",
       " 'readFits',\n",
       " 'recenterKernelImage',\n",
       " 'resized',\n",
       " 'setCacheCapacity',\n",
       " 'write',\n",
       " 'writeFits']"
      ]
     },
     "execution_count": 77,
     "metadata": {},
     "output_type": "execute_result"
    }
   ],
   "source": [
    "dir (psf)"
   ]
  },
  {
   "cell_type": "code",
   "execution_count": 71,
   "id": "24a0e7e2",
   "metadata": {},
   "outputs": [
    {
     "data": {
      "text/plain": [
       "Quadrupole(ixx=7.134939548886614, iyy=6.3665688626143275, ixy=0.19049972941591878)"
      ]
     },
     "execution_count": 71,
     "metadata": {},
     "output_type": "execute_result"
    }
   ],
   "source": [
    "psf.computeShape(wcs.skyToPixel(wcs.pixelToSky(100,100)))"
   ]
  },
  {
   "cell_type": "code",
   "execution_count": 70,
   "id": "483cfbe9",
   "metadata": {},
   "outputs": [
    {
     "data": {
      "text/plain": [
       "['__class__',\n",
       " '__delattr__',\n",
       " '__dir__',\n",
       " '__doc__',\n",
       " '__eq__',\n",
       " '__format__',\n",
       " '__ge__',\n",
       " '__getattribute__',\n",
       " '__getstate__',\n",
       " '__gt__',\n",
       " '__hash__',\n",
       " '__init__',\n",
       " '__init_subclass__',\n",
       " '__le__',\n",
       " '__lt__',\n",
       " '__module__',\n",
       " '__ne__',\n",
       " '__new__',\n",
       " '__nq__',\n",
       " '__reduce__',\n",
       " '__reduce_ex__',\n",
       " '__repr__',\n",
       " '__setattr__',\n",
       " '__sizeof__',\n",
       " '__str__',\n",
       " '__subclasshook__',\n",
       " 'assign',\n",
       " 'clone',\n",
       " 'computeDimensions',\n",
       " 'convolve',\n",
       " 'getArea',\n",
       " 'getDeterminantRadius',\n",
       " 'getIxx',\n",
       " 'getIxy',\n",
       " 'getIyy',\n",
       " 'getName',\n",
       " 'getParameterVector',\n",
       " 'getTraceRadius',\n",
       " 'grow',\n",
       " 'normalize',\n",
       " 'scale',\n",
       " 'setIxx',\n",
       " 'setIxy',\n",
       " 'setIyy',\n",
       " 'setParameterVector',\n",
       " 'transform',\n",
       " 'transformInPlace']"
      ]
     },
     "execution_count": 70,
     "metadata": {},
     "output_type": "execute_result"
    }
   ],
   "source": [
    "dir(psf.computeShape(wcs.skyToPixel(wcs.pixelToSky(100,100))))"
   ]
  },
  {
   "cell_type": "code",
   "execution_count": 60,
   "id": "5974bfc0",
   "metadata": {},
   "outputs": [
    {
     "data": {
      "text/plain": [
       "Point2D(-2.8564134026964894e-06, -4.3138662476849277e-05)"
      ]
     },
     "execution_count": 60,
     "metadata": {},
     "output_type": "execute_result"
    }
   ],
   "source": [
    "wcs.skyToPixel(wcs.pixelToSky(0,0))"
   ]
  },
  {
   "cell_type": "code",
   "execution_count": 48,
   "id": "7b8b60cf",
   "metadata": {},
   "outputs": [
    {
     "data": {
      "text/plain": [
       "['__class__',\n",
       " '__delattr__',\n",
       " '__dir__',\n",
       " '__doc__',\n",
       " '__eq__',\n",
       " '__format__',\n",
       " '__ge__',\n",
       " '__getattribute__',\n",
       " '__getstate__',\n",
       " '__gt__',\n",
       " '__hash__',\n",
       " '__init__',\n",
       " '__init_subclass__',\n",
       " '__le__',\n",
       " '__lt__',\n",
       " '__module__',\n",
       " '__ne__',\n",
       " '__new__',\n",
       " '__reduce__',\n",
       " '__reduce_ex__',\n",
       " '__repr__',\n",
       " '__setattr__',\n",
       " '__sizeof__',\n",
       " '__str__',\n",
       " '__subclasshook__',\n",
       " 'copyAtShiftedPixelOrigin',\n",
       " 'getCdMatrix',\n",
       " 'getFitsMetadata',\n",
       " 'getFrameDict',\n",
       " 'getPixelOrigin',\n",
       " 'getPixelScale',\n",
       " 'getRelativeRotationToWcs',\n",
       " 'getSkyOrigin',\n",
       " 'getTanWcs',\n",
       " 'getTransform',\n",
       " 'isFits',\n",
       " 'isFlipped',\n",
       " 'isPersistable',\n",
       " 'linearizePixelToSky',\n",
       " 'linearizeSkyToPixel',\n",
       " 'pixelToSky',\n",
       " 'pixelToSkyArray',\n",
       " 'readFits',\n",
       " 'readString',\n",
       " 'skyToPixel',\n",
       " 'skyToPixelArray',\n",
       " 'writeFits',\n",
       " 'writeString']"
      ]
     },
     "execution_count": 48,
     "metadata": {},
     "output_type": "execute_result"
    }
   ],
   "source": [
    "dir(raw.wcs)"
   ]
  },
  {
   "cell_type": "code",
   "execution_count": 40,
   "id": "b69aec9b",
   "metadata": {},
   "outputs": [
    {
     "data": {
      "text/plain": [
       "'PSF'"
      ]
     },
     "execution_count": 40,
     "metadata": {},
     "output_type": "execute_result"
    }
   ],
   "source": [
    "raw.info.KEY_PSF"
   ]
  },
  {
   "cell_type": "code",
   "execution_count": 25,
   "id": "464a6286",
   "metadata": {},
   "outputs": [
    {
     "data": {
      "text/plain": [
       "['__class__',\n",
       " '__delattr__',\n",
       " '__dir__',\n",
       " '__doc__',\n",
       " '__eq__',\n",
       " '__format__',\n",
       " '__ge__',\n",
       " '__getattribute__',\n",
       " '__getstate__',\n",
       " '__gt__',\n",
       " '__hash__',\n",
       " '__init__',\n",
       " '__init_subclass__',\n",
       " '__le__',\n",
       " '__lt__',\n",
       " '__module__',\n",
       " '__ne__',\n",
       " '__new__',\n",
       " '__reduce__',\n",
       " '__reduce_ex__',\n",
       " '__repr__',\n",
       " '__setattr__',\n",
       " '__sizeof__',\n",
       " '__str__',\n",
       " '__subclasshook__',\n",
       " '_isConstant',\n",
       " 'calibrateCatalog',\n",
       " 'calibrateImage',\n",
       " 'computeScaledCalibration',\n",
       " 'computeScalingTo',\n",
       " 'getCalibrationErr',\n",
       " 'getCalibrationMean',\n",
       " 'getInstFluxAtZeroMagnitude',\n",
       " 'getLocalCalibration',\n",
       " 'getLocalCalibrationArray',\n",
       " 'instFluxToMagnitude',\n",
       " 'instFluxToMagnitudeArray',\n",
       " 'instFluxToNanojansky',\n",
       " 'isPersistable',\n",
       " 'magnitudeToInstFlux',\n",
       " 'magnitudeToInstFluxArray',\n",
       " 'readFits',\n",
       " 'writeFits']"
      ]
     },
     "execution_count": 25,
     "metadata": {},
     "output_type": "execute_result"
    }
   ],
   "source": [
    "dir(raw.photoCalib)"
   ]
  },
  {
   "cell_type": "code",
   "execution_count": 26,
   "id": "831211ef",
   "metadata": {},
   "outputs": [
    {
     "data": {
      "text/plain": [
       "<bound method PyCapsule.calibrateCatalog of PhotoCalib(spatially constant with mean: 0.768817 error: 0.00079694)>"
      ]
     },
     "execution_count": 26,
     "metadata": {},
     "output_type": "execute_result"
    }
   ],
   "source": [
    "raw.photoCalib.calibrateCatalog"
   ]
  },
  {
   "cell_type": "code",
   "execution_count": 32,
   "id": "e2b2808b",
   "metadata": {},
   "outputs": [
    {
     "data": {
      "text/plain": [
       "['COPY',\n",
       " 'INTERNAL',\n",
       " 'ImageOwnerEnum',\n",
       " '__class__',\n",
       " '__delattr__',\n",
       " '__dir__',\n",
       " '__doc__',\n",
       " '__eq__',\n",
       " '__format__',\n",
       " '__ge__',\n",
       " '__getattribute__',\n",
       " '__getstate__',\n",
       " '__gt__',\n",
       " '__hash__',\n",
       " '__init__',\n",
       " '__init_subclass__',\n",
       " '__le__',\n",
       " '__lt__',\n",
       " '__module__',\n",
       " '__ne__',\n",
       " '__new__',\n",
       " '__reduce__',\n",
       " '__reduce_ex__',\n",
       " '__repr__',\n",
       " '__setattr__',\n",
       " '__sizeof__',\n",
       " '__str__',\n",
       " '__subclasshook__',\n",
       " 'clone',\n",
       " 'computeApertureFlux',\n",
       " 'computeBBox',\n",
       " 'computeImage',\n",
       " 'computeImageBBox',\n",
       " 'computeKernelBBox',\n",
       " 'computeKernelImage',\n",
       " 'computePeak',\n",
       " 'computeShape',\n",
       " 'getAverageColor',\n",
       " 'getAveragePosition',\n",
       " 'getCacheCapacity',\n",
       " 'getKernel',\n",
       " 'getLocalKernel',\n",
       " 'isPersistable',\n",
       " 'readFits',\n",
       " 'recenterKernelImage',\n",
       " 'resized',\n",
       " 'setCacheCapacity',\n",
       " 'write',\n",
       " 'writeFits']"
      ]
     },
     "execution_count": 32,
     "metadata": {},
     "output_type": "execute_result"
    }
   ],
   "source": [
    "dir(raw.psf)"
   ]
  },
  {
   "cell_type": "code",
   "execution_count": 29,
   "id": "4c52c5e9",
   "metadata": {},
   "outputs": [
    {
     "data": {
      "text/plain": [
       "<lsst.meas.extensions.psfex.PsfexPsf at 0x7f8b452cd6f0>"
      ]
     },
     "execution_count": 29,
     "metadata": {},
     "output_type": "execute_result"
    }
   ],
   "source": [
    "raw.psf"
   ]
  },
  {
   "cell_type": "code",
   "execution_count": 20,
   "id": "e4b33d6b",
   "metadata": {},
   "outputs": [
    {
     "data": {
      "text/plain": [
       "['__class__',\n",
       " '__deepcopy__',\n",
       " '__delattr__',\n",
       " '__dir__',\n",
       " '__doc__',\n",
       " '__eq__',\n",
       " '__format__',\n",
       " '__ge__',\n",
       " '__getattribute__',\n",
       " '__getstate__',\n",
       " '__gt__',\n",
       " '__hash__',\n",
       " '__init__',\n",
       " '__init_subclass__',\n",
       " '__le__',\n",
       " '__lt__',\n",
       " '__module__',\n",
       " '__ne__',\n",
       " '__new__',\n",
       " '__reduce__',\n",
       " '__reduce_ex__',\n",
       " '__repr__',\n",
       " '__setattr__',\n",
       " '__sizeof__',\n",
       " '__str__',\n",
       " '__subclasshook__',\n",
       " 'boresightAirmass',\n",
       " 'boresightAzAlt',\n",
       " 'boresightHourAngle',\n",
       " 'boresightParAngle',\n",
       " 'boresightRaDec',\n",
       " 'boresightRotAngle',\n",
       " 'copyWith',\n",
       " 'darkTime',\n",
       " 'date',\n",
       " 'era',\n",
       " 'exposureTime',\n",
       " 'focusZ',\n",
       " 'getBoresightAirmass',\n",
       " 'getBoresightAzAlt',\n",
       " 'getBoresightHourAngle',\n",
       " 'getBoresightParAngle',\n",
       " 'getBoresightRaDec',\n",
       " 'getBoresightRotAngle',\n",
       " 'getDarkTime',\n",
       " 'getDate',\n",
       " 'getEra',\n",
       " 'getExposureTime',\n",
       " 'getFocusZ',\n",
       " 'getHasSimulatedContent',\n",
       " 'getId',\n",
       " 'getInstrumentLabel',\n",
       " 'getLocalEra',\n",
       " 'getObject',\n",
       " 'getObservationReason',\n",
       " 'getObservationType',\n",
       " 'getObservatory',\n",
       " 'getRotType',\n",
       " 'getScienceProgram',\n",
       " 'getUt1',\n",
       " 'getWeather',\n",
       " 'hasSimulatedContent',\n",
       " 'id',\n",
       " 'instrumentLabel',\n",
       " 'isPersistable',\n",
       " 'localEra',\n",
       " 'object',\n",
       " 'observationReason',\n",
       " 'observationType',\n",
       " 'observatory',\n",
       " 'readFits',\n",
       " 'rotType',\n",
       " 'scienceProgram',\n",
       " 'ut1',\n",
       " 'weather',\n",
       " 'writeFits']"
      ]
     },
     "execution_count": 20,
     "metadata": {},
     "output_type": "execute_result"
    }
   ],
   "source": [
    "dir(raw.visitInfo)"
   ]
  },
  {
   "cell_type": "code",
   "execution_count": 22,
   "id": "e96b9643",
   "metadata": {},
   "outputs": [
    {
     "data": {
      "text/plain": [
       "3.7"
      ]
     },
     "execution_count": 22,
     "metadata": {},
     "output_type": "execute_result"
    }
   ],
   "source": [
    "raw.visitInfo.focusZ"
   ]
  },
  {
   "cell_type": "code",
   "execution_count": 7,
   "id": "d02ea32c",
   "metadata": {},
   "outputs": [
    {
     "data": {
      "text/plain": [
       "240.0"
      ]
     },
     "execution_count": 7,
     "metadata": {},
     "output_type": "execute_result"
    }
   ],
   "source": [
    "raw.visitInfo.exposureTime"
   ]
  },
  {
   "cell_type": "code",
   "execution_count": 89,
   "id": "faad9b3c",
   "metadata": {
    "scrolled": false
   },
   "outputs": [
    {
     "data": {
      "text/plain": [
       "array([   0,    1,    2, ..., 4797, 4798, 4799])"
      ]
     },
     "execution_count": 89,
     "metadata": {},
     "output_type": "execute_result"
    }
   ],
   "source": [
    "np.arange(len(catalog))"
   ]
  },
  {
   "cell_type": "code",
   "execution_count": 87,
   "id": "de5bebbf",
   "metadata": {},
   "outputs": [
    {
     "ename": "TypeError",
     "evalue": "data_info_factory.<locals>.func() missing 1 required positional argument: 'dat'",
     "output_type": "error",
     "traceback": [
      "\u001b[0;31m---------------------------------------------------------------------------\u001b[0m",
      "\u001b[0;31mTypeError\u001b[0m                                 Traceback (most recent call last)",
      "Cell \u001b[0;32mIn[87], line 1\u001b[0m\n\u001b[0;32m----> 1\u001b[0m \u001b[43mcatalog\u001b[49m\u001b[38;5;241;43m.\u001b[39;49m\u001b[43minfo\u001b[49m\u001b[38;5;241;43m.\u001b[39;49m\u001b[43minfo_summary_stats\u001b[49m\u001b[43m(\u001b[49m\u001b[43m)\u001b[49m\n",
      "\u001b[0;31mTypeError\u001b[0m: data_info_factory.<locals>.func() missing 1 required positional argument: 'dat'"
     ]
    }
   ],
   "source": [
    "catalog.info.info_summary_stats()"
   ]
  },
  {
   "cell_type": "code",
   "execution_count": null,
   "id": "dc2a71ce",
   "metadata": {},
   "outputs": [],
   "source": []
  }
 ],
 "metadata": {
  "kernelspec": {
   "display_name": "Karlo's LSST Stack",
   "language": "python",
   "name": "kmrakovcic_lsststack"
  },
  "language_info": {
   "codemirror_mode": {
    "name": "ipython",
    "version": 3
   },
   "file_extension": ".py",
   "mimetype": "text/x-python",
   "name": "python",
   "nbconvert_exporter": "python",
   "pygments_lexer": "ipython3",
   "version": "3.11.9"
  }
 },
 "nbformat": 4,
 "nbformat_minor": 5
}
