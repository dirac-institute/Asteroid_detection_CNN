{
 "cells": [
  {
   "cell_type": "code",
   "execution_count": 4,
   "id": "daaf6e92",
   "metadata": {},
   "source": [
    "import sys\n",
    "sys.path.append(\"..\")\n",
    "sys.path.append(\"../experiments\")\n",
    "from completeness_histogram import plot_completeness_magnitude_histogram\n",
    "import tools\n",
    "import tensorflow as tf\n",
    "import evals\n",
    "import matplotlib.pyplot as plt\n",
    "import numpy as np\n",
    "from lsst.daf.butler import Butler\n",
    "import matplotlib as mpl\n",
    "import pandas as pd\n",
    "%load_ext autoreload\n",
    "%autoreload 2"
   ],
   "outputs": []
  },
  {
   "cell_type": "code",
   "execution_count": 2,
   "id": "9c1af0c8",
   "metadata": {},
   "source": [
    "gpus = tf.config.experimental.list_physical_devices('GPU')\n",
    "for gpu in gpus:\n",
    "    tf.config.experimental.set_memory_growth(gpu, True)\n",
    "model_path = \"../DATA/Trained_model_51998216.keras\"\n",
    "tf_dataset_path = \"/astro/users/kmrakovc/Projects/LSST_Streak_Detection/DATA/\"\n",
    "collection = \"u/kmrakovc/runs/\"\n",
    "val_index_path=None\n",
    "repo_path =\"/epyc/ssd/users/kmrakovc/DATA/rc2_subset/SMALL_HSC/\"\n",
    "threshold = 0\n",
    "batch_size=20"
   ],
   "outputs": []
  },
  {
   "cell_type": "code",
   "execution_count": 3,
   "id": "1afe43e1",
   "metadata": {},
   "source": [
    "predictions_full, predictions_len30  = evals.eval_tools.create_nn_prediction ([tf_dataset_path+\"test_test_full.tfrecord\",\n",
    "                                                                              tf_dataset_path+\"test_len_29_31.tfrecord\"],\n",
    "                                                        model_path,\n",
    "                                                        threshold=threshold)\n",
    "np.savez(\"../DATA/predictions.npz\", predictions_full=predictions_full, predictions_len30=predictions_len30)"
   ],
   "outputs": []
  },
  {
   "cell_type": "code",
   "execution_count": 3,
   "id": "f00e287a",
   "metadata": {},
   "source": [
    "with np.load(\"../DATA/predictions.npz\") as data:\n",
    "    predictions_full = data['predictions_full']\n",
    "    predictions_len30 = data['predictions_len30']\n",
    "print (predictions_full.shape, predictions_len30.shape)"
   ],
   "outputs": []
  },
  {
   "cell_type": "code",
   "execution_count": 11,
   "id": "346ab491",
   "metadata": {},
   "source": [
    "table_full = evals.eval_tools.recovered_sources (repo_path, collection+\"single_frame_injection_test_full\",\n",
    "                               nn_predictions=predictions_full>0.5, n_parallel=20)\n",
    "ax_full = plot_completeness_magnitude_histogram (table_full)"
   ],
   "outputs": []
  },
  {
   "cell_type": "code",
   "execution_count": 12,
   "id": "7abf0332",
   "metadata": {},
   "source": [
    "table_len30 = evals.eval_tools.recovered_sources (repo_path, collection+\"single_frame_injection_len_29_31\",\n",
    "                               nn_predictions=predictions_len30>0.5, n_parallel=20)\n",
    "ax_len30 = plot_completeness_magnitude_histogram (table_len30)"
   ],
   "outputs": []
  },
  {
   "cell_type": "code",
   "execution_count": 13,
   "id": "fb367709",
   "metadata": {},
   "source": [
    "ax_len30 = plot_completeness_magnitude_histogram (table_len30, absolute_numbers=True)"
   ],
   "outputs": []
  },
  {
   "cell_type": "code",
   "execution_count": null,
   "id": "904ab9f8",
   "metadata": {},
   "source": [],
   "outputs": []
  }
 ],
 "metadata": {
  "kernelspec": {
   "display_name": "Karlo's LSST Stack",
   "language": "python",
   "name": "kmrakovcic_lsststack"
  },
  "language_info": {
   "codemirror_mode": {
    "name": "ipython",
    "version": 3
   },
   "file_extension": ".py",
   "mimetype": "text/x-python",
   "name": "python",
   "nbconvert_exporter": "python",
   "pygments_lexer": "ipython3",
   "version": "3.11.9"
  }
 },
 "nbformat": 4,
 "nbformat_minor": 5
}
