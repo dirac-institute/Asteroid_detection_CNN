{
 "cells": [
  {
   "cell_type": "code",
   "execution_count": 1,
   "id": "213c26b1",
   "metadata": {},
   "source": [
    "from lsst.source.injection import generate_injection_catalog\n",
    "from lsst.source.injection import ingest_injection_catalog\n",
    "from lsst.daf.butler import Butler\n",
    "import numpy as np\n",
    "import os\n",
    "from astropy.table import QTable, Table, Column\n",
    "from matplotlib import pyplot as plt"
   ],
   "outputs": []
  },
  {
   "cell_type": "code",
   "execution_count": 2,
   "id": "25ebf38c",
   "metadata": {},
   "source": [
    "RUN_NUMBER = \"02\""
   ],
   "outputs": []
  },
  {
   "cell_type": "code",
   "execution_count": 3,
   "id": "180cd506",
   "metadata": {},
   "source": [
    "n_inject = 20\n",
    "source_type=\"Trail\"\n",
    "trail_length=[4, 74]\n",
    "#mag=[20.1, 27.2]\n",
    "mag = [24.0, 24.2]\n",
    "beta=[0, 180]"
   ],
   "outputs": []
  },
  {
   "cell_type": "code",
   "execution_count": 4,
   "id": "d126e962",
   "metadata": {},
   "source": [
    "user = os.getenv(\"USER\")\n",
    "REPO = \"/epyc/ssd/users/kmrakovc/DATA/rc2_subset/SMALL_HSC/\"\n",
    "INPUT_COLL = \"u/kmrakovc/RC2_subset/run_1\"\n",
    "OUTPUT_COLL = \"u/\"+user+\"/single_frame_injection_\"+RUN_NUMBER\n",
    "# Instantiate a butler.\n",
    "butler = Butler(REPO)"
   ],
   "outputs": []
  },
  {
   "cell_type": "code",
   "execution_count": 5,
   "id": "93ece3b0",
   "metadata": {
    "scrolled": false
   },
   "source": [
    "registry = butler.registry\n",
    "ra = []\n",
    "dec = []\n",
    "last_id=0\n",
    "injection_catalog = Table(names=('injection_id', 'ra', 'dec', 'source_type', 'trail_length', 'mag', 'beta', 'visit'), \n",
    "                          dtype=('int64', 'float64', 'float64', 'str', 'int64', 'float64', 'float64', 'int64'))\n",
    "length = len(list(registry.queryDatasets(\"calexp\", collections=INPUT_COLL, instrument='HSC')))\n",
    "for i,ref in enumerate(registry.queryDatasets(\"calexp\", collections=INPUT_COLL, instrument='HSC')):\n",
    "    raw = butler.get(\n",
    "        \"calexp\",\n",
    "        dataId=ref.dataId,\n",
    "        collections=INPUT_COLL,\n",
    "    )\n",
    "    start = raw.wcs.pixelToSky(0,0)\n",
    "    end = raw.wcs.pixelToSky(raw.getDimensions()[0],raw.getDimensions()[1])\n",
    "    \n",
    "    min_ra = start.getRa()\n",
    "    min_dec = start.getDec()\n",
    "    max_ra = end.getRa()\n",
    "    max_dec = end.getDec()\n",
    "    if not ([min_ra, max_ra] in ra) and not ([min_dec, max_dec] in dec):\n",
    "        ra.append([min_ra, max_ra])\n",
    "        dec.append([min_dec, max_dec])\n",
    "        for k in range(last_id, last_id+n_inject):\n",
    "            ra_pos = np.random.uniform (low=min_ra.asDegrees(), high=max_ra.asDegrees())\n",
    "            dec_pos = np.random.uniform (low=min_dec.asDegrees(), high=max_dec.asDegrees())\n",
    "            inject_length = np.random.uniform (low=trail_length[0], high=trail_length[1])\n",
    "            magnitude = np.random.uniform (low=mag[0], high=mag[1])\n",
    "            angle = np.random.uniform (low=beta[0], high=beta[1])\n",
    "            visitid = raw.getInfo().getVisitInfo().id\n",
    "            injection_catalog.add_row([k, ra_pos, dec_pos, \"Trail\", inject_length, magnitude, angle, visitid])\n",
    "        last_id=k\n",
    "    print(\"\\r\",i+1, \"/\", length, end=\"\")\n",
    "injection_catalog"
   ],
   "outputs": []
  },
  {
   "cell_type": "code",
   "execution_count": 6,
   "id": "e8ed54f1",
   "metadata": {},
   "source": [
    "# Instantiate a writeable Butler.\n",
    "writeable_butler = Butler(REPO, writeable=True)\n",
    "\n",
    "# Ingest the injection catalog.\n",
    "for bands in [\"g\",\"r\",\"i\",\"z\",\"y\"]:\n",
    "    my_injected_datasetRefs = ingest_injection_catalog(\n",
    "        writeable_butler=writeable_butler,\n",
    "        table=injection_catalog,\n",
    "        band=bands,\n",
    "        output_collection=f\"u/{user}/injection_inputs_\"+RUN_NUMBER)"
   ],
   "outputs": []
  },
  {
   "cell_type": "code",
   "execution_count": 135,
   "id": "485599f6",
   "metadata": {},
   "source": [
    "import matplotlib.pyplot as plt\n",
    "import matplotlib.patches as patches\n",
    "\n",
    "max_dec = np.max(dec).asDegrees()\n",
    "min_dec = np.min(dec).asDegrees()\n",
    "max_ra = np.max(ra).asDegrees()\n",
    "min_ra = np.min(ra).asDegrees()\n",
    "\n",
    "# Create figure and axes\n",
    "fig, ax = plt.subplots()\n",
    "\n",
    "# Display the image\n",
    "ax.plot(max_dec,max_ra)\n",
    "# Create a Rectangle patch\n",
    "for i in range(len(ra)):\n",
    "    rect = patches.Rectangle((dec[i][1].asDegrees(), ra[i][0].asDegrees()), -dec[i][0].asDegrees()+dec[i][1].asDegrees(), -ra[i][0].asDegrees()+ra[i][1].asDegrees(), linewidth=1, edgecolor='r', facecolor='none')\n",
    "\n",
    "    # Add the patch to the Axes\n",
    "    ax.add_patch(rect)\n",
    "ax.set_xlabel(\"dec\")\n",
    "ax.set_ylabel(\"ra\")\n",
    "ax.set_aspect('equal', adjustable='box')\n",
    "plt.show()"
   ],
   "outputs": []
  },
  {
   "cell_type": "code",
   "execution_count": null,
   "id": "703fbcb9",
   "metadata": {},
   "source": [],
   "outputs": []
  }
 ],
 "metadata": {
  "kernelspec": {
   "display_name": "LSST pipeline",
   "language": "python",
   "name": "kmrakovc_lsst"
  },
  "language_info": {
   "codemirror_mode": {
    "name": "ipython",
    "version": 3
   },
   "file_extension": ".py",
   "mimetype": "text/x-python",
   "name": "python",
   "nbconvert_exporter": "python",
   "pygments_lexer": "ipython3",
   "version": "3.11.7"
  }
 },
 "nbformat": 4,
 "nbformat_minor": 5
}
