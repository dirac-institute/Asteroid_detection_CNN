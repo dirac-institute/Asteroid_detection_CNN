{
 "cells": [
  {
   "cell_type": "code",
   "execution_count": 4,
   "id": "6ab597c0",
   "metadata": {
    "scrolled": false
   },
   "source": [
    "import sys\n",
    "sys.path.append(\"..\")\n",
    "import tools\n",
    "import tensorflow as tf\n",
    "import numpy as np\n",
    "import json\n",
    "from matplotlib import pyplot as plt\n",
    "%load_ext autoreload\n",
    "%autoreload 2"
   ],
   "outputs": []
  },
  {
   "cell_type": "code",
   "execution_count": null,
   "id": "ce411666",
   "metadata": {
    "scrolled": true
   },
   "source": [
    "repo = \"/epyc/ssd/users/kmrakovc/DATA/rc2_subset/SMALL_HSC/\"\n",
    "output_coll = \"u/kmrakovc/single_frame_injection_05\"\n",
    "val_index = tools.data.convert_butler_tfrecords (repo, output_coll, shape=(128,128), \n",
    "                                     filename_train=\"/astro/users/kmrakovc/Projects/LSST_Streak_Detection/DATA/train4.tfrecord\",\n",
    "                                     filename_test=\"/astro/users/kmrakovc/Projects/LSST_Streak_Detection/DATA/test4.tfrecord\")"
   ],
   "outputs": []
  },
  {
   "cell_type": "code",
   "execution_count": 6,
   "id": "6a6fdce4",
   "metadata": {},
   "source": [
    "val_index = np.array(val_index)\n",
    "val_index.sort()\n",
    "with open(\"/astro/users/kmrakovc/Projects/LSST_Streak_Detection/DATA/val_index1.npy\", 'wb') as f:\n",
    "    np.save(f, val_index)\n",
    "print (val_index)"
   ],
   "outputs": []
  },
  {
   "cell_type": "code",
   "execution_count": 3,
   "id": "63531728",
   "metadata": {},
   "source": [
    "dataset_train = tf.data.TFRecordDataset([\"/astro/users/kmrakovc/Projects/LSST_Streak_Detection/DATA/train.tfrecord\"])\n",
    "tfrecord_shape = tools.model.get_shape_of_quadratic_image_tfrecord(dataset_train)\n",
    "dataset_train = dataset_train.map(tools.model.parse_function(img_shape=tfrecord_shape, test=False))\n",
    "#dataset_train = dataset_train.batch(128).prefetch(2)\n",
    "dataset_val = tf.data.TFRecordDataset([\"/astro/users/kmrakovc/Projects/LSST_Streak_Detection/DATA/test.tfrecord\"])\n",
    "dataset_val = dataset_val.map(tools.model.parse_function(img_shape=tfrecord_shape, test=False))\n",
    "#dataset_val = dataset_val.batch(128).prefetch(2)"
   ],
   "outputs": []
  },
  {
   "cell_type": "code",
   "execution_count": 380,
   "id": "cf65e675",
   "metadata": {
    "scrolled": true
   },
   "source": [
    "print (\"Train dataset:\")\n",
    "for i,j in enumerate(dataset_train):\n",
    "    print (\"\\r\",i, end=\"\")\n",
    "print (\"\\nTest dataset:\")\n",
    "for i,j in enumerate(dataset_val):\n",
    "    print (\"\\r\",i, end=\"\")"
   ],
   "outputs": []
  },
  {
   "cell_type": "code",
   "execution_count": 12,
   "id": "3a9fd9a6",
   "metadata": {},
   "source": [
    "dataset_train_merged = tools.data.merge (dataset_train, (4176, 2048))\n",
    "dataset_val_merged = tools.data.merge (dataset_val, (4176, 2048))"
   ],
   "outputs": []
  },
  {
   "cell_type": "code",
   "execution_count": 13,
   "id": "9ed93eaf",
   "metadata": {},
   "source": [
    "def dataset_to_numpy(dataset):\n",
    "    for i, a in enumerate(dataset):\n",
    "        s = a.shape\n",
    "    array = np.empty((i+1)+s)\n",
    "    for i, a in enumerate(dataset):\n",
    "        array[i] = a\n",
    "    return array\n",
    "test = dataset_to_numpy(dataset_train_merged)\n",
    "val = dataset_to_numpy(dataset_val_merged)"
   ],
   "outputs": []
  },
  {
   "cell_type": "code",
   "execution_count": 15,
   "id": "fd36780e",
   "metadata": {},
   "source": [
    "test.shape, val.shape"
   ],
   "outputs": []
  },
  {
   "cell_type": "code",
   "execution_count": 17,
   "id": "f56d298c",
   "metadata": {},
   "source": [
    "tools.data.get_asteroid_num(test[1])"
   ],
   "outputs": []
  },
  {
   "cell_type": "code",
   "execution_count": null,
   "id": "59f6f339",
   "metadata": {},
   "source": [],
   "outputs": []
  }
 ],
 "metadata": {
  "kernelspec": {
   "display_name": "LSST pipeline",
   "language": "python",
   "name": "kmrakovc_lsst"
  },
  "language_info": {
   "codemirror_mode": {
    "name": "ipython",
    "version": 3
   },
   "file_extension": ".py",
   "mimetype": "text/x-python",
   "name": "python",
   "nbconvert_exporter": "python",
   "pygments_lexer": "ipython3",
   "version": "3.11.7"
  }
 },
 "nbformat": 4,
 "nbformat_minor": 5
}
