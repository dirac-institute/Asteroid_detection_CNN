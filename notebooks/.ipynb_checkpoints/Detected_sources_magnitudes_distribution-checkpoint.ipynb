{
 "cells": [
  {
   "cell_type": "code",
   "execution_count": 1,
   "id": "57636c02",
   "metadata": {},
   "source": [
    "import sys\n",
    "sys.path.append(\"..\")\n",
    "from lsst.daf.butler import Butler\n",
    "import numpy as np\n",
    "import pandas as pd\n",
    "import matplotlib.pyplot as plt\n",
    "import multiprocessing\n",
    "import evals\n",
    "%load_ext autoreload\n",
    "%autoreload 2\n",
    "%matplotlib inline"
   ],
   "outputs": []
  },
  {
   "cell_type": "code",
   "execution_count": 2,
   "id": "eea54d1d",
   "metadata": {},
   "source": [
    "collection = \"u/kmrakovc/runs/single_frame_injection_stars_full\"\n",
    "#collection = \"u/kmrakovc/runs/single_frame_injection_test_full\"\n",
    "repo_path =\"/epyc/ssd/users/kmrakovc/DATA/rc2_subset/SMALL_HSC/\""
   ],
   "outputs": []
  },
  {
   "cell_type": "code",
   "execution_count": 3,
   "id": "d762a83b",
   "metadata": {},
   "source": [
    "def measure_one_src_catalog(butler, collection, src_ref, calexp_ref, index):\n",
    "    src = butler.get(\"src\",\n",
    "                     dataId=src_ref.dataId,\n",
    "                     collections=collection)\n",
    "    photocalib = butler.get(\"calexp.photoCalib\",\n",
    "                            dataId=calexp_ref.dataId,\n",
    "                            collections=collection)\n",
    "    wcs = butler.get(\"calexp.wcs\",\n",
    "                     dataId=calexp_ref.dataId,\n",
    "                     collections=collection)\n",
    "    s1 = src[src['parent']==0]\n",
    "    snr = np.array(s1[\"base_PsfFlux_instFlux\"])/np.array(s1[\"base_PsfFlux_instFluxErr\"])\n",
    "    magnitude = photocalib.instFluxToMagnitude(s1, 'base_PsfFlux')\n",
    "    detection_origins = wcs.skyToPixelArray(np.array([s1[\"coord_ra\"]]),\n",
    "                                            np.array([s1[\"coord_dec\"]]),\n",
    "                                            degrees=False)\n",
    "    sources = s1.asAstropy()\n",
    "    sources[\"snr\"]=snr\n",
    "    sources[\"magnitude\"]=magnitude[:,0]\n",
    "    sources[\"magnitudeErr\"]=magnitude[:,1]\n",
    "    sources[\"n\"]=index\n",
    "    sources[\"y\"]=np.round(detection_origins[0])\n",
    "    sources[\"x\"]=np.round(detection_origins[1])\n",
    "    return sources.to_pandas()\n",
    "\n",
    "def measure_src_catalog (repo_path, collection, val_index=None, n_parallel=0):\n",
    "    butler = Butler(repo_path)\n",
    "    calexp_ref = np.unique(np.array(list(butler.registry.queryDatasets(\"calexp\",\n",
    "                                                                       collections=collection,\n",
    "                                                                       instrument='HSC',\n",
    "                                                                       findFirst=True))))\n",
    "    src_ref = np.unique(np.array(list(butler.registry.queryDatasets(\"src\",\n",
    "                                                                    collections=collection,\n",
    "                                                                    instrument='HSC',\n",
    "                                                                    findFirst=True))))\n",
    "    if val_index is None:\n",
    "        val_index = list(range(len(src_ref)))\n",
    "    parameters = [(butler, collection, calexp_ref[i], src_ref[i], i) for i in val_index]\n",
    "    if n_parallel > 1:\n",
    "        with multiprocessing.Pool(n_parallel) as pool:\n",
    "            results = pool.starmap(measure_one_src_catalog, parameters)\n",
    "    else:\n",
    "        results = [None] * len(parameters)\n",
    "        for i, p in enumerate(parameters):\n",
    "            results[i] = measure_one_src_catalog(*p)\n",
    "            print(\"\\r\", i + 1, \"/\", len(parameters), end=\"\")\n",
    "    results = pd.concat(results).reset_index(drop=True)\n",
    "    return results"
   ],
   "outputs": []
  },
  {
   "cell_type": "code",
   "execution_count": 4,
   "id": "31af8ab3",
   "metadata": {},
   "source": [
    "def cutouts_by_snr_bins (repo_path, collection, sources, snr=[5, 10, 15, 20, 25, 30], cutout_size=20, calexp_type=\"calexp\"):\n",
    "    snr_column_name=[col for col in sources.columns if 'snr' in col][0]\n",
    "    mag_column_name=[col for col in sources.columns[sources.dtypes==float] if 'mag' in col]\n",
    "    butler = Butler(repo_path)\n",
    "    calexp_ref = np.unique(np.array(list(butler.registry.queryDatasets(calexp_type,\n",
    "                                                                       collections=collection,\n",
    "                                                                       instrument='HSC',\n",
    "                                                                       findFirst=True))))\n",
    "    calexp_dimensions = butler.get(calexp_type+\".dimensions\",\n",
    "                                   dataId=calexp_ref[0].dataId,\n",
    "                                   collections=collection)\n",
    "    sources = sources[(sources[snr_column_name]>0) & (sources[\"x\"]>3*cutout_size) & (sources[\"y\"]>3*cutout_size)]\n",
    "    sources = sources[(sources[\"x\"]<calexp_dimensions.y-3*cutout_size) & (sources[\"y\"]<calexp_dimensions.x-3*cutout_size)]\n",
    "    fig, ax = plt.subplots(1, len(snr), figsize=(len(snr)*2.7, 1*4))\n",
    "    for i, s in enumerate(snr):\n",
    "        source_info = sources.iloc[[np.argsort(np.square(np.array(sources[snr_column_name]-s)))[0]]][[\"n\",\"x\",\"y\", snr_column_name]+mag_column_name]\n",
    "        calexp = butler.get(calexp_type, dataId=calexp_ref[source_info[\"n\"].values[0]].dataId, collections=collection).image.array\n",
    "        x = int(source_info[\"x\"].values[0])\n",
    "        y = int(source_info[\"y\"].values[0])\n",
    "        cutout = calexp[x-cutout_size:x+cutout_size, \n",
    "                        y-cutout_size:y+cutout_size]\n",
    "        ax[i].imshow(cutout, vmin=calexp.mean()-3*calexp.std(), vmax=calexp.mean()+3*calexp.std(), cmap=\"gray\")\n",
    "        ax[i].set_xticks([])\n",
    "        ax[i].set_yticks([])\n",
    "        ax[i].set_title(\"SNR=\"+str(round(source_info[snr_column_name].values[0],2)))\n",
    "        x_label = \"\"\n",
    "        for col_name in mag_column_name:\n",
    "            x_label += col_name+\":\"+str(round(source_info[col_name].values[0],2))+\"\\n\"\n",
    "        ax[i].set_xlabel(x_label)\n",
    "    fig.tight_layout()\n",
    "    \n",
    "def cutouts_of_one_snr (repo_path, collection, sources, sources_num=5, snr=5, cutout_size=20, calexp_type=\"calexp\"):\n",
    "    snr_column_name=[col for col in sources.columns if 'snr' in col][0]\n",
    "    mag_column_name=[col for col in sources.columns[sources.dtypes==float] if 'mag' in col]\n",
    "    butler = Butler(repo_path)\n",
    "    calexp_ref = np.unique(np.array(list(butler.registry.queryDatasets(calexp_type,\n",
    "                                                                       collections=collection,\n",
    "                                                                       instrument='HSC',\n",
    "                                                                       findFirst=True))))\n",
    "    calexp_dimensions = butler.get(calexp_type+\".dimensions\",\n",
    "                                   dataId=calexp_ref[0].dataId,\n",
    "                                   collections=collection)\n",
    "    sources = sources[(sources[snr_column_name]>0) & (sources[\"x\"]>3*cutout_size) & (sources[\"y\"]>3*cutout_size)]\n",
    "    sources = sources[(sources[\"x\"]<calexp_dimensions.y-3*cutout_size) & (sources[\"y\"]<calexp_dimensions.x-3*cutout_size)]\n",
    "    fig, ax = plt.subplots(1, sources_num, figsize=(sources_num*3, 1*3))\n",
    "    for i in range(sources_num):\n",
    "        source_info = sources.iloc[[np.argsort(np.square(np.array(sources[snr_column_name]-snr)))[i]]][[\"n\",\"x\",\"y\", snr_column_name]+mag_column_name]\n",
    "        calexp = butler.get(calexp_type, dataId=calexp_ref[source_info[\"n\"].values[0]].dataId, collections=collection).image.array\n",
    "        x = int(source_info[\"x\"].values[0])\n",
    "        y = int(source_info[\"y\"].values[0])\n",
    "        cutout = calexp[x-cutout_size:x+cutout_size, \n",
    "                        y-cutout_size:y+cutout_size]\n",
    "        ax[i].imshow(cutout, vmin=calexp.mean()-3*calexp.std(), vmax=calexp.mean()+3*calexp.std(), cmap=\"gray\")\n",
    "        ax[i].set_xticks([])\n",
    "        ax[i].set_yticks([])\n",
    "        ax[i].set_title(\"SNR=\"+str(round(source_info[snr_column_name].values[0],2)))\n",
    "        x_label = \"\"\n",
    "        for col_name in mag_column_name:\n",
    "            x_label += col_name+\":\"+str(round(source_info[col_name].values[0],2))+\"\\n\"\n",
    "        ax[i].set_xlabel(x_label)\n",
    "    fig.tight_layout()"
   ],
   "outputs": []
  },
  {
   "cell_type": "markdown",
   "id": "c3d9b6dd",
   "metadata": {},
   "source": [
    "# Sources (not asteroids)"
   ]
  },
  {
   "cell_type": "code",
   "execution_count": 5,
   "id": "a800f20e",
   "metadata": {},
   "source": [
    "sources = measure_src_catalog (repo_path, collection, n_parallel=30)\n",
    "sources"
   ],
   "outputs": []
  },
  {
   "cell_type": "code",
   "execution_count": 6,
   "id": "0c0ea6ca",
   "metadata": {},
   "source": [
    "cutouts_of_one_snr (repo_path, collection, sources, snr=5)\n",
    "cutouts_by_snr_bins (repo_path, collection, sources, snr=[5, 10, 15, 30, 50, 100])"
   ],
   "outputs": []
  },
  {
   "cell_type": "code",
   "execution_count": 7,
   "id": "1355851c",
   "metadata": {},
   "source": [
    "fig, ax = plt.subplots()\n",
    "ax.hist(sources[\"magnitude\"], bins=50, range=(15, 30))\n",
    "ax.set_xlabel(\"Magnitude\")"
   ],
   "outputs": []
  },
  {
   "cell_type": "code",
   "execution_count": 8,
   "id": "7d8f7360",
   "metadata": {},
   "source": [
    "fig, ax = plt.subplots()\n",
    "ax.hist2d(sources[\"magnitude\"], sources[\"snr\"], bins=50, range=[[20, 30], [4, 100]])\n",
    "ax.set_xlabel(\"Magnitude\")\n",
    "ax.set_ylabel(\"SNR\")"
   ],
   "outputs": []
  },
  {
   "cell_type": "markdown",
   "id": "c8f605f9",
   "metadata": {},
   "source": [
    "# Asteroids"
   ]
  },
  {
   "cell_type": "code",
   "execution_count": 16,
   "id": "f6db9fce",
   "metadata": {
    "scrolled": false
   },
   "source": [
    "inject_sources = evals.eval_tools.recovered_sources(repo_path, collection, n_parallel=30)\n",
    "detected_sources = inject_sources[inject_sources[\"stack_detected\"]==1]\n",
    "detected_sources[[\"integrated_mag\", \"PSF_mag\", \"surface_brightness\", \"stack_magnitude\", \"stack_snr\"]]"
   ],
   "outputs": []
  },
  {
   "cell_type": "code",
   "execution_count": 10,
   "id": "97838227",
   "metadata": {
    "scrolled": false
   },
   "source": [
    "cutouts_by_snr_bins (repo_path, collection, detected_sources, snr=[5, 10, 15, 30, 50, 100], calexp_type=\"injected_calexp\")\n",
    "cutouts_of_one_snr (repo_path, collection, detected_sources, snr=5, calexp_type=\"injected_calexp\")"
   ],
   "outputs": []
  },
  {
   "cell_type": "code",
   "execution_count": null,
   "id": "6b41618f",
   "metadata": {},
   "source": [],
   "outputs": []
  }
 ],
 "metadata": {
  "kernelspec": {
   "display_name": "Karlo's LSST Stack",
   "language": "python",
   "name": "kmrakovcic_lsststack"
  },
  "language_info": {
   "codemirror_mode": {
    "name": "ipython",
    "version": 3
   },
   "file_extension": ".py",
   "mimetype": "text/x-python",
   "name": "python",
   "nbconvert_exporter": "python",
   "pygments_lexer": "ipython3",
   "version": "3.11.9"
  }
 },
 "nbformat": 4,
 "nbformat_minor": 5
}
