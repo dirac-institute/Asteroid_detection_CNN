{
 "cells": [
  {
   "cell_type": "code",
   "execution_count": 1,
   "id": "e2c7e778",
   "metadata": {},
   "source": [
    "import sys, os\n",
    "import tensorflow as tf\n",
    "sys.path.append(\"..\")\n",
    "import tools\n",
    "import evals\n",
    "from astroML.crossmatch import crossmatch_angular\n",
    "import numpy as np\n",
    "import pandas as pd\n",
    "import multiprocessing\n",
    "from lsst.daf.butler import Butler\n",
    "import time\n",
    "from matplotlib import pyplot as plt\n",
    "%load_ext autoreload\n",
    "%autoreload 2"
   ],
   "outputs": []
  },
  {
   "cell_type": "code",
   "execution_count": 64,
   "id": "092620ec",
   "metadata": {},
   "source": [
    "#model_path = \"../DATA/Trained_model_0.keras\"\n",
    "model_path = \"../DATA/trained1.keras\"\n",
    "tf_dataset_path = \"/astro/users/kmrakovc/Projects/LSST_Streak_Detection/DATA/\"\n",
    "collection = \"u/kmrakovc/\"\n",
    "val_index_path=\"/astro/users/kmrakovc/Projects/LSST_Streak_Detection/DATA/val_index1.npy\"\n",
    "repo_path =\"/epyc/ssd/users/kmrakovc/DATA/rc2_subset/SMALL_HSC/\"\n",
    "threshold = 0.1\n",
    "batch_size=10"
   ],
   "outputs": []
  },
  {
   "cell_type": "code",
   "execution_count": 78,
   "id": "1173241e",
   "metadata": {},
   "source": [
    "def one_LSST_stack_comparison(butler, output_coll, injection_catalog_id, source_catalog_id, calexp_id, calexp_dimensions,\n",
    "                              column_name):\n",
    "    injection_catalog = butler.get(\"injected_postISRCCD_catalog\",\n",
    "                                   dataId=injection_catalog_id.dataId,\n",
    "                                   collections=output_coll, )\n",
    "    original_source_catalog = butler.get(\"src\",\n",
    "                                         dataId=source_catalog_id.dataId,\n",
    "                                         collections=output_coll, )\n",
    "    source_catalog = butler.get(\"injected_src\",\n",
    "                                dataId=source_catalog_id.dataId,\n",
    "                                collections=output_coll, )\n",
    "    calexp = butler.get(\"injected_calexp.wcs\",\n",
    "                        dataId=calexp_id.dataId,\n",
    "                        collections=output_coll)\n",
    "    sc = source_catalog.asAstropy().to_pandas()\n",
    "    osc = original_source_catalog.asAstropy().to_pandas()\n",
    "    dist, ind = crossmatch_angular(sc[['coord_ra', 'coord_dec']].values,\n",
    "                                   osc[['coord_ra', 'coord_dec']].values, 0.04 / 3600)\n",
    "    source_origin = calexp.skyToPixelArray(np.array([source_catalog[\"coord_ra\"][np.isinf(dist)]]),\n",
    "                                                    np.array([source_catalog[\"coord_dec\"][np.isinf(dist)]]),\n",
    "                                                    degrees=False)\n",
    "    injected_origin = calexp.skyToPixelArray(np.array([injection_catalog[\"ra\"]]),\n",
    "                                                      np.array([injection_catalog[\"dec\"]]),\n",
    "                                                      degrees=True)\n",
    "    angle = injection_catalog[\"beta\"]\n",
    "    length = injection_catalog[\"trail_length\"]\n",
    "    mask_source = np.zeros(calexp_dimensions)\n",
    "    mask_source[source_origin[1].astype(int), source_origin[0].astype(int)] = 1\n",
    "    matched_values = np.array([])\n",
    "    for j in range(len(angle)):\n",
    "        mask_inject = tools.data.draw_one_line(np.zeros(calexp.image.array.shape),\n",
    "                                               (injected_origin[0][j], injected_origin[1][j]),\n",
    "                                               angle[j], length[j])\n",
    "        if (mask_inject * mask_source).sum() > 0:\n",
    "            matched_values = np.append(matched_values, injection_catalog[column_name][j])\n",
    "    return matched_values\n",
    "\n",
    "\n",
    "def LSST_stack_comparation_histogram_data(repo, output_coll, val_index_path,\n",
    "                                          column_name=\"trail_length\", batch_size=None):\n",
    "    from lsst.daf.butler import Butler\n",
    "    with open(val_index_path, 'rb') as f:\n",
    "        val_index = np.load(f)\n",
    "        val_index.sort()\n",
    "    butler = Butler(repo)\n",
    "    injection_catalog_ids = list(\n",
    "        butler.registry.queryDatasets(\"injected_postISRCCD_catalog\", collections=output_coll, instrument='HSC'))\n",
    "    source_catalog_ids = list(butler.registry.queryDatasets(\"injected_src\", collections=output_coll, instrument='HSC'))\n",
    "    calexp_ids = list(butler.registry.queryDatasets(\"injected_calexp\", collections=output_coll, instrument='HSC'))\n",
    "    calexp_dimensions = butler.get(\"injected_calexp.dimensions\", dataId=ref[0].dataId, collections=output_coll)\n",
    "    calexp_dimensions = (calexp_dimensions.y, calexp_dimensions.x)\n",
    "    parameters = [(butler, output_coll,\n",
    "                   injection_catalog_ids[i], source_catalog_ids[i],\n",
    "                   calexp_ids[i], calexp_dimensions, column_name) for i in val_index]\n",
    "    if batch_size is None:\n",
    "        batch_size = max(1, os.cpu_count() - 1)\n",
    "    if batch_size>1:\n",
    "        with multiprocessing.Pool(batch_size) as pool:\n",
    "            list_cat = pool.starmap(one_LSST_stack_comparison, parameters)\n",
    "    else:\n",
    "        list_cat = [None] * len(parameters)\n",
    "        for i, p in enumerate(parameters):\n",
    "            list_cat[i] = one_LSST_stack_comparison(*p)\n",
    "    return np.concatenate(list_cat)"
   ],
   "outputs": []
  },
  {
   "cell_type": "code",
   "execution_count": 79,
   "id": "ef17bb0b",
   "metadata": {},
   "source": [
    "start_time = time.time()\n",
    "LSST_stack_detected_asteroids_1m= evals.eval_tools.LSST_stack_comparation_histogram_data(repo_path,\n",
    "                                                                                        collection+\"single_frame_injection_01\",\n",
    "                                                                                        val_index_path,\n",
    "                                                                                        batch_size=10,\n",
    "                                                                                        column_name=\"mag\")\n",
    "print (time.time()-start_time)"
   ],
   "outputs": []
  },
  {
   "cell_type": "code",
   "execution_count": 80,
   "id": "4c17388b",
   "metadata": {},
   "source": [
    "start_time = time.time()\n",
    "LSST_stack_detected_asteroids_1m= evals.eval_tools.LSST_stack_comparation_histogram_data(repo_path,\n",
    "                                                                                        collection+\"single_frame_injection_01\",\n",
    "                                                                                        val_index_path,\n",
    "                                                                                        batch_size=1,\n",
    "                                                                                        column_name=\"mag\")\n",
    "print (time.time()-start_time)"
   ],
   "outputs": []
  },
  {
   "cell_type": "code",
   "execution_count": null,
   "id": "80ea105f",
   "metadata": {},
   "source": [],
   "outputs": []
  }
 ],
 "metadata": {
  "kernelspec": {
   "display_name": "Karlo's LSST Stack",
   "language": "python",
   "name": "kmrakovcic_lsststack"
  },
  "language_info": {
   "codemirror_mode": {
    "name": "ipython",
    "version": 3
   },
   "file_extension": ".py",
   "mimetype": "text/x-python",
   "name": "python",
   "nbconvert_exporter": "python",
   "pygments_lexer": "ipython3",
   "version": "3.11.9"
  }
 },
 "nbformat": 4,
 "nbformat_minor": 5
}
