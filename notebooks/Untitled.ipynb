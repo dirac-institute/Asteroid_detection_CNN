{
 "cells": [
  {
   "cell_type": "code",
   "execution_count": 36,
   "id": "c65ba929",
   "metadata": {},
   "outputs": [
    {
     "name": "stdout",
     "output_type": "stream",
     "text": [
      "The autoreload extension is already loaded. To reload it, use:\n",
      "  %reload_ext autoreload\n"
     ]
    }
   ],
   "source": [
    "import tensorflow as tf\n",
    "import sys\n",
    "sys.path.append(\"..\")\n",
    "import tools\n",
    "import numpy as np\n",
    "%load_ext autoreload\n",
    "%autoreload 2"
   ]
  },
  {
   "cell_type": "code",
   "execution_count": 14,
   "id": "90a2b0d4",
   "metadata": {
    "scrolled": true
   },
   "outputs": [],
   "source": [
    "dataset_test = tf.data.TFRecordDataset([\"/astro/users/kmrakovc/Projects/LSST_Streak_Detection/DATA/test.tfrecord\"])\n",
    "tfrecord_shape = tools.model.get_shape_of_quadratic_image_tfrecord(dataset_test)\n",
    "dataset_test = dataset_test.map(tools.model.parse_function(img_shape=tfrecord_shape, test=False))\n",
    "dataset_test = tools.data.tfdataset_merge (dataset_test, (4176, 2048))\n",
    "truths = tools.data.dataset_to_numpy(dataset_test)"
   ]
  },
  {
   "cell_type": "code",
   "execution_count": 15,
   "id": "bb231b6d",
   "metadata": {
    "scrolled": true
   },
   "outputs": [],
   "source": [
    "dataset_test = tf.data.TFRecordDataset([\"/astro/users/kmrakovc/Projects/LSST_Streak_Detection/DATA/test.tfrecord\"])\n",
    "tfrecord_shape = tools.model.get_shape_of_quadratic_image_tfrecord(dataset_test)\n",
    "dataset_test = dataset_test.map(tools.model.parse_function(img_shape=tfrecord_shape, test=True))\n",
    "dataset_test = dataset_test.batch(128)"
   ]
  },
  {
   "cell_type": "code",
   "execution_count": 30,
   "id": "1c7f9bc4",
   "metadata": {},
   "outputs": [
    {
     "name": "stdout",
     "output_type": "stream",
     "text": [
      "240/240 [==============================] - 6s 26ms/step\n"
     ]
    },
    {
     "name": "stderr",
     "output_type": "stream",
     "text": [
      "2024-03-27 07:36:07.016838: I tensorflow/core/framework/local_rendezvous.cc:421] Local rendezvous recv item cancelled. Key hash: 6444269715036506559\n"
     ]
    }
   ],
   "source": [
    "model = tf.keras.models.load_model(\"../DATA/Trained_model\" , custom_objects={'F1_Score':tools.model.F1_Score})\n",
    "predictions = model.predict(dataset_test)\n",
    "predictions = tools.data.npy_merge(predictions>0.5, (4176, 2048))"
   ]
  },
  {
   "cell_type": "code",
   "execution_count": 48,
   "id": "bab58126",
   "metadata": {},
   "outputs": [
    {
     "name": "stdout",
     "output_type": "stream",
     "text": [
      "Pixel wise F1 score is: 0.3851867598694494\n"
     ]
    }
   ],
   "source": [
    "TP = (predictions==truths) & (predictions==1)\n",
    "TN = (predictions==truths) & (predictions!=1)\n",
    "FP = (predictions!=truths) & (predictions==1)\n",
    "FN = (predictions!=truths) & (predictions!=1)\n",
    "F1 = TP.sum()/(TP.sum()+0.5*(FP.sum()+FN.sum()))\n",
    "print (\"Pixel wise F1 score is:\", F1)"
   ]
  },
  {
   "cell_type": "code",
   "execution_count": null,
   "id": "4897ac8d",
   "metadata": {},
   "outputs": [
    {
     "name": "stdout",
     "output_type": "stream",
     "text": [
      "Asteroid wise TP is: 621\n"
     ]
    }
   ],
   "source": [
    "TP_a = np.array([tools.data.get_asteroid_num(img) for img in TP])\n",
    "print (\"Asteroid wise TP is:\", TP_a.sum())\n",
    "TN_a = np.array([tools.data.get_asteroid_num(img) for img in TN])\n",
    "print (\"Asteroid wise TN is:\", TN_a.sum())\n",
    "FP_a = np.array([tools.data.get_asteroid_num(img) for img in FP])\n",
    "print (\"Asteroid wise FP is:\", FP_a.sum())\n",
    "FN_a = np.array([tools.data.get_asteroid_num(img) for img in FN])\n",
    "print (\"Asteroid wise FN is:\", FN_a.sum())"
   ]
  },
  {
   "cell_type": "code",
   "execution_count": 50,
   "id": "d2d099e8",
   "metadata": {},
   "outputs": [
    {
     "data": {
      "text/plain": [
       "[5,\n",
       " 16,\n",
       " 4,\n",
       " 7,\n",
       " 9,\n",
       " 11,\n",
       " 11,\n",
       " 12,\n",
       " 16,\n",
       " 7,\n",
       " 5,\n",
       " 7,\n",
       " 18,\n",
       " 11,\n",
       " 15,\n",
       " 11,\n",
       " 12,\n",
       " 15,\n",
       " 11,\n",
       " 8,\n",
       " 8,\n",
       " 10,\n",
       " 16,\n",
       " 7,\n",
       " 11,\n",
       " 9,\n",
       " 16,\n",
       " 10,\n",
       " 6,\n",
       " 5,\n",
       " 13,\n",
       " 10,\n",
       " 13,\n",
       " 12,\n",
       " 21,\n",
       " 9,\n",
       " 12,\n",
       " 14,\n",
       " 11,\n",
       " 13,\n",
       " 11,\n",
       " 9,\n",
       " 13,\n",
       " 13,\n",
       " 12,\n",
       " 15,\n",
       " 9,\n",
       " 10,\n",
       " 12,\n",
       " 6,\n",
       " 16,\n",
       " 11,\n",
       " 2,\n",
       " 11,\n",
       " 7,\n",
       " 4,\n",
       " 10,\n",
       " 13]"
      ]
     },
     "execution_count": 50,
     "metadata": {},
     "output_type": "execute_result"
    }
   ],
   "source": [
    "TP_a"
   ]
  },
  {
   "cell_type": "code",
   "execution_count": null,
   "id": "5171572c",
   "metadata": {},
   "outputs": [],
   "source": []
  }
 ],
 "metadata": {
  "kernelspec": {
   "display_name": "LSST pipeline",
   "language": "python",
   "name": "kmrakovc_lsst"
  },
  "language_info": {
   "codemirror_mode": {
    "name": "ipython",
    "version": 3
   },
   "file_extension": ".py",
   "mimetype": "text/x-python",
   "name": "python",
   "nbconvert_exporter": "python",
   "pygments_lexer": "ipython3",
   "version": "3.11.7"
  }
 },
 "nbformat": 4,
 "nbformat_minor": 5
}
