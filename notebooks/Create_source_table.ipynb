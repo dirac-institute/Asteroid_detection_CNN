{
 "cells": [
  {
   "cell_type": "code",
   "execution_count": 170,
   "id": "213c26b1",
   "metadata": {},
   "outputs": [],
   "source": [
    "from lsst.source.injection import generate_injection_catalog\n",
    "from lsst.source.injection import ingest_injection_catalog\n",
    "from lsst.daf.butler import Butler\n",
    "import numpy as np\n",
    "import os\n",
    "from astropy.table import QTable, Table, Column\n",
    "from matplotlib import pyplot as plt"
   ]
  },
  {
   "cell_type": "code",
   "execution_count": 171,
   "id": "25ebf38c",
   "metadata": {},
   "outputs": [],
   "source": [
    "RUN_NUMBER = \"01\""
   ]
  },
  {
   "cell_type": "code",
   "execution_count": 172,
   "id": "180cd506",
   "metadata": {},
   "outputs": [],
   "source": [
    "n_inject = 20\n",
    "source_type=\"Trail\"\n",
    "trail_length=[4, 74]\n",
    "mag=[20.1, 27.2]\n",
    "beta=[0, 90]"
   ]
  },
  {
   "cell_type": "code",
   "execution_count": 173,
   "id": "d126e962",
   "metadata": {},
   "outputs": [],
   "source": [
    "user = os.getenv(\"USER\")\n",
    "REPO = \"/epyc/ssd/users/kmrakovc/DATA/rc2_subset/SMALL_HSC/\"\n",
    "INPUT_COLL = \"u/kmrakovc/RC2_subset/run_1\"\n",
    "OUTPUT_COLL = \"u/\"+user+\"/single_frame_injection_\"+RUN_NUMBER\n",
    "# Instantiate a butler.\n",
    "butler = Butler(REPO)"
   ]
  },
  {
   "cell_type": "code",
   "execution_count": 174,
   "id": "93ece3b0",
   "metadata": {
    "scrolled": false
   },
   "outputs": [
    {
     "name": "stdout",
     "output_type": "stream",
     "text": [
      " 240 / 240"
     ]
    },
    {
     "data": {
      "text/html": [
       "<div><i>Table length=4800</i>\n",
       "<table id=\"table139761073155792\" class=\"table-striped table-bordered table-condensed\">\n",
       "<thead><tr><th>injection_id</th><th>ra</th><th>dec</th><th>source_type</th><th>trail_length</th><th>mag</th><th>beta</th><th>visit</th></tr></thead>\n",
       "<thead><tr><th>int64</th><th>float64</th><th>float64</th><th>str5</th><th>int64</th><th>float64</th><th>float64</th><th>int64</th></tr></thead>\n",
       "<tr><td>0</td><td>150.16415112917346</td><td>2.162934084822738</td><td>Trail</td><td>29</td><td>20.649543191946826</td><td>78.26690252664388</td><td>322</td></tr>\n",
       "<tr><td>1</td><td>150.10521921021888</td><td>2.1035635044951775</td><td>Trail</td><td>64</td><td>23.078481364603757</td><td>28.99307808599235</td><td>322</td></tr>\n",
       "<tr><td>2</td><td>150.20502801893258</td><td>2.097554662719124</td><td>Trail</td><td>4</td><td>20.105214959248617</td><td>10.64103684601065</td><td>322</td></tr>\n",
       "<tr><td>3</td><td>150.10700199605608</td><td>2.099768101548243</td><td>Trail</td><td>73</td><td>22.6271017999047</td><td>72.26471561794175</td><td>322</td></tr>\n",
       "<tr><td>4</td><td>150.12067271556842</td><td>2.178978645706746</td><td>Trail</td><td>18</td><td>23.206310986772984</td><td>0.1697209956593837</td><td>322</td></tr>\n",
       "<tr><td>5</td><td>150.1363463340661</td><td>2.1522455194242336</td><td>Trail</td><td>33</td><td>21.208136877636726</td><td>67.33603307598919</td><td>322</td></tr>\n",
       "<tr><td>6</td><td>150.23499677625034</td><td>2.1537483007394522</td><td>Trail</td><td>41</td><td>22.074168832791937</td><td>37.94408455235992</td><td>322</td></tr>\n",
       "<tr><td>7</td><td>150.14118312716388</td><td>2.1223525905792395</td><td>Trail</td><td>47</td><td>21.7010328546702</td><td>32.212964706810425</td><td>322</td></tr>\n",
       "<tr><td>8</td><td>150.14522293462227</td><td>2.162300900456344</td><td>Trail</td><td>59</td><td>24.356608473641632</td><td>77.51996317641833</td><td>322</td></tr>\n",
       "<tr><td>9</td><td>150.11452265832682</td><td>2.1837843252882383</td><td>Trail</td><td>57</td><td>26.04368666470798</td><td>43.84891038062954</td><td>322</td></tr>\n",
       "<tr><td>...</td><td>...</td><td>...</td><td>...</td><td>...</td><td>...</td><td>...</td><td>...</td></tr>\n",
       "<tr><td>4551</td><td>149.92411030702286</td><td>2.2707619512333825</td><td>Trail</td><td>31</td><td>22.50484396217092</td><td>51.062943334025206</td><td>30490</td></tr>\n",
       "<tr><td>4552</td><td>149.8955996945345</td><td>2.214357303102438</td><td>Trail</td><td>68</td><td>21.21864727014619</td><td>76.5140174166287</td><td>30490</td></tr>\n",
       "<tr><td>4553</td><td>149.84610734621697</td><td>2.2594255400411787</td><td>Trail</td><td>40</td><td>21.122950473884476</td><td>67.05402106003922</td><td>30490</td></tr>\n",
       "<tr><td>4554</td><td>149.95185881976846</td><td>2.188092963588303</td><td>Trail</td><td>36</td><td>22.48126208512064</td><td>74.07457412840515</td><td>30490</td></tr>\n",
       "<tr><td>4555</td><td>149.9560941617931</td><td>2.189921597474926</td><td>Trail</td><td>20</td><td>23.23820294443623</td><td>85.70216452590034</td><td>30490</td></tr>\n",
       "<tr><td>4556</td><td>149.88849514242602</td><td>2.2158762469903936</td><td>Trail</td><td>51</td><td>23.19748069357765</td><td>24.58442908138084</td><td>30490</td></tr>\n",
       "<tr><td>4557</td><td>149.9150597823771</td><td>2.2562678344292992</td><td>Trail</td><td>12</td><td>23.550578232698758</td><td>19.583966015786007</td><td>30490</td></tr>\n",
       "<tr><td>4558</td><td>149.89173285306336</td><td>2.2524269110320767</td><td>Trail</td><td>14</td><td>27.132198385339407</td><td>22.445862570947728</td><td>30490</td></tr>\n",
       "<tr><td>4559</td><td>150.00993384986177</td><td>2.2552000390422227</td><td>Trail</td><td>6</td><td>20.881415028103458</td><td>48.897484021180276</td><td>30490</td></tr>\n",
       "<tr><td>4560</td><td>149.954560323207</td><td>2.189049511640277</td><td>Trail</td><td>20</td><td>26.027082731993914</td><td>6.695705436740048</td><td>30490</td></tr>\n",
       "</table></div>"
      ],
      "text/plain": [
       "<Table length=4800>\n",
       "injection_id         ra                dec         ...        beta        visit\n",
       "   int64          float64            float64       ...      float64       int64\n",
       "------------ ------------------ ------------------ ... ------------------ -----\n",
       "           0 150.16415112917346  2.162934084822738 ...  78.26690252664388   322\n",
       "           1 150.10521921021888 2.1035635044951775 ...  28.99307808599235   322\n",
       "           2 150.20502801893258  2.097554662719124 ...  10.64103684601065   322\n",
       "           3 150.10700199605608  2.099768101548243 ...  72.26471561794175   322\n",
       "           4 150.12067271556842  2.178978645706746 ... 0.1697209956593837   322\n",
       "           5  150.1363463340661 2.1522455194242336 ...  67.33603307598919   322\n",
       "           6 150.23499677625034 2.1537483007394522 ...  37.94408455235992   322\n",
       "           7 150.14118312716388 2.1223525905792395 ... 32.212964706810425   322\n",
       "           8 150.14522293462227  2.162300900456344 ...  77.51996317641833   322\n",
       "           9 150.11452265832682 2.1837843252882383 ...  43.84891038062954   322\n",
       "         ...                ...                ... ...                ...   ...\n",
       "        4551 149.92411030702286 2.2707619512333825 ... 51.062943334025206 30490\n",
       "        4552  149.8955996945345  2.214357303102438 ...   76.5140174166287 30490\n",
       "        4553 149.84610734621697 2.2594255400411787 ...  67.05402106003922 30490\n",
       "        4554 149.95185881976846  2.188092963588303 ...  74.07457412840515 30490\n",
       "        4555  149.9560941617931  2.189921597474926 ...  85.70216452590034 30490\n",
       "        4556 149.88849514242602 2.2158762469903936 ...  24.58442908138084 30490\n",
       "        4557  149.9150597823771 2.2562678344292992 ... 19.583966015786007 30490\n",
       "        4558 149.89173285306336 2.2524269110320767 ... 22.445862570947728 30490\n",
       "        4559 150.00993384986177 2.2552000390422227 ... 48.897484021180276 30490\n",
       "        4560   149.954560323207  2.189049511640277 ...  6.695705436740048 30490"
      ]
     },
     "execution_count": 174,
     "metadata": {},
     "output_type": "execute_result"
    }
   ],
   "source": [
    "registry = butler.registry\n",
    "ra = []\n",
    "dec = []\n",
    "last_id=0\n",
    "injection_catalog = Table(names=('injection_id', 'ra', 'dec', 'source_type', 'trail_length', 'mag', 'beta', 'visit'), \n",
    "                          dtype=('int64', 'float64', 'float64', 'str', 'int64', 'float64', 'float64', 'int64'))\n",
    "length = len(list(registry.queryDatasets(\"calexp\", collections=INPUT_COLL, instrument='HSC')))\n",
    "for i,ref in enumerate(registry.queryDatasets(\"calexp\", collections=INPUT_COLL, instrument='HSC')):\n",
    "    raw = butler.get(\n",
    "        \"calexp\",\n",
    "        dataId=ref.dataId,\n",
    "        collections=INPUT_COLL,\n",
    "    )\n",
    "    start = raw.wcs.pixelToSky(0,0)\n",
    "    end = raw.wcs.pixelToSky(raw.getDimensions()[0],raw.getDimensions()[1])\n",
    "    \n",
    "    min_ra = start.getRa()\n",
    "    min_dec = start.getDec()\n",
    "    max_ra = end.getRa()\n",
    "    max_dec = end.getDec()\n",
    "    if not ([min_ra, max_ra] in ra) and not ([min_dec, max_dec] in dec):\n",
    "        ra.append([min_ra, max_ra])\n",
    "        dec.append([min_dec, max_dec])\n",
    "        for k in range(last_id, last_id+n_inject):\n",
    "            ra_pos = np.random.uniform (low=min_ra.asDegrees(), high=max_ra.asDegrees())\n",
    "            dec_pos = np.random.uniform (low=min_dec.asDegrees(), high=max_dec.asDegrees())\n",
    "            inject_length = np.random.uniform (low=trail_length[0], high=trail_length[1])\n",
    "            magnitude = np.random.uniform (low=mag[0], high=mag[1])\n",
    "            angle = np.random.uniform (low=beta[0], high=beta[1])\n",
    "            visitid = raw.getInfo().getVisitInfo().id\n",
    "            injection_catalog.add_row([k, ra_pos, dec_pos, \"Trail\", inject_length, magnitude, angle, visitid])\n",
    "        last_id=k\n",
    "    print(\"\\r\",i+1, \"/\", length, end=\"\")\n",
    "injection_catalog"
   ]
  },
  {
   "cell_type": "code",
   "execution_count": 175,
   "id": "e8ed54f1",
   "metadata": {},
   "outputs": [],
   "source": [
    "# Instantiate a writeable Butler.\n",
    "writeable_butler = Butler(REPO, writeable=True)\n",
    "\n",
    "# Ingest the injection catalog.\n",
    "for bands in [\"g\",\"r\",\"i\",\"z\",\"y\"]:\n",
    "    my_injected_datasetRefs = ingest_injection_catalog(\n",
    "        writeable_butler=writeable_butler,\n",
    "        table=injection_catalog,\n",
    "        band=bands,\n",
    "        output_collection=f\"u/{user}/injection_inputs_\"+RUN_NUMBER)"
   ]
  },
  {
   "cell_type": "code",
   "execution_count": 135,
   "id": "485599f6",
   "metadata": {},
   "outputs": [
    {
     "data": {
      "image/png": "[encoded data removed]",
      "text/plain": [
       "<Figure size 640x480 with 1 Axes>"
      ]
     },
     "metadata": {},
     "output_type": "display_data"
    }
   ],
   "source": [
    "import matplotlib.pyplot as plt\n",
    "import matplotlib.patches as patches\n",
    "\n",
    "max_dec = np.max(dec).asDegrees()\n",
    "min_dec = np.min(dec).asDegrees()\n",
    "max_ra = np.max(ra).asDegrees()\n",
    "min_ra = np.min(ra).asDegrees()\n",
    "\n",
    "# Create figure and axes\n",
    "fig, ax = plt.subplots()\n",
    "\n",
    "# Display the image\n",
    "ax.plot(max_dec,max_ra)\n",
    "# Create a Rectangle patch\n",
    "for i in range(len(ra)):\n",
    "    rect = patches.Rectangle((dec[i][1].asDegrees(), ra[i][0].asDegrees()), -dec[i][0].asDegrees()+dec[i][1].asDegrees(), -ra[i][0].asDegrees()+ra[i][1].asDegrees(), linewidth=1, edgecolor='r', facecolor='none')\n",
    "\n",
    "    # Add the patch to the Axes\n",
    "    ax.add_patch(rect)\n",
    "ax.set_xlabel(\"dec\")\n",
    "ax.set_ylabel(\"ra\")\n",
    "ax.set_aspect('equal', adjustable='box')\n",
    "plt.show()"
   ]
  },
  {
   "cell_type": "code",
   "execution_count": null,
   "id": "703fbcb9",
   "metadata": {},
   "outputs": [],
   "source": []
  }
 ],
 "metadata": {
  "kernelspec": {
   "display_name": "LSST pipeline",
   "language": "python",
   "name": "kmrakovc_lsst"
  },
  "language_info": {
   "codemirror_mode": {
    "name": "ipython",
    "version": 3
   },
   "file_extension": ".py",
   "mimetype": "text/x-python",
   "name": "python",
   "nbconvert_exporter": "python",
   "pygments_lexer": "ipython3",
   "version": "3.11.7"
  }
 },
 "nbformat": 4,
 "nbformat_minor": 5
}
