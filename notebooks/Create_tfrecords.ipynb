{
 "cells": [
  {
   "cell_type": "code",
   "execution_count": 1,
   "id": "6ab597c0",
   "metadata": {
    "scrolled": false
   },
   "outputs": [
    {
     "name": "stderr",
     "output_type": "stream",
     "text": [
      "2024-04-14 02:32:13.318505: E external/local_xla/xla/stream_executor/cuda/cuda_dnn.cc:9261] Unable to register cuDNN factory: Attempting to register factory for plugin cuDNN when one has already been registered\n",
      "2024-04-14 02:32:13.318559: E external/local_xla/xla/stream_executor/cuda/cuda_fft.cc:607] Unable to register cuFFT factory: Attempting to register factory for plugin cuFFT when one has already been registered\n",
      "2024-04-14 02:32:13.319488: E external/local_xla/xla/stream_executor/cuda/cuda_blas.cc:1515] Unable to register cuBLAS factory: Attempting to register factory for plugin cuBLAS when one has already been registered\n",
      "2024-04-14 02:32:13.326076: I tensorflow/core/platform/cpu_feature_guard.cc:182] This TensorFlow binary is optimized to use available CPU instructions in performance-critical operations.\n",
      "To enable the following instructions: AVX2 FMA, in other operations, rebuild TensorFlow with the appropriate compiler flags.\n",
      "2024-04-14 02:32:17.428532: W tensorflow/compiler/tf2tensorrt/utils/py_utils.cc:38] TF-TRT Warning: Could not find TensorRT\n"
     ]
    }
   ],
   "source": [
    "import sys\n",
    "sys.path.append(\"..\")\n",
    "import tools\n",
    "import tensorflow as tf\n",
    "import numpy as np\n",
    "import json\n",
    "from matplotlib import pyplot as plt\n",
    "%load_ext autoreload\n",
    "%autoreload 2"
   ]
  },
  {
   "cell_type": "code",
   "execution_count": null,
   "id": "332c8fb9",
   "metadata": {},
   "outputs": [],
   "source": []
  },
  {
   "cell_type": "code",
   "execution_count": 11,
   "id": "ce411666",
   "metadata": {
    "scrolled": true
   },
   "outputs": [
    {
     "name": "stdout",
     "output_type": "stream",
     "text": [
      " 234 / 234"
     ]
    }
   ],
   "source": [
    "repo = \"/epyc/ssd/users/kmrakovc/DATA/rc2_subset/SMALL_HSC/\"\n",
    "output_coll = \"u/kmrakovc/single_frame_injection_05\"\n",
    "val_index = tools.data.convert_butler_tfrecords (repo, output_coll, shape=(128,128), \n",
    "                                     filename_train=\"/astro/users/kmrakovc/Projects/LSST_Streak_Detection/DATA/train5.tfrecord\",\n",
    "                                     filename_test=\"/astro/users/kmrakovc/Projects/LSST_Streak_Detection/DATA/test5.tfrecord\")"
   ]
  },
  {
   "cell_type": "code",
   "execution_count": 4,
   "id": "6a6fdce4",
   "metadata": {},
   "outputs": [
    {
     "name": "stdout",
     "output_type": "stream",
     "text": [
      "[  9  10  15  16  18  19  24  25  30  45  55  60  66  69  73  82  84  86\n",
      "  93  95  97 108 109 112 117 124 125 127 139 144 146 147 148 155 156 158\n",
      " 161 162 164 168 170 177 180 183 196 199 201 203 206 208 213 218 220 224\n",
      " 225 227 229 231]\n"
     ]
    }
   ],
   "source": [
    "val_index = np.array(val_index)\n",
    "val_index.sort()\n",
    "with open(\"/astro/users/kmrakovc/Projects/LSST_Streak_Detection/DATA/val_index1.npy\", 'wb') as f:\n",
    "    np.save(f, val_index)\n",
    "print (val_index)"
   ]
  },
  {
   "cell_type": "code",
   "execution_count": 7,
   "id": "c03baa5e",
   "metadata": {},
   "outputs": [
    {
     "name": "stdout",
     "output_type": "stream",
     "text": [
      "[  9  10  15  16  18  19  24  25  30  45  55  60  66  69  73  82  84  86\n",
      "  93  95  97 108 109 112 117 124 125 127 139 144 146 147 148 155 156 158\n",
      " 161 162 164 168 170 177 180 183 196 199 201 203 206 208 213 218 220 224\n",
      " 225 227 229 231]\n",
      "[  9  10  15  16  18  19  24  25  30  45  55  60  66  69  73  82  84  86\n",
      "  93  95  97 108 109 112 117 124 125 127 139 144 146 147 148 155 156 158\n",
      " 161 162 164 168 170 177 180 183 196 199 201 203 206 208 213 218 220 224\n",
      " 225 227 229 231]\n"
     ]
    }
   ],
   "source": [
    "with open(\"/astro/users/kmrakovc/Projects/LSST_Streak_Detection/DATA/val_index2.npy\", 'rb') as f:\n",
    "    print (np.load(f))\n",
    "print (val_index)"
   ]
  },
  {
   "cell_type": "code",
   "execution_count": 3,
   "id": "63531728",
   "metadata": {},
   "outputs": [
    {
     "name": "stderr",
     "output_type": "stream",
     "text": [
      "2024-03-26 13:27:42.805065: E external/local_xla/xla/stream_executor/cuda/cuda_driver.cc:274] failed call to cuInit: CUDA_ERROR_NO_DEVICE: no CUDA-capable device is detected\n"
     ]
    }
   ],
   "source": [
    "dataset_train = tf.data.TFRecordDataset([\"/astro/users/kmrakovc/Projects/LSST_Streak_Detection/DATA/train.tfrecord\"])\n",
    "tfrecord_shape = tools.model.get_shape_of_quadratic_image_tfrecord(dataset_train)\n",
    "dataset_train = dataset_train.map(tools.model.parse_function(img_shape=tfrecord_shape, test=False))\n",
    "#dataset_train = dataset_train.batch(128).prefetch(2)\n",
    "dataset_val = tf.data.TFRecordDataset([\"/astro/users/kmrakovc/Projects/LSST_Streak_Detection/DATA/test.tfrecord\"])\n",
    "dataset_val = dataset_val.map(tools.model.parse_function(img_shape=tfrecord_shape, test=False))\n",
    "#dataset_val = dataset_val.batch(128).prefetch(2)"
   ]
  },
  {
   "cell_type": "code",
   "execution_count": 380,
   "id": "cf65e675",
   "metadata": {
    "scrolled": true
   },
   "outputs": [
    {
     "name": "stdout",
     "output_type": "stream",
     "text": [
      "Train dataset:\n",
      " 92927\n",
      "Test dataset:\n",
      " 30623"
     ]
    }
   ],
   "source": [
    "print (\"Train dataset:\")\n",
    "for i,j in enumerate(dataset_train):\n",
    "    print (\"\\r\",i, end=\"\")\n",
    "print (\"\\nTest dataset:\")\n",
    "for i,j in enumerate(dataset_val):\n",
    "    print (\"\\r\",i, end=\"\")"
   ]
  },
  {
   "cell_type": "code",
   "execution_count": 12,
   "id": "3a9fd9a6",
   "metadata": {},
   "outputs": [],
   "source": [
    "dataset_train_merged = tools.data.merge (dataset_train, (4176, 2048))\n",
    "dataset_val_merged = tools.data.merge (dataset_val, (4176, 2048))"
   ]
  },
  {
   "cell_type": "code",
   "execution_count": 13,
   "id": "9ed93eaf",
   "metadata": {},
   "outputs": [],
   "source": [
    "def dataset_to_numpy(dataset):\n",
    "    for i, a in enumerate(dataset):\n",
    "        s = a.shape\n",
    "    array = np.empty((i+1)+s)\n",
    "    for i, a in enumerate(dataset):\n",
    "        array[i] = a\n",
    "    return array\n",
    "test = dataset_to_numpy(dataset_train_merged)\n",
    "val = dataset_to_numpy(dataset_val_merged)"
   ]
  },
  {
   "cell_type": "code",
   "execution_count": 15,
   "id": "fd36780e",
   "metadata": {},
   "outputs": [
    {
     "data": {
      "text/plain": [
       "((176, 4176, 2048), (58, 4176, 2048))"
      ]
     },
     "execution_count": 15,
     "metadata": {},
     "output_type": "execute_result"
    }
   ],
   "source": [
    "test.shape, val.shape"
   ]
  },
  {
   "cell_type": "code",
   "execution_count": 17,
   "id": "f56d298c",
   "metadata": {},
   "outputs": [
    {
     "data": {
      "text/plain": [
       "20"
      ]
     },
     "execution_count": 17,
     "metadata": {},
     "output_type": "execute_result"
    }
   ],
   "source": [
    "tools.data.get_asteroid_num(test[1])"
   ]
  },
  {
   "cell_type": "code",
   "execution_count": null,
   "id": "59f6f339",
   "metadata": {},
   "outputs": [],
   "source": []
  }
 ],
 "metadata": {
  "kernelspec": {
   "display_name": "LSST pipeline",
   "language": "python",
   "name": "kmrakovc_lsst"
  },
  "language_info": {
   "codemirror_mode": {
    "name": "ipython",
    "version": 3
   },
   "file_extension": ".py",
   "mimetype": "text/x-python",
   "name": "python",
   "nbconvert_exporter": "python",
   "pygments_lexer": "ipython3",
   "version": "3.11.7"
  }
 },
 "nbformat": 4,
 "nbformat_minor": 5
}
