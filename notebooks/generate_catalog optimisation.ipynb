{
 "cells": [
  {
   "cell_type": "code",
   "execution_count": 1,
   "id": "7ab3bf65",
   "metadata": {},
   "source": [
    "import numpy as np\n",
    "import os\n",
    "import sys\n",
    "from astropy.table import QTable, Table, Column, vstack\n",
    "import multiprocessing\n",
    "import time"
   ],
   "outputs": []
  },
  {
   "cell_type": "code",
   "execution_count": 95,
   "id": "71edac01",
   "metadata": {},
   "source": [
    "def generate_one_line(n_inject, trail_length, mag, beta, butler, ref, input_coll, dimensions, source_type):\n",
    "    injection_catalog = Table(\n",
    "        names=('injection_id', 'ra', 'dec', 'source_type', 'trail_length', 'mag', 'beta', 'visit', 'integrated_mag', 'PSF_mag',\n",
    "               'physical_filter'),\n",
    "        dtype=('int64', 'float64', 'float64', 'str', 'float64', 'float64', 'float64', 'int64', 'float64', 'float64', 'str'))\n",
    "    injection_catalog.add_index('injection_id')\n",
    "    raw = butler.get(\n",
    "        source_type + \".wcs\",\n",
    "        dataId=ref.dataId,\n",
    "        collections=input_coll,\n",
    "    )\n",
    "    info = butler.get(\n",
    "        source_type + \".visitInfo\",\n",
    "        dataId=ref.dataId,\n",
    "        collections=input_coll,\n",
    "    )\n",
    "    filter_name = butler.get(\n",
    "        source_type + \".filter\",\n",
    "        dataId=ref.dataId,\n",
    "        collections=input_coll,\n",
    "    )\n",
    "    \n",
    "    #parameters to use from http://arxiv.org/pdf/1711.10621\n",
    "    fwhm = {\"u\": 0.92, \"g\": 0.87, \"r\": 0.83, \"i\": 0.80, \"z\": 0.78, \"y\": 0.76}\n",
    "    # Taken from https://smtn-002.lsst.io/#source-footprint-n-eff\n",
    "    m5 = {\"u\": 23.7, \"g\": 24.97, \"r\": 24.52, \"i\": 24.13, \"z\": 23.56, \"y\": 22.55}\n",
    "    # Taken from https://smtn-002.lsst.io/#calculating-m5\n",
    "    psf_depth = m5[filter_name.bandLabel]\n",
    "    pixelScale = raw.getPixelScale().asArcseconds()\n",
    "    theta_p = fwhm[filter_name.bandLabel]*pixelScale\n",
    "    a = 0.67\n",
    "    b = 1.16\n",
    "    \n",
    "    # calculating image bounds in skycoordinates\n",
    "    start = raw.pixelToSky(0, 0)\n",
    "    end = raw.pixelToSky(dimensions[0], dimensions[1])\n",
    "    min_ra = start.getRa()\n",
    "    min_dec = start.getDec()\n",
    "    max_ra = end.getRa()\n",
    "    max_dec = end.getDec()\n",
    "    diff_ra = max_ra - min_ra\n",
    "    diff_dec = max_dec - min_dec\n",
    "    min_ra = min_ra + 0.02 * diff_ra\n",
    "    max_ra = max_ra - 0.02 * diff_ra\n",
    "    min_dec = min_dec + 0.02 * diff_dec\n",
    "    max_dec = max_dec - 0.02 * diff_dec\n",
    "    \n",
    "    for k in range(n_inject):\n",
    "        ra_pos = np.random.uniform(low=min_ra.asDegrees(), high=max_ra.asDegrees())\n",
    "        dec_pos = np.random.uniform(low=min_dec.asDegrees(), high=max_dec.asDegrees())\n",
    "        inject_length = np.random.uniform(low=trail_length[0], high=trail_length[1])\n",
    "        x = inject_length / (24 * theta_p)\n",
    "        if mag[1] == 0:\n",
    "            # calculating the upper limit magnitude based on the trail length and the maximum detectable limit\n",
    "            # Taken from Jones et al. 2017: http://arxiv.org/pdf/1711.10621\n",
    "            upper_limit_mag = psf_depth - 1.25 * np.log10(1 + (a * x ** 2) / (1 + b * x))\n",
    "        else:\n",
    "            # user defined magnitude limits\n",
    "            upper_limit_mag = mag[1]\n",
    "        # rolling dice for the magnitude then calculating the surface brightness\n",
    "        magnitude = np.random.uniform(low=mag[0], high=upper_limit_mag)\n",
    "        surface_brightness = magnitude + 2.5 * np.log10(inject_length)\n",
    "        psf_magnitude = magnitude + 1.25 * np.log10(1 + (a * x ** 2) / (1 + b * x))\n",
    "        # rolling dice for the surface brightness then calculating the magnitude\n",
    "        # surface_brightness = np.random.uniform(low=mag[0], high=mag[1])\n",
    "        # magnitude = surface_brightness - 2.5 * np.log10(inject_length)\n",
    "        angle = np.random.uniform(low=beta[0], high=beta[1])\n",
    "        visitid = info.id\n",
    "        injection_catalog.add_row([k, ra_pos, dec_pos, \"Trail\", inject_length, surface_brightness, angle, visitid,\n",
    "                                   magnitude, psf_magnitude, filter_name.bandLabel])\n",
    "    return injection_catalog\n",
    "\n",
    "\n",
    "def generate_catalog(repo, input_coll, n_inject, trail_length, mag, beta, where=\"\", verbose=True,\n",
    "                     multiprocess_size=None):\n",
    "    \"\"\"\n",
    "    Create a catalog of trails to be injected in the input collection for the source injection. The catalog is saved in the\n",
    "    astropy table format. The catalog is created by randomly selecting a position in the input collection and then\n",
    "    randomly selecting the trail length, magnitude and angle of the trail. The catalog will have a visit id for each trail\n",
    "    that is the same as the visit id of the calexp that the trail is injected into.\n",
    "\n",
    "    :param repo:\n",
    "    :param input_coll:\n",
    "    :param n_inject:\n",
    "    :param trail_length:\n",
    "    :param mag:\n",
    "    :param beta:\n",
    "    :param where:\n",
    "    :param verbose:\n",
    "    :return:\n",
    "    \"\"\"\n",
    "    from lsst.daf.butler import Butler\n",
    "    butler = Butler(repo)\n",
    "    registry = butler.registry\n",
    "    source_type = \"calexp\"\n",
    "    if where == \"\":\n",
    "        query = set(registry.queryDatasets(source_type, collections=input_coll, instrument='HSC', findFirst=True))\n",
    "    else:\n",
    "        query = set(registry.queryDatasets(source_type, collections=input_coll, instrument='HSC', where=where, findFirst=True))\n",
    "    length = len(list(query))\n",
    "    dimensions = butler.get(\n",
    "        source_type + \".dimensions\",\n",
    "        dataId=list(query)[0].dataId,\n",
    "        collections=input_coll,\n",
    "    )\n",
    "    parameters = [(n_inject, trail_length, mag, beta, butler, ref,\n",
    "                   input_coll, dimensions, source_type,) for ref in query]\n",
    "    if verbose:\n",
    "        print(\"Number of visits found: \", length)\n",
    "    if multiprocess_size is None:\n",
    "        multiprocess_size = max(1, min(os.cpu_count() - 1, len(parameters)))\n",
    "    if multiprocess_size > 1:\n",
    "        with multiprocessing.Pool(multiprocess_size) as pool:\n",
    "            injection_catalog = pool.starmap(generate_one_line, parameters)\n",
    "    else:\n",
    "        injection_catalog = [None] * len(parameters)\n",
    "        for i in range(len(parameters)):\n",
    "            injection_catalog[i] = generate_one_line(*parameters[i])\n",
    "            if verbose:\n",
    "                print(\"\\r\", i + 1, \"/\", length, end=\"\", flush=True)\n",
    "        if verbose:\n",
    "            print(\"\")\n",
    "    output_catalog = vstack(injection_catalog, join_type='exact')\n",
    "    output_catalog[\"injection_id\"] = np.arange(len(output_catalog))\n",
    "    return output_catalog"
   ],
   "outputs": []
  },
  {
   "cell_type": "code",
   "execution_count": 98,
   "id": "b24f4b65",
   "metadata": {
    "scrolled": true
   },
   "source": [
    "repo = '/epyc/ssd/users/kmrakovc/DATA/rc2_subset/SMALL_HSC/'\n",
    "input_collection = \"u/kmrakovc/RC2_subset/run_1\"\n",
    "number = 20\n",
    "trail_length = [6, 60]\n",
    "magnitude = [20, 25]\n",
    "beta = [0, 180]\n",
    "start_time = time.time()\n",
    "catalog = generate_catalog(repo, input_collection, number, trail_length, magnitude,\n",
    "                               beta, verbose=True, multiprocess_size=1)\n",
    "print (\"Total time:\", time.time()-start_time)"
   ],
   "outputs": []
  },
  {
   "cell_type": "code",
   "execution_count": 99,
   "id": "46066995",
   "metadata": {
    "scrolled": false
   },
   "source": [
    "catalog"
   ],
   "outputs": []
  },
  {
   "cell_type": "code",
   "execution_count": null,
   "id": "7a55cf41",
   "metadata": {},
   "source": [],
   "outputs": []
  },
  {
   "cell_type": "code",
   "execution_count": 4,
   "id": "455c8cd6",
   "metadata": {},
   "source": [
    "from lsst.daf.butler import Butler\n",
    "repo = '/epyc/ssd/users/kmrakovc/DATA/rc2_subset/SMALL_HSC/'\n",
    "input_coll = \"u/kmrakovc/RC2_subset/run_1\"\n",
    "butler = Butler(repo)\n",
    "registry = butler.registry\n",
    "source_type = \"calexp\"\n",
    "query = registry.queryDatasets(source_type, collections=input_coll, instrument='HSC')\n",
    "ref = list(query)[0]\n",
    "raw = butler.get(\n",
    "        source_type,\n",
    "        dataId=ref.dataId,\n",
    "        collections=input_coll,\n",
    "    )"
   ],
   "outputs": []
  },
  {
   "cell_type": "code",
   "execution_count": 8,
   "id": "ca130f5f",
   "metadata": {},
   "source": [
    "dir(raw)"
   ],
   "outputs": []
  },
  {
   "cell_type": "code",
   "execution_count": 43,
   "id": "b13c9ccc",
   "metadata": {},
   "source": [
    "dir(raw.getPsf())"
   ],
   "outputs": []
  },
  {
   "cell_type": "code",
   "execution_count": 72,
   "id": "c888494c",
   "metadata": {},
   "source": [
    "psf = raw.getPsf()\n",
    "wcs = raw.getWcs()\n",
    "sigma = psf.computeShape(wcs.skyToPixel(wcs.pixelToSky(100,100))).getDeterminantRadius()\n",
    "pixelScale = raw.getWcs().getPixelScale().asArcseconds()"
   ],
   "outputs": []
  },
  {
   "cell_type": "code",
   "execution_count": 77,
   "id": "04560529",
   "metadata": {},
   "source": [
    "dir (psf)"
   ],
   "outputs": []
  },
  {
   "cell_type": "code",
   "execution_count": 71,
   "id": "24a0e7e2",
   "metadata": {},
   "source": [
    "psf.computeShape(wcs.skyToPixel(wcs.pixelToSky(100,100)))"
   ],
   "outputs": []
  },
  {
   "cell_type": "code",
   "execution_count": 70,
   "id": "483cfbe9",
   "metadata": {},
   "source": [
    "dir(psf.computeShape(wcs.skyToPixel(wcs.pixelToSky(100,100))))"
   ],
   "outputs": []
  },
  {
   "cell_type": "code",
   "execution_count": 60,
   "id": "5974bfc0",
   "metadata": {},
   "source": [
    "wcs.skyToPixel(wcs.pixelToSky(0,0))"
   ],
   "outputs": []
  },
  {
   "cell_type": "code",
   "execution_count": 48,
   "id": "7b8b60cf",
   "metadata": {},
   "source": [
    "dir(raw.wcs)"
   ],
   "outputs": []
  },
  {
   "cell_type": "code",
   "execution_count": 40,
   "id": "b69aec9b",
   "metadata": {},
   "source": [
    "raw.info.KEY_PSF"
   ],
   "outputs": []
  },
  {
   "cell_type": "code",
   "execution_count": 25,
   "id": "464a6286",
   "metadata": {},
   "source": [
    "dir(raw.photoCalib)"
   ],
   "outputs": []
  },
  {
   "cell_type": "code",
   "execution_count": 26,
   "id": "831211ef",
   "metadata": {},
   "source": [
    "raw.photoCalib.calibrateCatalog"
   ],
   "outputs": []
  },
  {
   "cell_type": "code",
   "execution_count": 32,
   "id": "e2b2808b",
   "metadata": {},
   "source": [
    "dir(raw.psf)"
   ],
   "outputs": []
  },
  {
   "cell_type": "code",
   "execution_count": 29,
   "id": "4c52c5e9",
   "metadata": {},
   "source": [
    "raw.psf"
   ],
   "outputs": []
  },
  {
   "cell_type": "code",
   "execution_count": 20,
   "id": "e4b33d6b",
   "metadata": {},
   "source": [
    "dir(raw.visitInfo)"
   ],
   "outputs": []
  },
  {
   "cell_type": "code",
   "execution_count": 22,
   "id": "e96b9643",
   "metadata": {},
   "source": [
    "raw.visitInfo.focusZ"
   ],
   "outputs": []
  },
  {
   "cell_type": "code",
   "execution_count": 7,
   "id": "d02ea32c",
   "metadata": {},
   "source": [
    "raw.visitInfo.exposureTime"
   ],
   "outputs": []
  },
  {
   "cell_type": "code",
   "execution_count": 89,
   "id": "faad9b3c",
   "metadata": {
    "scrolled": false
   },
   "source": [
    "np.arange(len(catalog))"
   ],
   "outputs": []
  },
  {
   "cell_type": "code",
   "execution_count": 87,
   "id": "de5bebbf",
   "metadata": {},
   "source": [
    "catalog.info.info_summary_stats()"
   ],
   "outputs": []
  },
  {
   "cell_type": "code",
   "execution_count": null,
   "id": "dc2a71ce",
   "metadata": {},
   "source": [],
   "outputs": []
  }
 ],
 "metadata": {
  "kernelspec": {
   "display_name": "Karlo's LSST Stack",
   "language": "python",
   "name": "kmrakovcic_lsststack"
  },
  "language_info": {
   "codemirror_mode": {
    "name": "ipython",
    "version": 3
   },
   "file_extension": ".py",
   "mimetype": "text/x-python",
   "name": "python",
   "nbconvert_exporter": "python",
   "pygments_lexer": "ipython3",
   "version": "3.11.9"
  }
 },
 "nbformat": 4,
 "nbformat_minor": 5
}
