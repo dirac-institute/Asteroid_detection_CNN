{
 "cells": [
  {
   "cell_type": "code",
   "execution_count": null,
   "id": "fa0a16f2",
   "metadata": {},
   "outputs": [],
   "source": [
    "from lsst.daf.butler import Butler\n",
    "from lsst.source.injection import CoaddInjectConfig,CoaddInjectTask\n",
    "# NOTE: For injections into other dataset types, use the following instead:\n",
    "# from lsst.source.injection import ExposureInjectConfig,ExposureInjectTask\n",
    "# from lsst.source.injection import VisitInjectConfig,VisitInjectTask\n",
    "\n",
    "# Instantiate a butler.\n",
    "butler = Butler(REPO)\n",
    "\n",
    "# Load an input deepCoadd dataset.\n",
    "dataId = dict(\n",
    "    instrument=\"HSC\",\n",
    "    skymap=\"hsc_rings_v1\",\n",
    "    tract=9813,\n",
    "    patch=42,\n",
    "    band=\"i\",\n",
    ")\n",
    "\n",
    "\n",
    "visit_summary = butler.get(\n",
    "     \"finalVisitSummary\",\n",
    "     dataId=dataId,\n",
    "     collections=INPUT_DATA_COLL)\n",
    "\n",
    "\n",
    "# NOTE: Visit-level injections should instead use the visit summary table.\n",
    "detector_summary = visit_summary.find(dataId[\"detector\"])\n",
    "psf = detector_summary.getPsf()\n",
    "photo_calib = detector_summary.getPhotoCalib()\n",
    "wcs = detector_summary.getWcs()\n",
    "\n",
    "# Load input injection catalogs, here just for i-band catalogs.\n",
    "injection_refs = butler.registry.queryDatasets(\n",
    "    \"injection_catalog\",\n",
    "    band=\"i\",\n",
    "    collections=INJECTION_CATALOG_COLL,\n",
    ")\n",
    "injection_catalogs = [\n",
    "    butler.get(injection_ref) for injection_ref in injection_refs\n",
    "]\n",
    "\n",
    "# Instantiate the injection classes.\n",
    "inject_config = CoaddInjectConfig()\n",
    "inject_task = CoaddInjectTask(config=inject_config)\n",
    "\n",
    "# Run the source injection task.\n",
    "injected_output = inject_task.run(\n",
    "    injection_catalogs=injection_catalogs,\n",
    "    input_exposure=input_exposure.clone(),\n",
    "    psf=psf,\n",
    "    photo_calib=photo_calib,\n",
    "    wcs=wcs,\n",
    ")\n",
    "injected_exposure=injected_output.output_exposure\n",
    "injected_catalog=injected_output.output_catalog"
   ]
  }
 ],
 "metadata": {
  "kernelspec": {
   "display_name": "LSST pipeline",
   "language": "python",
   "name": "kmrakovc_lsst"
  },
  "language_info": {
   "codemirror_mode": {
    "name": "ipython",
    "version": 3
   },
   "file_extension": ".py",
   "mimetype": "text/x-python",
   "name": "python",
   "nbconvert_exporter": "python",
   "pygments_lexer": "ipython3",
   "version": "3.11.7"
  }
 },
 "nbformat": 4,
 "nbformat_minor": 5
}
