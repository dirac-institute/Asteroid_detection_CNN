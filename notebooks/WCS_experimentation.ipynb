{
 "cells": [
  {
   "cell_type": "code",
   "execution_count": 1,
   "id": "270ca61f",
   "metadata": {},
   "outputs": [
    {
     "name": "stderr",
     "output_type": "stream",
     "text": [
      "2024-04-13 03:57:35.749976: E external/local_xla/xla/stream_executor/cuda/cuda_dnn.cc:9261] Unable to register cuDNN factory: Attempting to register factory for plugin cuDNN when one has already been registered\n",
      "2024-04-13 03:57:35.750027: E external/local_xla/xla/stream_executor/cuda/cuda_fft.cc:607] Unable to register cuFFT factory: Attempting to register factory for plugin cuFFT when one has already been registered\n",
      "2024-04-13 03:57:35.750858: E external/local_xla/xla/stream_executor/cuda/cuda_blas.cc:1515] Unable to register cuBLAS factory: Attempting to register factory for plugin cuBLAS when one has already been registered\n",
      "2024-04-13 03:57:35.757147: I tensorflow/core/platform/cpu_feature_guard.cc:182] This TensorFlow binary is optimized to use available CPU instructions in performance-critical operations.\n",
      "To enable the following instructions: AVX2 FMA, in other operations, rebuild TensorFlow with the appropriate compiler flags.\n",
      "2024-04-13 03:57:39.608302: W tensorflow/compiler/tf2tensorrt/utils/py_utils.cc:38] TF-TRT Warning: Could not find TensorRT\n"
     ]
    }
   ],
   "source": [
    "import tensorflow as tf\n",
    "import sys\n",
    "sys.path.append(\"..\")\n",
    "import tools\n",
    "import matplotlib.pyplot as plt\n",
    "from astroML.crossmatch import crossmatch_angular\n",
    "import numpy as np\n",
    "from lsst.daf.butler import Butler\n",
    "import pandas as pd\n",
    "import multiprocessing\n",
    "import os\n",
    "%load_ext autoreload\n",
    "%autoreload 2"
   ]
  },
  {
   "cell_type": "code",
   "execution_count": 36,
   "id": "fa7d358d",
   "metadata": {},
   "outputs": [],
   "source": [
    "tfrecord_path = \"/astro/users/kmrakovc/Projects/LSST_Streak_Detection/DATA/test1.tfrecord\"\n",
    "val_index_path=\"/astro/users/kmrakovc/Projects/LSST_Streak_Detection/DATA/val_index1.npy\"\n",
    "repo_path =\"/epyc/ssd/users/kmrakovc/DATA/rc2_subset/SMALL_HSC/\"\n",
    "collection = \"u/kmrakovc/single_frame_injection_02\"\n",
    "model = \"../DATA/Trained_model1\"\n",
    "with open(val_index_path, 'rb') as f:\n",
    "    val_index = np.load(f)\n",
    "    val_index.sort()"
   ]
  },
  {
   "cell_type": "code",
   "execution_count": 37,
   "id": "8c4ec19f",
   "metadata": {},
   "outputs": [],
   "source": [
    "from lsst.daf.butler import Butler\n",
    "butler = Butler(repo_path)\n",
    "catalog_ref = list(butler.registry.queryDatasets(\"injected_postISRCCD_catalog\",\n",
    "                                                     collections=collection,\n",
    "                                                     instrument='HSC'))\n",
    "injected_calexp_ref = list(butler.registry.queryDatasets(\"injected_calexp\",\n",
    "                                             collections=collection,\n",
    "                                             instrument='HSC'))\n",
    "calexp_ref = list(butler.registry.queryDatasets(\"calexp\",\n",
    "                                             collections=collection,\n",
    "                                             instrument='HSC'))"
   ]
  },
  {
   "cell_type": "code",
   "execution_count": 38,
   "id": "830078f3",
   "metadata": {},
   "outputs": [],
   "source": [
    "i = val_index[0]\n",
    "injected_calexp = butler.get(\"injected_calexp\",\n",
    "                                 dataId=injected_calexp_ref[i].dataId,\n",
    "                                 collections=collection)\n",
    "calexp = butler.get(\"calexp\",\n",
    "                    dataId=calexp_ref[i].dataId,\n",
    "                    collections=collection)\n",
    "catalog = butler.get(\"injected_postISRCCD_catalog\",\n",
    "                         dataId=catalog_ref[i].dataId,\n",
    "                         collections=collection)\n"
   ]
  },
  {
   "cell_type": "code",
   "execution_count": 39,
   "id": "463bc521",
   "metadata": {},
   "outputs": [],
   "source": [
    "start = calexp.wcs.pixelToSky(0 ,0)\n",
    "end = calexp.wcs.pixelToSky(calexp.getDimensions()[0], calexp.getDimensions()[1])"
   ]
  },
  {
   "cell_type": "code",
   "execution_count": 40,
   "id": "86fa8609",
   "metadata": {},
   "outputs": [
    {
     "data": {
      "text/plain": [
       "(2048, 4176)"
      ]
     },
     "execution_count": 40,
     "metadata": {},
     "output_type": "execute_result"
    }
   ],
   "source": [
    "calexp.getDimensions()[0], calexp.getDimensions()[1]"
   ]
  },
  {
   "cell_type": "code",
   "execution_count": 41,
   "id": "b45d2d33",
   "metadata": {},
   "outputs": [
    {
     "data": {
      "text/plain": [
       "(Angle(150.40105702664883, degrees),\n",
       " Angle(2.1787852330284645, degrees),\n",
       " Angle(150.20551894755198, degrees),\n",
       " Angle(2.0826792661680118, degrees))"
      ]
     },
     "execution_count": 41,
     "metadata": {},
     "output_type": "execute_result"
    }
   ],
   "source": [
    "start.getRa(), start.getDec(), end.getRa(), end.getDec(), "
   ]
  },
  {
   "cell_type": "code",
   "execution_count": 42,
   "id": "5fb16707",
   "metadata": {},
   "outputs": [],
   "source": [
    "origin_calexp = calexp.getWcs().skyToPixelArray(np.array([catalog[\"ra\"]]), np.array([catalog[\"dec\"]]),\n",
    "                                                 degrees=True)\n",
    "origin_injected_calexp = injected_calexp.getWcs().skyToPixelArray(np.array([catalog[\"ra\"]]), np.array([catalog[\"dec\"]]),\n",
    "                                                 degrees=True)"
   ]
  },
  {
   "cell_type": "code",
   "execution_count": 48,
   "id": "a0ff5ae1",
   "metadata": {},
   "outputs": [
    {
     "data": {
      "text/html": [
       "<div><i>Table length=20</i>\n",
       "<table id=\"table140693876575504\" class=\"table-striped table-bordered table-condensed\">\n",
       "<thead><tr><th>injection_id</th><th>injection_flag</th><th>injection_draw_size</th><th>ra</th><th>dec</th><th>source_type</th><th>trail_length</th><th>mag</th><th>beta</th><th>visit</th></tr></thead>\n",
       "<thead><tr><th>int64</th><th>int64</th><th>int64</th><th>float64</th><th>float64</th><th>str5</th><th>int64</th><th>float64</th><th>float64</th><th>int64</th></tr></thead>\n",
       "<tr><td>171</td><td>0</td><td>44</td><td>150.2307805831983</td><td>2.1036396260277863</td><td>Trail</td><td>17</td><td>20.76765625663676</td><td>62.635660756196</td><td>1242</td></tr>\n",
       "<tr><td>172</td><td>0</td><td>44</td><td>150.35593550794263</td><td>2.134652524185544</td><td>Trail</td><td>17</td><td>23.748446306105862</td><td>41.24238387031755</td><td>1242</td></tr>\n",
       "<tr><td>173</td><td>0</td><td>146</td><td>150.29329695510796</td><td>2.164501500051809</td><td>Trail</td><td>71</td><td>26.962597208312552</td><td>66.05030543599453</td><td>1242</td></tr>\n",
       "<tr><td>174</td><td>0</td><td>124</td><td>150.22447306315473</td><td>2.148608501325771</td><td>Trail</td><td>60</td><td>22.78925880893416</td><td>30.379461896140775</td><td>1242</td></tr>\n",
       "<tr><td>175</td><td>0</td><td>118</td><td>150.35964712901264</td><td>2.106219295509819</td><td>Trail</td><td>57</td><td>20.11706926931431</td><td>145.8012753033758</td><td>1242</td></tr>\n",
       "<tr><td>176</td><td>0</td><td>82</td><td>150.3197901284553</td><td>2.1010682616603984</td><td>Trail</td><td>38</td><td>23.97096194767152</td><td>169.96700070639238</td><td>1242</td></tr>\n",
       "<tr><td>177</td><td>0</td><td>66</td><td>150.3100503629959</td><td>2.1142644658520964</td><td>Trail</td><td>30</td><td>25.013708249785985</td><td>54.10656188214591</td><td>1242</td></tr>\n",
       "<tr><td>178</td><td>0</td><td>124</td><td>150.27143899501453</td><td>2.177112472402571</td><td>Trail</td><td>60</td><td>22.81654037224018</td><td>110.57554644911244</td><td>1242</td></tr>\n",
       "<tr><td>179</td><td>0</td><td>112</td><td>150.30686760237307</td><td>2.170456281168106</td><td>Trail</td><td>54</td><td>25.13298277394862</td><td>74.48031194581128</td><td>1242</td></tr>\n",
       "<tr><td>180</td><td>0</td><td>90</td><td>150.2121664653982</td><td>2.0947028735670927</td><td>Trail</td><td>42</td><td>23.66805217136389</td><td>169.0528619982285</td><td>1242</td></tr>\n",
       "<tr><td>181</td><td>0</td><td>144</td><td>150.35819781452003</td><td>2.158302141334607</td><td>Trail</td><td>70</td><td>20.9263863091511</td><td>81.00908584252892</td><td>1242</td></tr>\n",
       "<tr><td>182</td><td>0</td><td>146</td><td>150.34415488834154</td><td>2.0914376243890387</td><td>Trail</td><td>71</td><td>25.915904169185005</td><td>148.76411549344112</td><td>1242</td></tr>\n",
       "<tr><td>183</td><td>0</td><td>42</td><td>150.28921251770709</td><td>2.1695279422109746</td><td>Trail</td><td>17</td><td>22.02541214010146</td><td>121.3175414522246</td><td>1242</td></tr>\n",
       "<tr><td>184</td><td>0</td><td>122</td><td>150.29004146426178</td><td>2.142277302566368</td><td>Trail</td><td>59</td><td>22.954707824934268</td><td>161.4208639666759</td><td>1242</td></tr>\n",
       "<tr><td>185</td><td>0</td><td>114</td><td>150.27615430208098</td><td>2.1055819108538403</td><td>Trail</td><td>55</td><td>22.421499315762027</td><td>10.676523709022804</td><td>1242</td></tr>\n",
       "<tr><td>186</td><td>0</td><td>136</td><td>150.2824900638409</td><td>2.1212565096846157</td><td>Trail</td><td>66</td><td>23.119501567341807</td><td>11.686828911104454</td><td>1242</td></tr>\n",
       "<tr><td>187</td><td>0</td><td>34</td><td>150.2750241065307</td><td>2.1175722885149244</td><td>Trail</td><td>11</td><td>26.45642231434807</td><td>84.0637893777588</td><td>1242</td></tr>\n",
       "<tr><td>188</td><td>0</td><td>34</td><td>150.38769838795494</td><td>2.0909988278178693</td><td>Trail</td><td>11</td><td>23.258387626354125</td><td>24.13141882283101</td><td>1242</td></tr>\n",
       "<tr><td>189</td><td>0</td><td>30</td><td>150.28328834281328</td><td>2.1711975963476076</td><td>Trail</td><td>8</td><td>26.243543487530324</td><td>15.675598489799413</td><td>1242</td></tr>\n",
       "<tr><td>190</td><td>0</td><td>142</td><td>150.3086097090586</td><td>2.1304196460759104</td><td>Trail</td><td>69</td><td>25.693184782686778</td><td>117.19050940939479</td><td>1242</td></tr>\n",
       "</table></div>"
      ],
      "text/plain": [
       "<Table length=20>\n",
       "injection_id injection_flag injection_draw_size ...        beta        visit\n",
       "   int64         int64             int64        ...      float64       int64\n",
       "------------ -------------- ------------------- ... ------------------ -----\n",
       "         171              0                  44 ...    62.635660756196  1242\n",
       "         172              0                  44 ...  41.24238387031755  1242\n",
       "         173              0                 146 ...  66.05030543599453  1242\n",
       "         174              0                 124 ... 30.379461896140775  1242\n",
       "         175              0                 118 ...  145.8012753033758  1242\n",
       "         176              0                  82 ... 169.96700070639238  1242\n",
       "         177              0                  66 ...  54.10656188214591  1242\n",
       "         178              0                 124 ... 110.57554644911244  1242\n",
       "         179              0                 112 ...  74.48031194581128  1242\n",
       "         180              0                  90 ...  169.0528619982285  1242\n",
       "         181              0                 144 ...  81.00908584252892  1242\n",
       "         182              0                 146 ... 148.76411549344112  1242\n",
       "         183              0                  42 ...  121.3175414522246  1242\n",
       "         184              0                 122 ...  161.4208639666759  1242\n",
       "         185              0                 114 ... 10.676523709022804  1242\n",
       "         186              0                 136 ... 11.686828911104454  1242\n",
       "         187              0                  34 ...   84.0637893777588  1242\n",
       "         188              0                  34 ...  24.13141882283101  1242\n",
       "         189              0                  30 ... 15.675598489799413  1242\n",
       "         190              0                 142 ... 117.19050940939479  1242"
      ]
     },
     "execution_count": 48,
     "metadata": {},
     "output_type": "execute_result"
    }
   ],
   "source": [
    "catalog[catalog[\"injection_flag\"]==0]"
   ]
  },
  {
   "cell_type": "code",
   "execution_count": 44,
   "id": "b4ed6f5d",
   "metadata": {},
   "outputs": [
    {
     "data": {
      "text/plain": [
       "(array([1599.88955016,  942.10869601,  301.83168007,  638.84417736,\n",
       "        1550.45387958, 1658.45659463, 1375.75447933,   32.07599416,\n",
       "         175.09547506, 1790.59254535,  436.56600817, 1865.84191445,\n",
       "         194.40922791,  776.28058378, 1559.97094688, 1225.09821678,\n",
       "        1303.54911276, 1878.08772681,  158.60592898, 1030.36043262,\n",
       "         -84.4138253 ,  -96.67768478]),\n",
       " array([3636.9014322 ,  965.2920732 , 2303.09434367, 3770.65948531,\n",
       "         885.45249761, 1737.32155493, 1945.51165283, 2769.42272626,\n",
       "        2013.6031667 , 4034.08087022,  917.09219486, 1216.29307025,\n",
       "        2390.26728178, 2372.5375418 , 2668.94038774, 2533.74623192,\n",
       "        2693.04559636,  284.2359307 , 2516.64460464, 1976.3149942 ,\n",
       "        2848.49427212,  193.21943921]))"
      ]
     },
     "execution_count": 44,
     "metadata": {},
     "output_type": "execute_result"
    }
   ],
   "source": [
    "origin_calexp"
   ]
  },
  {
   "cell_type": "code",
   "execution_count": 45,
   "id": "e0e667d7",
   "metadata": {},
   "outputs": [
    {
     "data": {
      "text/plain": [
       "(array([1599.88949317,  942.10878933,  301.83165011,  638.84411807,\n",
       "        1550.45402574, 1658.45663808, 1375.75449103,   32.0759189 ,\n",
       "         175.09543654, 1790.59254966,  436.56603158, 1865.84204635,\n",
       "         194.40918332,  776.28056663, 1559.97089835, 1225.09817724,\n",
       "        1303.54906092, 1878.08800122,  158.60587658, 1030.36044331,\n",
       "         -84.41392197,  -96.677934  ]),\n",
       " array([3636.90142481,  965.29230423, 2303.09425225, 3770.6594253 ,\n",
       "         885.45254338, 1737.32155946, 1945.51170299, 2769.42260226,\n",
       "        2013.60298924, 4034.08089194,  917.09229577, 1216.29294249,\n",
       "        2390.26715336, 2372.53755954, 2668.94043474, 2533.74625929,\n",
       "        2693.04561784,  284.23571153, 2516.64447852, 1976.31505894,\n",
       "        2848.49412751,  193.21915815]))"
      ]
     },
     "execution_count": 45,
     "metadata": {},
     "output_type": "execute_result"
    }
   ],
   "source": [
    "origin_injected_calexp"
   ]
  },
  {
   "cell_type": "code",
   "execution_count": 34,
   "id": "9bf06b37",
   "metadata": {},
   "outputs": [
    {
     "data": {
      "text/plain": [
       "(21,)"
      ]
     },
     "execution_count": 34,
     "metadata": {},
     "output_type": "execute_result"
    }
   ],
   "source": [
    "origin_calexp[0].shape"
   ]
  },
  {
   "cell_type": "code",
   "execution_count": null,
   "id": "e453741e",
   "metadata": {},
   "outputs": [],
   "source": []
  }
 ],
 "metadata": {
  "kernelspec": {
   "display_name": "LSST pipeline",
   "language": "python",
   "name": "kmrakovc_lsst"
  },
  "language_info": {
   "codemirror_mode": {
    "name": "ipython",
    "version": 3
   },
   "file_extension": ".py",
   "mimetype": "text/x-python",
   "name": "python",
   "nbconvert_exporter": "python",
   "pygments_lexer": "ipython3",
   "version": "3.11.7"
  }
 },
 "nbformat": 4,
 "nbformat_minor": 5
}
